{
  "nbformat": 4,
  "nbformat_minor": 0,
  "metadata": {
    "colab": {
      "name": "hoseo_AI.ipynb의 사본",
      "provenance": [],
      "collapsed_sections": []
    },
    "kernelspec": {
      "name": "python3",
      "display_name": "Python 3"
    },
    "language_info": {
      "name": "python"
    },
    "widgets": {
      "application/vnd.jupyter.widget-state+json": {
        "f70d7666e05f407c9d747d2521324f98": {
          "model_module": "@jupyter-widgets/controls",
          "model_name": "HBoxModel",
          "model_module_version": "1.5.0",
          "state": {
            "_view_name": "HBoxView",
            "_dom_classes": [],
            "_model_name": "HBoxModel",
            "_view_module": "@jupyter-widgets/controls",
            "_model_module_version": "1.5.0",
            "_view_count": null,
            "_view_module_version": "1.5.0",
            "box_style": "",
            "layout": "IPY_MODEL_489b9bfbc2d54fbf9e572c89479cc188",
            "_model_module": "@jupyter-widgets/controls",
            "children": [
              "IPY_MODEL_51e78dbd575947299f2a157a988494a7",
              "IPY_MODEL_6762922aa6b04bf5b66bb600945e9dd7",
              "IPY_MODEL_c4c8eb38ac10463c9cba70b013a5efb2"
            ]
          }
        },
        "489b9bfbc2d54fbf9e572c89479cc188": {
          "model_module": "@jupyter-widgets/base",
          "model_name": "LayoutModel",
          "model_module_version": "1.2.0",
          "state": {
            "_view_name": "LayoutView",
            "grid_template_rows": null,
            "right": null,
            "justify_content": null,
            "_view_module": "@jupyter-widgets/base",
            "overflow": null,
            "_model_module_version": "1.2.0",
            "_view_count": null,
            "flex_flow": null,
            "width": null,
            "min_width": null,
            "border": null,
            "align_items": null,
            "bottom": null,
            "_model_module": "@jupyter-widgets/base",
            "top": null,
            "grid_column": null,
            "overflow_y": null,
            "overflow_x": null,
            "grid_auto_flow": null,
            "grid_area": null,
            "grid_template_columns": null,
            "flex": null,
            "_model_name": "LayoutModel",
            "justify_items": null,
            "grid_row": null,
            "max_height": null,
            "align_content": null,
            "visibility": null,
            "align_self": null,
            "height": null,
            "min_height": null,
            "padding": null,
            "grid_auto_rows": null,
            "grid_gap": null,
            "max_width": null,
            "order": null,
            "_view_module_version": "1.2.0",
            "grid_template_areas": null,
            "object_position": null,
            "object_fit": null,
            "grid_auto_columns": null,
            "margin": null,
            "display": null,
            "left": null
          }
        },
        "51e78dbd575947299f2a157a988494a7": {
          "model_module": "@jupyter-widgets/controls",
          "model_name": "HTMLModel",
          "model_module_version": "1.5.0",
          "state": {
            "_view_name": "HTMLView",
            "style": "IPY_MODEL_66269c8d239a4765adb243fefc80223a",
            "_dom_classes": [],
            "description": "",
            "_model_name": "HTMLModel",
            "placeholder": "​",
            "_view_module": "@jupyter-widgets/controls",
            "_model_module_version": "1.5.0",
            "value": "Optimization Progress:  69%",
            "_view_count": null,
            "_view_module_version": "1.5.0",
            "description_tooltip": null,
            "_model_module": "@jupyter-widgets/controls",
            "layout": "IPY_MODEL_32aa9ba70d184a33b7ceff3842634e4f"
          }
        },
        "6762922aa6b04bf5b66bb600945e9dd7": {
          "model_module": "@jupyter-widgets/controls",
          "model_name": "FloatProgressModel",
          "model_module_version": "1.5.0",
          "state": {
            "_view_name": "ProgressView",
            "style": "IPY_MODEL_5372aa06b2f3469c8a75816aad51e007",
            "_dom_classes": [],
            "description": "",
            "_model_name": "FloatProgressModel",
            "bar_style": "danger",
            "max": 1050,
            "_view_module": "@jupyter-widgets/controls",
            "_model_module_version": "1.5.0",
            "value": 729,
            "_view_count": null,
            "_view_module_version": "1.5.0",
            "orientation": "horizontal",
            "min": 0,
            "description_tooltip": null,
            "_model_module": "@jupyter-widgets/controls",
            "layout": "IPY_MODEL_9870c8a6c573460497aa3dbeb26a6983"
          }
        },
        "c4c8eb38ac10463c9cba70b013a5efb2": {
          "model_module": "@jupyter-widgets/controls",
          "model_name": "HTMLModel",
          "model_module_version": "1.5.0",
          "state": {
            "_view_name": "HTMLView",
            "style": "IPY_MODEL_1c9ac82324fd4f52a6ec1d681f9cc0d0",
            "_dom_classes": [],
            "description": "",
            "_model_name": "HTMLModel",
            "placeholder": "​",
            "_view_module": "@jupyter-widgets/controls",
            "_model_module_version": "1.5.0",
            "value": " 729/1050 [5:27:59&lt;1:39:59, 18.69s/pipeline]",
            "_view_count": null,
            "_view_module_version": "1.5.0",
            "description_tooltip": null,
            "_model_module": "@jupyter-widgets/controls",
            "layout": "IPY_MODEL_d2afd26f4f724704b38b5f9dd40bb8e5"
          }
        },
        "66269c8d239a4765adb243fefc80223a": {
          "model_module": "@jupyter-widgets/controls",
          "model_name": "DescriptionStyleModel",
          "model_module_version": "1.5.0",
          "state": {
            "_view_name": "StyleView",
            "_model_name": "DescriptionStyleModel",
            "description_width": "",
            "_view_module": "@jupyter-widgets/base",
            "_model_module_version": "1.5.0",
            "_view_count": null,
            "_view_module_version": "1.2.0",
            "_model_module": "@jupyter-widgets/controls"
          }
        },
        "32aa9ba70d184a33b7ceff3842634e4f": {
          "model_module": "@jupyter-widgets/base",
          "model_name": "LayoutModel",
          "model_module_version": "1.2.0",
          "state": {
            "_view_name": "LayoutView",
            "grid_template_rows": null,
            "right": null,
            "justify_content": null,
            "_view_module": "@jupyter-widgets/base",
            "overflow": null,
            "_model_module_version": "1.2.0",
            "_view_count": null,
            "flex_flow": null,
            "width": null,
            "min_width": null,
            "border": null,
            "align_items": null,
            "bottom": null,
            "_model_module": "@jupyter-widgets/base",
            "top": null,
            "grid_column": null,
            "overflow_y": null,
            "overflow_x": null,
            "grid_auto_flow": null,
            "grid_area": null,
            "grid_template_columns": null,
            "flex": null,
            "_model_name": "LayoutModel",
            "justify_items": null,
            "grid_row": null,
            "max_height": null,
            "align_content": null,
            "visibility": null,
            "align_self": null,
            "height": null,
            "min_height": null,
            "padding": null,
            "grid_auto_rows": null,
            "grid_gap": null,
            "max_width": null,
            "order": null,
            "_view_module_version": "1.2.0",
            "grid_template_areas": null,
            "object_position": null,
            "object_fit": null,
            "grid_auto_columns": null,
            "margin": null,
            "display": null,
            "left": null
          }
        },
        "5372aa06b2f3469c8a75816aad51e007": {
          "model_module": "@jupyter-widgets/controls",
          "model_name": "ProgressStyleModel",
          "model_module_version": "1.5.0",
          "state": {
            "_view_name": "StyleView",
            "_model_name": "ProgressStyleModel",
            "description_width": "",
            "_view_module": "@jupyter-widgets/base",
            "_model_module_version": "1.5.0",
            "_view_count": null,
            "_view_module_version": "1.2.0",
            "bar_color": null,
            "_model_module": "@jupyter-widgets/controls"
          }
        },
        "9870c8a6c573460497aa3dbeb26a6983": {
          "model_module": "@jupyter-widgets/base",
          "model_name": "LayoutModel",
          "model_module_version": "1.2.0",
          "state": {
            "_view_name": "LayoutView",
            "grid_template_rows": null,
            "right": null,
            "justify_content": null,
            "_view_module": "@jupyter-widgets/base",
            "overflow": null,
            "_model_module_version": "1.2.0",
            "_view_count": null,
            "flex_flow": null,
            "width": null,
            "min_width": null,
            "border": null,
            "align_items": null,
            "bottom": null,
            "_model_module": "@jupyter-widgets/base",
            "top": null,
            "grid_column": null,
            "overflow_y": null,
            "overflow_x": null,
            "grid_auto_flow": null,
            "grid_area": null,
            "grid_template_columns": null,
            "flex": null,
            "_model_name": "LayoutModel",
            "justify_items": null,
            "grid_row": null,
            "max_height": null,
            "align_content": null,
            "visibility": null,
            "align_self": null,
            "height": null,
            "min_height": null,
            "padding": null,
            "grid_auto_rows": null,
            "grid_gap": null,
            "max_width": null,
            "order": null,
            "_view_module_version": "1.2.0",
            "grid_template_areas": null,
            "object_position": null,
            "object_fit": null,
            "grid_auto_columns": null,
            "margin": null,
            "display": null,
            "left": null
          }
        },
        "1c9ac82324fd4f52a6ec1d681f9cc0d0": {
          "model_module": "@jupyter-widgets/controls",
          "model_name": "DescriptionStyleModel",
          "model_module_version": "1.5.0",
          "state": {
            "_view_name": "StyleView",
            "_model_name": "DescriptionStyleModel",
            "description_width": "",
            "_view_module": "@jupyter-widgets/base",
            "_model_module_version": "1.5.0",
            "_view_count": null,
            "_view_module_version": "1.2.0",
            "_model_module": "@jupyter-widgets/controls"
          }
        },
        "d2afd26f4f724704b38b5f9dd40bb8e5": {
          "model_module": "@jupyter-widgets/base",
          "model_name": "LayoutModel",
          "model_module_version": "1.2.0",
          "state": {
            "_view_name": "LayoutView",
            "grid_template_rows": null,
            "right": null,
            "justify_content": null,
            "_view_module": "@jupyter-widgets/base",
            "overflow": null,
            "_model_module_version": "1.2.0",
            "_view_count": null,
            "flex_flow": null,
            "width": null,
            "min_width": null,
            "border": null,
            "align_items": null,
            "bottom": null,
            "_model_module": "@jupyter-widgets/base",
            "top": null,
            "grid_column": null,
            "overflow_y": null,
            "overflow_x": null,
            "grid_auto_flow": null,
            "grid_area": null,
            "grid_template_columns": null,
            "flex": null,
            "_model_name": "LayoutModel",
            "justify_items": null,
            "grid_row": null,
            "max_height": null,
            "align_content": null,
            "visibility": null,
            "align_self": null,
            "height": null,
            "min_height": null,
            "padding": null,
            "grid_auto_rows": null,
            "grid_gap": null,
            "max_width": null,
            "order": null,
            "_view_module_version": "1.2.0",
            "grid_template_areas": null,
            "object_position": null,
            "object_fit": null,
            "grid_auto_columns": null,
            "margin": null,
            "display": null,
            "left": null
          }
        }
      }
    }
  },
  "cells": [
    {
      "cell_type": "markdown",
      "metadata": {
        "id": "0t-r26jpQHfF"
      },
      "source": [
        "데이터 셋 형태 확인"
      ]
    },
    {
      "cell_type": "code",
      "metadata": {
        "colab": {
          "base_uri": "https://localhost:8080/"
        },
        "id": "DPRN-uCTQHVy",
        "outputId": "9ebf651d-8d36-45a2-b90a-5d68bbd8d4e0"
      },
      "source": [
        "import pandas as pd\n",
        "import ast\n",
        "\n",
        "\n",
        "\n",
        "\n",
        "\n",
        "#데이터 확인\n",
        "\n",
        "\n",
        "Train = pd.read_csv('/content/gdrive/MyDrive/hoseo_AI/AI_탐지트랙_대회(학습용데이터).csv', encoding='euc=kr')\n",
        "Test = pd.read_csv('/content/gdrive/MyDrive/hoseo_AI/AI_탐지트랙_대회(제출용데이터).csv', encoding='euc=kr')\n",
        "\n",
        "#feature_group_A => x\n",
        "data = ast.literal_eval(Train['Feature_Group_A'][0])\n",
        "print(len(data))\n",
        "\n",
        "#feature_group_B => y\n",
        "data = ast.literal_eval(Train['Feature_Group_B'][0])\n",
        "print(len(data))\n",
        "\n",
        "#feature_group_C => z\n",
        "\n",
        "#feature_group_C는 데이터가 str형태라서 딕셔너리로 변환하는 코드\n",
        "data = ast.literal_eval(Train['Feature_Group_C'][0])\n",
        "#딕셔너리 형태 'numstrings': 3312, 'avlength': 24.9393115942029, 'printabledist': [5963, 67, 449, 124, 398, 49, 90, 154, 326, 218, 65, 103, 491, 306, 802, 451, 1097, 727, 615, 602, 712, 633, 589, 508, 638, 529, 668, 759, 853, 531, 687, 738, 1020, 1084, 294, 733, 760, 831, 427, 336, 383, 782, 113, 83, 612, 327, 376, 542, 1055, 289, 527, 812, 883, 489, 558, 658, 314, 283, 145, 103, 223, 91, 99, 412, 244, 3157, 869, 1713, 1846, 5152, 913, 973, 1322, 2815, 321, 306, 2263, 990, 3001, 3620, 1423, 200, 3392, 2378, 4119, 1238, 438, 985, 806, 851, 113, 123, 181, 100, 75, 86], 'printables': 82599, 'entropy': 5.8347296238951945, 'paths': 0, 'urls': 39, 'registry': 0, 'MZ': 8\n",
        "print(len(data['printabledist']))\n",
        "print(type(data['numstrings']))\n",
        "print(type(data['avlength']))\n",
        "print(type(data['printables']))\n",
        "\n",
        "\n"
      ],
      "execution_count": null,
      "outputs": [
        {
          "output_type": "stream",
          "name": "stdout",
          "text": [
            "256\n",
            "256\n",
            "96\n",
            "<class 'int'>\n",
            "<class 'float'>\n",
            "<class 'int'>\n"
          ]
        }
      ]
    },
    {
      "cell_type": "code",
      "metadata": {
        "id": "8WqeHS9SQHTf"
      },
      "source": [
        "#차원 축소"
      ],
      "execution_count": null,
      "outputs": []
    },
    {
      "cell_type": "code",
      "metadata": {
        "id": "jZ6i_iQEQHRZ"
      },
      "source": [
        ""
      ],
      "execution_count": null,
      "outputs": []
    },
    {
      "cell_type": "code",
      "metadata": {
        "id": "ND6l-mL1QHPC"
      },
      "source": [
        ""
      ],
      "execution_count": null,
      "outputs": []
    },
    {
      "cell_type": "code",
      "metadata": {
        "id": "k-ejerxxQG4W"
      },
      "source": [
        ""
      ],
      "execution_count": null,
      "outputs": []
    },
    {
      "cell_type": "markdown",
      "metadata": {
        "id": "LiSadyOtMxyU"
      },
      "source": [
        "**3AutoML 모델 이용**\n",
        "\n",
        "https://colab.research.google.com/github/rpi-techfundamentals/spring2019-materials/blob/master/14-automl/01_auto_ml_tpot.ipynb#scrollTo=uhBlHuGpO2n6\n",
        "\n"
      ]
    },
    {
      "cell_type": "code",
      "metadata": {
        "colab": {
          "base_uri": "https://localhost:8080/"
        },
        "id": "GH_2tbxELDqp",
        "outputId": "f6a9c81c-b8f9-4a3f-cf99-833c975ca00b"
      },
      "source": [
        "# Install tpot on the server\n",
        "!pip install tpot\n",
        "!pip install -U scikit-learn"
      ],
      "execution_count": null,
      "outputs": [
        {
          "output_type": "stream",
          "name": "stdout",
          "text": [
            "Collecting tpot\n",
            "  Downloading TPOT-0.11.7-py3-none-any.whl (87 kB)\n",
            "\u001b[?25l\r\u001b[K     |███▊                            | 10 kB 18.6 MB/s eta 0:00:01\r\u001b[K     |███████▌                        | 20 kB 10.4 MB/s eta 0:00:01\r\u001b[K     |███████████▎                    | 30 kB 7.0 MB/s eta 0:00:01\r\u001b[K     |███████████████                 | 40 kB 4.4 MB/s eta 0:00:01\r\u001b[K     |██████████████████▉             | 51 kB 4.2 MB/s eta 0:00:01\r\u001b[K     |██████████████████████▋         | 61 kB 4.7 MB/s eta 0:00:01\r\u001b[K     |██████████████████████████▎     | 71 kB 4.9 MB/s eta 0:00:01\r\u001b[K     |██████████████████████████████  | 81 kB 5.5 MB/s eta 0:00:01\r\u001b[K     |████████████████████████████████| 87 kB 2.3 MB/s \n",
            "\u001b[?25hRequirement already satisfied: numpy>=1.16.3 in /usr/local/lib/python3.7/dist-packages (from tpot) (1.19.5)\n",
            "Requirement already satisfied: tqdm>=4.36.1 in /usr/local/lib/python3.7/dist-packages (from tpot) (4.62.3)\n",
            "Requirement already satisfied: scipy>=1.3.1 in /usr/local/lib/python3.7/dist-packages (from tpot) (1.4.1)\n",
            "Collecting update-checker>=0.16\n",
            "  Downloading update_checker-0.18.0-py3-none-any.whl (7.0 kB)\n",
            "Requirement already satisfied: pandas>=0.24.2 in /usr/local/lib/python3.7/dist-packages (from tpot) (1.1.5)\n",
            "Requirement already satisfied: joblib>=0.13.2 in /usr/local/lib/python3.7/dist-packages (from tpot) (1.0.1)\n",
            "Collecting xgboost>=1.1.0\n",
            "  Downloading xgboost-1.5.0-py3-none-manylinux2014_x86_64.whl (173.5 MB)\n",
            "\u001b[K     |████████████████████████████████| 173.5 MB 17 kB/s \n",
            "\u001b[?25hRequirement already satisfied: scikit-learn>=0.22.0 in /usr/local/lib/python3.7/dist-packages (from tpot) (0.22.2.post1)\n",
            "Collecting deap>=1.2\n",
            "  Downloading deap-1.3.1-cp37-cp37m-manylinux_2_5_x86_64.manylinux1_x86_64.manylinux_2_12_x86_64.manylinux2010_x86_64.whl (160 kB)\n",
            "\u001b[K     |████████████████████████████████| 160 kB 54.2 MB/s \n",
            "\u001b[?25hCollecting stopit>=1.1.1\n",
            "  Downloading stopit-1.1.2.tar.gz (18 kB)\n",
            "Requirement already satisfied: pytz>=2017.2 in /usr/local/lib/python3.7/dist-packages (from pandas>=0.24.2->tpot) (2018.9)\n",
            "Requirement already satisfied: python-dateutil>=2.7.3 in /usr/local/lib/python3.7/dist-packages (from pandas>=0.24.2->tpot) (2.8.2)\n",
            "Requirement already satisfied: six>=1.5 in /usr/local/lib/python3.7/dist-packages (from python-dateutil>=2.7.3->pandas>=0.24.2->tpot) (1.15.0)\n",
            "Requirement already satisfied: requests>=2.3.0 in /usr/local/lib/python3.7/dist-packages (from update-checker>=0.16->tpot) (2.23.0)\n",
            "Requirement already satisfied: certifi>=2017.4.17 in /usr/local/lib/python3.7/dist-packages (from requests>=2.3.0->update-checker>=0.16->tpot) (2021.5.30)\n",
            "Requirement already satisfied: idna<3,>=2.5 in /usr/local/lib/python3.7/dist-packages (from requests>=2.3.0->update-checker>=0.16->tpot) (2.10)\n",
            "Requirement already satisfied: chardet<4,>=3.0.2 in /usr/local/lib/python3.7/dist-packages (from requests>=2.3.0->update-checker>=0.16->tpot) (3.0.4)\n",
            "Requirement already satisfied: urllib3!=1.25.0,!=1.25.1,<1.26,>=1.21.1 in /usr/local/lib/python3.7/dist-packages (from requests>=2.3.0->update-checker>=0.16->tpot) (1.24.3)\n",
            "Building wheels for collected packages: stopit\n",
            "  Building wheel for stopit (setup.py) ... \u001b[?25l\u001b[?25hdone\n",
            "  Created wheel for stopit: filename=stopit-1.1.2-py3-none-any.whl size=11952 sha256=0384f2ff565d007beed9b13fd34e7f33aaba914bce408b5815613a1378342372\n",
            "  Stored in directory: /root/.cache/pip/wheels/e2/d2/79/eaf81edb391e27c87f51b8ef901ecc85a5363dc96b8b8d71e3\n",
            "Successfully built stopit\n",
            "Installing collected packages: xgboost, update-checker, stopit, deap, tpot\n",
            "  Attempting uninstall: xgboost\n",
            "    Found existing installation: xgboost 0.90\n",
            "    Uninstalling xgboost-0.90:\n",
            "      Successfully uninstalled xgboost-0.90\n",
            "Successfully installed deap-1.3.1 stopit-1.1.2 tpot-0.11.7 update-checker-0.18.0 xgboost-1.5.0\n",
            "Requirement already satisfied: scikit-learn in /usr/local/lib/python3.7/dist-packages (0.22.2.post1)\n",
            "Collecting scikit-learn\n",
            "  Downloading scikit_learn-1.0-cp37-cp37m-manylinux_2_12_x86_64.manylinux2010_x86_64.whl (23.1 MB)\n",
            "\u001b[K     |████████████████████████████████| 23.1 MB 70.3 MB/s \n",
            "\u001b[?25hCollecting threadpoolctl>=2.0.0\n",
            "  Downloading threadpoolctl-3.0.0-py3-none-any.whl (14 kB)\n",
            "Requirement already satisfied: joblib>=0.11 in /usr/local/lib/python3.7/dist-packages (from scikit-learn) (1.0.1)\n",
            "Requirement already satisfied: numpy>=1.14.6 in /usr/local/lib/python3.7/dist-packages (from scikit-learn) (1.19.5)\n",
            "Requirement already satisfied: scipy>=1.1.0 in /usr/local/lib/python3.7/dist-packages (from scikit-learn) (1.4.1)\n",
            "Installing collected packages: threadpoolctl, scikit-learn\n",
            "  Attempting uninstall: scikit-learn\n",
            "    Found existing installation: scikit-learn 0.22.2.post1\n",
            "    Uninstalling scikit-learn-0.22.2.post1:\n",
            "      Successfully uninstalled scikit-learn-0.22.2.post1\n",
            "Successfully installed scikit-learn-1.0 threadpoolctl-3.0.0\n"
          ]
        }
      ]
    },
    {
      "cell_type": "code",
      "metadata": {
        "id": "1vwNbqQiMjox"
      },
      "source": [
        "# pandas and numpy for data manipulation\n",
        "import pandas as pd\n",
        "import numpy as np\n",
        "\n",
        "\n",
        "from tpot import TPOTClassifier"
      ],
      "execution_count": null,
      "outputs": []
    },
    {
      "cell_type": "code",
      "metadata": {
        "colab": {
          "base_uri": "https://localhost:8080/"
        },
        "id": "4nyqsFUcMjrO",
        "outputId": "3cad7730-e0a3-41ea-a1b6-89b8932e3a23"
      },
      "source": [
        "\n",
        "#데이터 불러오기\n",
        "from google.colab import drive \n",
        "drive.mount('/content/gdrive/')\n",
        "\n"
      ],
      "execution_count": null,
      "outputs": [
        {
          "output_type": "stream",
          "name": "stdout",
          "text": [
            "Mounted at /content/gdrive/\n"
          ]
        }
      ]
    },
    {
      "cell_type": "code",
      "metadata": {
        "colab": {
          "base_uri": "https://localhost:8080/",
          "height": 244
        },
        "id": "c3oQfLOjnXsH",
        "outputId": "d8e6104b-cdbf-4739-ca78-cc4141dae9e9"
      },
      "source": [
        "from scipy.stats import skew, kurtosis\n",
        "Train = pd.read_csv('/content/gdrive/MyDrive/hoseo_AI/AI_탐지트랙_대회(학습용데이터).csv', encoding='euc=kr')\n",
        "Test = pd.read_csv('/content/gdrive/MyDrive/hoseo_AI/AI_탐지트랙_대회(제출용데이터).csv', encoding='euc=kr')\n",
        "\n",
        "A = ast.literal_eval(Train['Feature_Group_A'][0])\n",
        "print(kurtosis(A))\n",
        "print(skew(A))\n"
      ],
      "execution_count": null,
      "outputs": [
        {
          "output_type": "error",
          "ename": "NameError",
          "evalue": "ignored",
          "traceback": [
            "\u001b[0;31m---------------------------------------------------------------------------\u001b[0m",
            "\u001b[0;31mNameError\u001b[0m                                 Traceback (most recent call last)",
            "\u001b[0;32m<ipython-input-4-9905a128f7f4>\u001b[0m in \u001b[0;36m<module>\u001b[0;34m()\u001b[0m\n\u001b[1;32m      3\u001b[0m \u001b[0mTest\u001b[0m \u001b[0;34m=\u001b[0m \u001b[0mpd\u001b[0m\u001b[0;34m.\u001b[0m\u001b[0mread_csv\u001b[0m\u001b[0;34m(\u001b[0m\u001b[0;34m'/content/gdrive/MyDrive/hoseo_AI/AI_탐지트랙_대회(제출용데이터).csv'\u001b[0m\u001b[0;34m,\u001b[0m \u001b[0mencoding\u001b[0m\u001b[0;34m=\u001b[0m\u001b[0;34m'euc=kr'\u001b[0m\u001b[0;34m)\u001b[0m\u001b[0;34m\u001b[0m\u001b[0;34m\u001b[0m\u001b[0m\n\u001b[1;32m      4\u001b[0m \u001b[0;34m\u001b[0m\u001b[0m\n\u001b[0;32m----> 5\u001b[0;31m \u001b[0mA\u001b[0m \u001b[0;34m=\u001b[0m \u001b[0mast\u001b[0m\u001b[0;34m.\u001b[0m\u001b[0mliteral_eval\u001b[0m\u001b[0;34m(\u001b[0m\u001b[0mTrain\u001b[0m\u001b[0;34m[\u001b[0m\u001b[0;34m'Feature_Group_A'\u001b[0m\u001b[0;34m]\u001b[0m\u001b[0;34m[\u001b[0m\u001b[0;36m0\u001b[0m\u001b[0;34m]\u001b[0m\u001b[0;34m)\u001b[0m\u001b[0;34m\u001b[0m\u001b[0;34m\u001b[0m\u001b[0m\n\u001b[0m\u001b[1;32m      6\u001b[0m \u001b[0mprint\u001b[0m\u001b[0;34m(\u001b[0m\u001b[0mkurtosis\u001b[0m\u001b[0;34m(\u001b[0m\u001b[0mA\u001b[0m\u001b[0;34m)\u001b[0m\u001b[0;34m)\u001b[0m\u001b[0;34m\u001b[0m\u001b[0;34m\u001b[0m\u001b[0m\n\u001b[1;32m      7\u001b[0m \u001b[0mprint\u001b[0m\u001b[0;34m(\u001b[0m\u001b[0mskew\u001b[0m\u001b[0;34m(\u001b[0m\u001b[0mA\u001b[0m\u001b[0;34m)\u001b[0m\u001b[0;34m)\u001b[0m\u001b[0;34m\u001b[0m\u001b[0;34m\u001b[0m\u001b[0m\n",
            "\u001b[0;31mNameError\u001b[0m: name 'ast' is not defined"
          ]
        }
      ]
    },
    {
      "cell_type": "code",
      "metadata": {
        "id": "ibtGEb4hN9k_"
      },
      "source": [
        "import pandas as pd\n",
        "import ast\n",
        "from scipy.stats import skew, kurtosis\n",
        "\n",
        "#데이터 전처리\n",
        "\n",
        "Train = pd.read_csv('/content/gdrive/MyDrive/hoseo_AI/AI_탐지트랙_대회(학습용데이터).csv', encoding='euc=kr')\n",
        "Test = pd.read_csv('/content/gdrive/MyDrive/hoseo_AI/AI_탐지트랙_대회(제출용데이터).csv', encoding='euc=kr')\n",
        "\n",
        "#데이터 프레임 생성\n",
        "\n",
        "#테스트 피쳐\n",
        "data = ast.literal_eval(Train['Feature_Group_C'][0])\n",
        "\n",
        "A = ast.literal_eval(Train['Feature_Group_A'][0])\n",
        "\n",
        "Askew = skew(A)\n",
        "\n",
        "Akurtosis = kurtosis(A,fisher=True)\n",
        "\n",
        "A = np.array(A)\n",
        "A = np.std(A)\n",
        "\n",
        "\n",
        "\n",
        "B = ast.literal_eval(Train['Feature_Group_B'][0])\n",
        "\n",
        "\n",
        "Bskew = skew(B)\n",
        "\n",
        "Bkurtosis = kurtosis(B,fisher=True)\n",
        "\n",
        "B = np.array(B)\n",
        "B = np.std(B)\n",
        "\n",
        "printabledskew = skew(data['printabledist'])\n",
        "\n",
        "printabledkurtosis = kurtosis(data['printabledist'],fisher=True)\n",
        "\n",
        "printabled = np.array(data['printabledist'])\n",
        "\n",
        "\n",
        "printabled = np.std(printabled)\n",
        "\n",
        "\n",
        "\n",
        "df_train_features = pd.DataFrame({\n",
        "                                  'Feature_Group_A': A,\n",
        "                                  'Feature_Group_A_skew': Askew,\n",
        "                                  'Feature_Group_A_kurtosis':Akurtosis,\n",
        "                                  'Feature_Group_B': B,\n",
        "                                  'Feature_Group_B_skew': Bskew,\n",
        "                                  'Feature_Group_B_kurtosis':Bkurtosis,\n",
        "                                  'numstrings' : data['numstrings'],\n",
        "                                  'avlength': data['avlength'],\n",
        "                                  'printabledist':printabled,\n",
        "                                  'printabledist_skew': printabledskew,\n",
        "                                  'printabledist_kurtosis':printabledkurtosis,                                 \n",
        "                                  'printables' : data['printables'],\n",
        "                                  'entropy': data['entropy'],\n",
        "                                  'paths' : data['paths'],\n",
        "                                  'urls' : data['urls'],\n",
        "                                  'registry' : data['registry'],\n",
        "                                  'MZ' : data['MZ'],\n",
        "\n",
        "                                  \n",
        "},index=[0])\n",
        "for i in range(1,len(Train)):\n",
        "  data = ast.literal_eval(Train['Feature_Group_C'][i])\n",
        "\n",
        "  A = ast.literal_eval(Train['Feature_Group_A'][i])\n",
        "\n",
        "  Askew = skew(A)\n",
        "\n",
        "  Akurtosis = kurtosis(A,fisher=True)\n",
        "\n",
        "  A = np.array(A)\n",
        "  A = np.std(A)\n",
        "\n",
        "\n",
        "\n",
        "  B = ast.literal_eval(Train['Feature_Group_B'][i])\n",
        "\n",
        "\n",
        "  Bskew = skew(B)\n",
        "\n",
        "  Bkurtosis = kurtosis(B,fisher=True)\n",
        "\n",
        "  B = np.array(B)\n",
        "  B = np.std(B)\n",
        "\n",
        "  printabledskew = skew(data['printabledist'])\n",
        "\n",
        "  printabledkurtosis = kurtosis(data['printabledist'],fisher=True)\n",
        "\n",
        "  printabled = np.array(data['printabledist'])\n",
        "\n",
        "\n",
        "  printabled = np.std(printabled)\n",
        "\n",
        "\n",
        "  new_df ={\n",
        "                                  'Feature_Group_A': A,\n",
        "                                  'Feature_Group_A_skew': Askew,\n",
        "                                  'Feature_Group_A_kurtosis':Akurtosis,\n",
        "                                  'Feature_Group_B': B,\n",
        "                                   'Feature_Group_B_skew': Bskew,\n",
        "                                  'Feature_Group_B_kurtosis':Bkurtosis,\n",
        "                                  'numstrings' : data['numstrings'],\n",
        "                                  'avlength': data['avlength'],\n",
        "                                  'printabledist':printabled,\n",
        "                                   'printabledist_skew': printabledskew,\n",
        "                                  'printabledist_kurtosis':printabledkurtosis,   \n",
        "                                  'printables' : data['printables'],\n",
        "                                  'entropy': data['entropy'],\n",
        "                                  'paths' : data['paths'],\n",
        "                                  'urls' : data['urls'],\n",
        "                                  'registry' : data['registry'],\n",
        "                                  'MZ' : data['MZ']\n",
        "}\n",
        "  new_df = pd.DataFrame(new_df,index=[i])\n",
        "\n",
        "  df_train_features = pd.concat([df_train_features,new_df], sort=False)\n",
        "\n",
        "\n",
        "  \n",
        "\n",
        "\n",
        "\n",
        "#테스트 피처\n",
        "\n",
        "\n",
        "data = ast.literal_eval(Test['Feature_Group_C'][0])\n",
        "\n",
        "A = ast.literal_eval(Test['Feature_Group_A'][0])\n",
        "\n",
        "Askew = skew(A)\n",
        "\n",
        "Akurtosis = kurtosis(A,fisher=True)\n",
        "\n",
        "A = np.array(A)\n",
        "A = np.std(A)\n",
        "\n",
        "B = ast.literal_eval(Test['Feature_Group_B'][0])\n",
        "\n",
        "Bskew = skew(B)\n",
        "\n",
        "Bkurtosis = kurtosis(B,fisher=True)\n",
        "\n",
        "B = np.array(B)\n",
        "B = np.std(B)\n",
        "\n",
        "\n",
        "printabledskew = skew(data['printabledist'])\n",
        "\n",
        "printabledkurtosis = kurtosis(data['printabledist'],fisher=True)\n",
        "\n",
        "\n",
        "printabled = np.array(data['printabledist'])\n",
        "printabled = np.std(printabled)\n",
        "\n",
        "\n",
        "\n",
        "df_test_features = pd.DataFrame({\n",
        "                                  'Feature_Group_A': A,\n",
        "                                  'Feature_Group_A_skew': Askew,\n",
        "                                  'Feature_Group_A_kurtosis':Akurtosis,\n",
        "                                  'Feature_Group_B': B,\n",
        "                                  'Feature_Group_B_skew': Bskew,\n",
        "                                  'Feature_Group_B_kurtosis':Bkurtosis,\n",
        "                                  'numstrings' : data['numstrings'],\n",
        "                                  'avlength': data['avlength'],\n",
        "                                  'printabledist':printabled,\n",
        "                                 'printabledist_skew': printabledskew,\n",
        "                                  'printabledist_kurtosis':printabledkurtosis,   \n",
        "                                  'printables' : data['printables'],\n",
        "                                  'entropy': data['entropy'],\n",
        "                                  'paths' : data['paths'],\n",
        "                                  'urls' : data['urls'],\n",
        "                                  'registry' : data['registry'],\n",
        "                                  'MZ' : data['MZ']\n",
        "},index=[0])\n",
        "\n",
        "\n",
        "\n",
        "for i in range(1,len(Test)):\n",
        "  data = ast.literal_eval(Test['Feature_Group_C'][i])\n",
        "\n",
        "  A = ast.literal_eval(Test['Feature_Group_A'][i])\n",
        "\n",
        "  Askew = skew(A)\n",
        "\n",
        "  Akurtosis = kurtosis(A,fisher=True)\n",
        "\n",
        "  A = np.array(A)\n",
        "  A = np.std(A)\n",
        "\n",
        "\n",
        "\n",
        "  B = ast.literal_eval(Test['Feature_Group_B'][i])\n",
        "\n",
        "\n",
        "  Bskew = skew(B)\n",
        "\n",
        "  Bkurtosis = kurtosis(B,fisher=True)\n",
        "\n",
        "  B = np.array(B)\n",
        "  B = np.std(B)\n",
        "\n",
        "  printabledskew = skew(data['printabledist'])\n",
        "\n",
        "  printabledkurtosis = kurtosis(data['printabledist'],fisher=True)\n",
        "\n",
        "  printabled = np.array(data['printabledist'])\n",
        "\n",
        "\n",
        "  printabled = np.std(printabled)\n",
        "\n",
        "\n",
        "  new_df ={\n",
        "                                  'Feature_Group_A': A,\n",
        "                                  'Feature_Group_A_skew': Askew,\n",
        "                                  'Feature_Group_A_kurtosis':Akurtosis,\n",
        "                                  'Feature_Group_B': B,\n",
        "                                   'Feature_Group_B_skew': Bskew,\n",
        "                                  'Feature_Group_B_kurtosis':Bkurtosis,\n",
        "                                  'numstrings' : data['numstrings'],\n",
        "                                  'avlength': data['avlength'],\n",
        "                                  'printabledist':printabled,\n",
        "                                   'printabledist_skew': printabledskew,\n",
        "                                  'printabledist_kurtosis':printabledkurtosis,   \n",
        "                                  'printables' : data['printables'],\n",
        "                                  'entropy': data['entropy'],\n",
        "                                  'paths' : data['paths'],\n",
        "                                  'urls' : data['urls'],\n",
        "                                  'registry' : data['registry'],\n",
        "                                  'MZ' : data['MZ']\n",
        "}\n",
        "  new_df = pd.DataFrame(new_df,index=[i])\n",
        "\n",
        "  df_test_features = pd.concat([df_test_features,new_df], sort=False)\n",
        "\n",
        "\n",
        "\n",
        "\n",
        "df_train_label = Train['label']\n",
        "\n",
        "\n"
      ],
      "execution_count": null,
      "outputs": []
    },
    {
      "cell_type": "code",
      "metadata": {
        "id": "ffs9IkzGq0hl"
      },
      "source": [
        ""
      ],
      "execution_count": null,
      "outputs": []
    },
    {
      "cell_type": "code",
      "metadata": {
        "id": "AxqgogImMjt0"
      },
      "source": [
        "\n",
        "df_train_features.style.hide_index()\n",
        "df_test_features.style.hide_index()\n",
        "\n",
        "# Convert to numpy arrays\n",
        "training_features = np.array(df_train_features)\n",
        "testing_features = np.array(df_test_features)\n",
        "\n",
        "\n",
        "\n",
        "\n",
        "\n",
        "\n",
        "# Sklearn wants the labels as one-dimensional vectors\n",
        "\n",
        "training_targets = np.array(df_train_label).reshape((-1,))\n"
      ],
      "execution_count": null,
      "outputs": []
    },
    {
      "cell_type": "code",
      "metadata": {
        "id": "Mf8DvjbpMjwJ"
      },
      "source": [
        "# Create a tpot object with a few parameters\n",
        "tpot = TPOTClassifier(generations=20,\n",
        "                      population_size = 50,\n",
        "                      verbosity = 2,\n",
        "                      random_state = 42,\n",
        "                      scoring = 'f1'\n",
        "                      )"
      ],
      "execution_count": null,
      "outputs": []
    },
    {
      "cell_type": "code",
      "metadata": {
        "colab": {
          "base_uri": "https://localhost:8080/",
          "height": 735,
          "referenced_widgets": [
            "f70d7666e05f407c9d747d2521324f98",
            "489b9bfbc2d54fbf9e572c89479cc188",
            "51e78dbd575947299f2a157a988494a7",
            "6762922aa6b04bf5b66bb600945e9dd7",
            "c4c8eb38ac10463c9cba70b013a5efb2",
            "66269c8d239a4765adb243fefc80223a",
            "32aa9ba70d184a33b7ceff3842634e4f",
            "5372aa06b2f3469c8a75816aad51e007",
            "9870c8a6c573460497aa3dbeb26a6983",
            "1c9ac82324fd4f52a6ec1d681f9cc0d0",
            "d2afd26f4f724704b38b5f9dd40bb8e5"
          ]
        },
        "id": "JgnRcWKUMjyb",
        "outputId": "b53a15f2-be8a-4cd0-daef-26fac605f8cc"
      },
      "source": [
        "\n",
        "\n",
        "tpot.fit(training_features, training_targets)"
      ],
      "execution_count": null,
      "outputs": [
        {
          "data": {
            "application/vnd.jupyter.widget-view+json": {
              "model_id": "f70d7666e05f407c9d747d2521324f98",
              "version_major": 2,
              "version_minor": 0
            },
            "text/plain": [
              "Optimization Progress:   0%|          | 0/1050 [00:00<?, ?pipeline/s]"
            ]
          },
          "metadata": {},
          "output_type": "display_data"
        },
        {
          "output_type": "stream",
          "name": "stdout",
          "text": [
            "\n",
            "Generation 1 - Current best internal CV score: 0.8872150471604467\n",
            "\n",
            "Generation 2 - Current best internal CV score: 0.888003469949\n",
            "\n",
            "Generation 3 - Current best internal CV score: 0.888003469949\n",
            "\n",
            "Generation 4 - Current best internal CV score: 0.8944359927357525\n",
            "\n",
            "Generation 5 - Current best internal CV score: 0.8944359927357525\n",
            "\n",
            "Generation 6 - Current best internal CV score: 0.894684081989892\n",
            "\n",
            "Generation 7 - Current best internal CV score: 0.894684081989892\n",
            "\n",
            "Generation 8 - Current best internal CV score: 0.8966051111977993\n",
            "\n",
            "Generation 9 - Current best internal CV score: 0.8966051111977993\n",
            "\n",
            "Generation 10 - Current best internal CV score: 0.8966431465619575\n",
            "\n",
            "Generation 11 - Current best internal CV score: 0.8966431465619575\n",
            "\n",
            "Generation 12 - Current best internal CV score: 0.8978683849462374\n",
            "\n",
            "Generation 13 - Current best internal CV score: 0.8978816985887697\n",
            "\n",
            "\n",
            "TPOT closed during evaluation in one generation.\n",
            "WARNING: TPOT may not provide a good pipeline if TPOT is stopped/interrupted in a early generation.\n",
            "\n",
            "\n",
            "TPOT closed prematurely. Will use the current best pipeline.\n",
            "\n",
            "Best pipeline: RandomForestClassifier(PolynomialFeatures(input_matrix, degree=2, include_bias=False, interaction_only=False), bootstrap=False, criterion=entropy, max_features=0.25, min_samples_leaf=3, min_samples_split=4, n_estimators=100)\n"
          ]
        },
        {
          "output_type": "execute_result",
          "data": {
            "text/plain": [
              "TPOTClassifier(generations=20, population_size=50, random_state=42,\n",
              "               scoring='f1', verbosity=2)"
            ]
          },
          "metadata": {},
          "execution_count": 10
        }
      ]
    },
    {
      "cell_type": "code",
      "metadata": {
        "id": "_oeFPkbAMj0x",
        "colab": {
          "base_uri": "https://localhost:8080/"
        },
        "outputId": "65f79def-5ffb-4ae0-f1ef-e3eb0e8a40da"
      },
      "source": [
        "# Show the final model\n",
        "print(tpot.fitted_pipeline_)"
      ],
      "execution_count": null,
      "outputs": [
        {
          "output_type": "stream",
          "name": "stdout",
          "text": [
            "Pipeline(steps=[('polynomialfeatures', PolynomialFeatures(include_bias=False)),\n",
            "                ('randomforestclassifier',\n",
            "                 RandomForestClassifier(bootstrap=False, criterion='entropy',\n",
            "                                        max_features=0.25, min_samples_leaf=3,\n",
            "                                        min_samples_split=4,\n",
            "                                        random_state=42))])\n"
          ]
        }
      ]
    },
    {
      "cell_type": "code",
      "metadata": {
        "id": "15sr3tmEiaBn"
      },
      "source": [
        "# Export the pipeline as a python script file\n",
        "tpot.export('tpot_exported_pipeline2.py')"
      ],
      "execution_count": null,
      "outputs": []
    },
    {
      "cell_type": "code",
      "metadata": {
        "colab": {
          "base_uri": "https://localhost:8080/",
          "height": 17
        },
        "id": "O1W-AKTDuUSR",
        "outputId": "255b24f2-a699-48cf-e8bd-40374203f958"
      },
      "source": [
        "# Import file management\n",
        "from google.colab import files\n",
        "# Download the pipeline for local use\n",
        "files.download('tpot_exported_pipeline2.py')"
      ],
      "execution_count": null,
      "outputs": [
        {
          "output_type": "display_data",
          "data": {
            "application/javascript": [
              "\n",
              "    async function download(id, filename, size) {\n",
              "      if (!google.colab.kernel.accessAllowed) {\n",
              "        return;\n",
              "      }\n",
              "      const div = document.createElement('div');\n",
              "      const label = document.createElement('label');\n",
              "      label.textContent = `Downloading \"${filename}\": `;\n",
              "      div.appendChild(label);\n",
              "      const progress = document.createElement('progress');\n",
              "      progress.max = size;\n",
              "      div.appendChild(progress);\n",
              "      document.body.appendChild(div);\n",
              "\n",
              "      const buffers = [];\n",
              "      let downloaded = 0;\n",
              "\n",
              "      const channel = await google.colab.kernel.comms.open(id);\n",
              "      // Send a message to notify the kernel that we're ready.\n",
              "      channel.send({})\n",
              "\n",
              "      for await (const message of channel.messages) {\n",
              "        // Send a message to notify the kernel that we're ready.\n",
              "        channel.send({})\n",
              "        if (message.buffers) {\n",
              "          for (const buffer of message.buffers) {\n",
              "            buffers.push(buffer);\n",
              "            downloaded += buffer.byteLength;\n",
              "            progress.value = downloaded;\n",
              "          }\n",
              "        }\n",
              "      }\n",
              "      const blob = new Blob(buffers, {type: 'application/binary'});\n",
              "      const a = document.createElement('a');\n",
              "      a.href = window.URL.createObjectURL(blob);\n",
              "      a.download = filename;\n",
              "      div.appendChild(a);\n",
              "      a.click();\n",
              "      div.remove();\n",
              "    }\n",
              "  "
            ],
            "text/plain": [
              "<IPython.core.display.Javascript object>"
            ]
          },
          "metadata": {}
        },
        {
          "output_type": "display_data",
          "data": {
            "application/javascript": [
              "download(\"download_93efb514-f30e-4e37-a26d-e2b8d8fe88e3\", \"tpot_exported_pipeline2.py\", 1209)"
            ],
            "text/plain": [
              "<IPython.core.display.Javascript object>"
            ]
          },
          "metadata": {}
        }
      ]
    },
    {
      "cell_type": "code",
      "metadata": {
        "colab": {
          "base_uri": "https://localhost:8080/"
        },
        "id": "mnrR93bBvnWX",
        "outputId": "49d92153-3970-4e2c-e3c3-cdd06b406df7"
      },
      "source": [
        "tpot.export"
      ],
      "execution_count": null,
      "outputs": [
        {
          "output_type": "execute_result",
          "data": {
            "text/plain": [
              "<bound method TPOTBase.export of TPOTClassifier(generations=12, population_size=50, random_state=42,\n",
              "               scoring='f1', verbosity=2)>"
            ]
          },
          "metadata": {},
          "execution_count": 17
        }
      ]
    },
    {
      "cell_type": "code",
      "metadata": {
        "id": "Au8lGSz6fhc7"
      },
      "source": [
        "import numpy as np\n",
        "import pandas as pd\n",
        "from sklearn.ensemble import ExtraTreesClassifier, RandomForestClassifier\n",
        "from sklearn.model_selection import train_test_split\n",
        "from sklearn.pipeline import make_pipeline, make_union\n",
        "from tpot.builtins import StackingEstimator\n",
        "from tpot.export_utils import set_param_recursive\n",
        "\n",
        "# Average CV score on the training set was: 0.8917182991030398\n",
        "exported_pipeline = make_pipeline(\n",
        "    StackingEstimator(estimator=ExtraTreesClassifier(bootstrap=False, criterion=\"entropy\", max_features=0.7500000000000001, min_samples_leaf=2, min_samples_split=6, n_estimators=100)),\n",
        "    RandomForestClassifier(bootstrap=True, criterion=\"gini\", max_features=0.2, min_samples_leaf=8, min_samples_split=4, n_estimators=100)\n",
        ")\n",
        "\n"
      ],
      "execution_count": null,
      "outputs": []
    },
    {
      "cell_type": "code",
      "metadata": {
        "id": "_6bB8JUufhYj"
      },
      "source": [
        "# Fix random state for all the steps in exported pipeline\n",
        "set_param_recursive(exported_pipeline.steps, 'random_state', 42)"
      ],
      "execution_count": null,
      "outputs": []
    },
    {
      "cell_type": "code",
      "metadata": {
        "colab": {
          "base_uri": "https://localhost:8080/"
        },
        "id": "yoVk-k_bNT6B",
        "outputId": "78ed438a-d65c-4aa4-cda2-11eaba58b741"
      },
      "source": [
        "\n",
        "exported_pipeline.fit(training_features, training_targets)\n"
      ],
      "execution_count": null,
      "outputs": [
        {
          "output_type": "execute_result",
          "data": {
            "text/plain": [
              "Pipeline(steps=[('stackingestimator',\n",
              "                 StackingEstimator(estimator=ExtraTreesClassifier(criterion='entropy',\n",
              "                                                                  max_features=0.7500000000000001,\n",
              "                                                                  min_samples_leaf=2,\n",
              "                                                                  min_samples_split=6,\n",
              "                                                                  random_state=42))),\n",
              "                ('randomforestclassifier',\n",
              "                 RandomForestClassifier(max_features=0.2, min_samples_leaf=8,\n",
              "                                        min_samples_split=4,\n",
              "                                        random_state=42))])"
            ]
          },
          "metadata": {},
          "execution_count": 31
        }
      ]
    },
    {
      "cell_type": "code",
      "metadata": {
        "id": "P6UYuMuINb1a"
      },
      "source": [
        "results= exported_pipeline.predict(training_features)"
      ],
      "execution_count": null,
      "outputs": []
    },
    {
      "cell_type": "code",
      "metadata": {
        "colab": {
          "base_uri": "https://localhost:8080/"
        },
        "id": "fu6dxoUiNkVa",
        "outputId": "9f011248-6152-480b-ca6f-e37d0af2c56c"
      },
      "source": [
        "print(results)"
      ],
      "execution_count": null,
      "outputs": [
        {
          "output_type": "stream",
          "name": "stdout",
          "text": [
            "[1 1 0 ... 0 1 0]\n"
          ]
        }
      ]
    },
    {
      "cell_type": "code",
      "metadata": {
        "colab": {
          "base_uri": "https://localhost:8080/"
        },
        "id": "-or_rU-qOyoS",
        "outputId": "fad59162-8be1-4a29-b72b-3e6e4110ec36"
      },
      "source": [
        "print(testing_features)"
      ],
      "execution_count": null,
      "outputs": [
        {
          "output_type": "stream",
          "name": "stdout",
          "text": [
            "[[5.18805258e+03 1.14771417e+04 1.56000000e+03 ... 1.08000000e+02\n",
            "  0.00000000e+00 5.00000000e+00]\n",
            " [3.61134583e+02 7.25278948e+03 1.66400000e+03 ... 1.00000000e+00\n",
            "  0.00000000e+00 6.00000000e+00]\n",
            " [4.12520049e+03 6.89399650e+03 1.11100000e+03 ... 0.00000000e+00\n",
            "  0.00000000e+00 4.00000000e+00]\n",
            " ...\n",
            " [7.08648314e+03 9.80985779e+03 4.52300000e+03 ... 3.70000000e+01\n",
            "  0.00000000e+00 1.00000000e+00]\n",
            " [8.62528566e+03 1.66449631e+04 5.34700000e+03 ... 2.00000000e+00\n",
            "  1.40000000e+01 4.00000000e+00]\n",
            " [2.10244063e+03 1.12426131e+04 5.06300000e+03 ... 1.00000000e+00\n",
            "  1.00000000e+00 1.10000000e+01]]\n"
          ]
        }
      ]
    },
    {
      "cell_type": "code",
      "metadata": {
        "id": "aRIL1JZRPa-w"
      },
      "source": [
        "results= exported_pipeline.predict(testing_features)"
      ],
      "execution_count": null,
      "outputs": []
    },
    {
      "cell_type": "code",
      "metadata": {
        "id": "3PKVFUusMj5d"
      },
      "source": [
        ""
      ],
      "execution_count": null,
      "outputs": []
    },
    {
      "cell_type": "markdown",
      "metadata": {
        "id": "E6o3p68dL7eF"
      },
      "source": [
        "3번째\n"
      ]
    },
    {
      "cell_type": "code",
      "metadata": {
        "id": "pQcTUyDcL9wj"
      },
      "source": [
        "import numpy as np\n",
        "import pandas as pd\n",
        "from sklearn.ensemble import RandomForestClassifier\n",
        "from sklearn.model_selection import train_test_split\n",
        "from sklearn.pipeline import make_pipeline\n",
        "from sklearn.preprocessing import PolynomialFeatures\n",
        "from tpot.export_utils import set_param_recursive\n",
        "\n",
        "\n",
        "# Average CV score on the training set was: 0.8978816985887697\n",
        "exported_pipeline = make_pipeline(\n",
        "    PolynomialFeatures(degree=2, include_bias=False, interaction_only=False),\n",
        "    RandomForestClassifier(bootstrap=False, criterion=\"entropy\", max_features=0.25, min_samples_leaf=3, min_samples_split=4, n_estimators=100)\n",
        ")\n",
        "\n",
        "\n"
      ],
      "execution_count": null,
      "outputs": []
    },
    {
      "cell_type": "code",
      "metadata": {
        "id": "8Fkm7REuL9t_"
      },
      "source": [
        "# Fix random state for all the steps in exported pipeline\n",
        "set_param_recursive(exported_pipeline.steps, 'random_state', 42)\n"
      ],
      "execution_count": null,
      "outputs": []
    },
    {
      "cell_type": "code",
      "metadata": {
        "id": "UJ-3kYIZL9g-",
        "colab": {
          "base_uri": "https://localhost:8080/"
        },
        "outputId": "b0bc4520-be47-4504-934e-e216f3960351"
      },
      "source": [
        "exported_pipeline.fit(training_features, training_targets)"
      ],
      "execution_count": null,
      "outputs": [
        {
          "output_type": "execute_result",
          "data": {
            "text/plain": [
              "Pipeline(steps=[('polynomialfeatures', PolynomialFeatures(include_bias=False)),\n",
              "                ('randomforestclassifier',\n",
              "                 RandomForestClassifier(bootstrap=False, criterion='entropy',\n",
              "                                        max_features=0.25, min_samples_leaf=3,\n",
              "                                        min_samples_split=4,\n",
              "                                        random_state=42))])"
            ]
          },
          "metadata": {},
          "execution_count": 15
        }
      ]
    },
    {
      "cell_type": "code",
      "metadata": {
        "id": "IbIX94lq0NBq"
      },
      "source": [
        "results = exported_pipeline.predict(testing_features)"
      ],
      "execution_count": null,
      "outputs": []
    },
    {
      "cell_type": "code",
      "metadata": {
        "id": "V8wZxhVA0XfK"
      },
      "source": [
        "test_label = pd.read_csv('/content/gdrive/MyDrive/hoseo_AI/세얼간이_1차.csv')\n",
        "\n",
        "df_test_label = pd.DataFrame({'분석대상': Test['분석대상'][0],\n",
        "                              '정답지' : results[0]\n",
        "                                  \n",
        "},index=[0])\n",
        "\n",
        "for i in range(1,len(Test)):\n",
        "  new_df_test_label = {'분석대상': Test['분석대상'][i],\n",
        "                              '정답지' : int(results[i])\n",
        "                                  \n",
        "}\n",
        "  new_df_test_label = pd.DataFrame(new_df_test_label,index=[i])\n",
        "\n",
        "  df_test_label = pd.concat([df_test_label,new_df_test_label], sort=False)\n",
        "df_test_label.to_csv('/content/gdrive/MyDrive/hoseo_AI/세얼간이_3_1차.csv',index=False)"
      ],
      "execution_count": null,
      "outputs": []
    }
  ]
}