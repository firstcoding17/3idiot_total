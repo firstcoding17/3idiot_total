{
  "nbformat": 4,
  "nbformat_minor": 0,
  "metadata": {
    "colab": {
      "name": "hoseo_AI.ipynb의 사본",
      "provenance": [],
      "collapsed_sections": []
    },
    "kernelspec": {
      "name": "python3",
      "display_name": "Python 3"
    },
    "language_info": {
      "name": "python"
    },
    "widgets": {
      "application/vnd.jupyter.widget-state+json": {
        "eb7286b4b00c4143b7777e793f8a1ada": {
          "model_module": "@jupyter-widgets/controls",
          "model_name": "HBoxModel",
          "model_module_version": "1.5.0",
          "state": {
            "_view_name": "HBoxView",
            "_dom_classes": [],
            "_model_name": "HBoxModel",
            "_view_module": "@jupyter-widgets/controls",
            "_model_module_version": "1.5.0",
            "_view_count": null,
            "_view_module_version": "1.5.0",
            "box_style": "",
            "layout": "IPY_MODEL_f42d5b728cb64d6faff74897ed5bceef",
            "_model_module": "@jupyter-widgets/controls",
            "children": [
              "IPY_MODEL_60e8c6553dc3434e8827360109938522",
              "IPY_MODEL_dd3464a5b3ae4a4587eb6347e7d55bba",
              "IPY_MODEL_25a7bae6ae3745538e4214ae9a30c956"
            ]
          }
        },
        "f42d5b728cb64d6faff74897ed5bceef": {
          "model_module": "@jupyter-widgets/base",
          "model_name": "LayoutModel",
          "model_module_version": "1.2.0",
          "state": {
            "_view_name": "LayoutView",
            "grid_template_rows": null,
            "right": null,
            "justify_content": null,
            "_view_module": "@jupyter-widgets/base",
            "overflow": null,
            "_model_module_version": "1.2.0",
            "_view_count": null,
            "flex_flow": null,
            "width": null,
            "min_width": null,
            "border": null,
            "align_items": null,
            "bottom": null,
            "_model_module": "@jupyter-widgets/base",
            "top": null,
            "grid_column": null,
            "overflow_y": null,
            "overflow_x": null,
            "grid_auto_flow": null,
            "grid_area": null,
            "grid_template_columns": null,
            "flex": null,
            "_model_name": "LayoutModel",
            "justify_items": null,
            "grid_row": null,
            "max_height": null,
            "align_content": null,
            "visibility": null,
            "align_self": null,
            "height": null,
            "min_height": null,
            "padding": null,
            "grid_auto_rows": null,
            "grid_gap": null,
            "max_width": null,
            "order": null,
            "_view_module_version": "1.2.0",
            "grid_template_areas": null,
            "object_position": null,
            "object_fit": null,
            "grid_auto_columns": null,
            "margin": null,
            "display": null,
            "left": null
          }
        },
        "60e8c6553dc3434e8827360109938522": {
          "model_module": "@jupyter-widgets/controls",
          "model_name": "HTMLModel",
          "model_module_version": "1.5.0",
          "state": {
            "_view_name": "HTMLView",
            "style": "IPY_MODEL_149dbbb634dd4fe39daca6d47296ca3d",
            "_dom_classes": [],
            "description": "",
            "_model_name": "HTMLModel",
            "placeholder": "​",
            "_view_module": "@jupyter-widgets/controls",
            "_model_module_version": "1.5.0",
            "value": "Optimization Progress:  98%",
            "_view_count": null,
            "_view_module_version": "1.5.0",
            "description_tooltip": null,
            "_model_module": "@jupyter-widgets/controls",
            "layout": "IPY_MODEL_95c4b83180594cc2ad33593bbb187e53"
          }
        },
        "dd3464a5b3ae4a4587eb6347e7d55bba": {
          "model_module": "@jupyter-widgets/controls",
          "model_name": "FloatProgressModel",
          "model_module_version": "1.5.0",
          "state": {
            "_view_name": "ProgressView",
            "style": "IPY_MODEL_e40f77f7895b41dfa615ce4d0746c14f",
            "_dom_classes": [],
            "description": "",
            "_model_name": "FloatProgressModel",
            "bar_style": "",
            "max": 100,
            "_view_module": "@jupyter-widgets/controls",
            "_model_module_version": "1.5.0",
            "value": 100,
            "_view_count": null,
            "_view_module_version": "1.5.0",
            "orientation": "horizontal",
            "min": 0,
            "description_tooltip": null,
            "_model_module": "@jupyter-widgets/controls",
            "layout": "IPY_MODEL_ab37483380da4018868074924dac2299"
          }
        },
        "25a7bae6ae3745538e4214ae9a30c956": {
          "model_module": "@jupyter-widgets/controls",
          "model_name": "HTMLModel",
          "model_module_version": "1.5.0",
          "state": {
            "_view_name": "HTMLView",
            "style": "IPY_MODEL_e2ed4256eb114e35bc0ce63c33223a18",
            "_dom_classes": [],
            "description": "",
            "_model_name": "HTMLModel",
            "placeholder": "​",
            "_view_module": "@jupyter-widgets/controls",
            "_model_module_version": "1.5.0",
            "value": " 787/800 [2:11:47&lt;02:48, 12.99s/pipeline]",
            "_view_count": null,
            "_view_module_version": "1.5.0",
            "description_tooltip": null,
            "_model_module": "@jupyter-widgets/controls",
            "layout": "IPY_MODEL_f6533f57ff03479b8552a2056fdc95ec"
          }
        },
        "149dbbb634dd4fe39daca6d47296ca3d": {
          "model_module": "@jupyter-widgets/controls",
          "model_name": "DescriptionStyleModel",
          "model_module_version": "1.5.0",
          "state": {
            "_view_name": "StyleView",
            "_model_name": "DescriptionStyleModel",
            "description_width": "",
            "_view_module": "@jupyter-widgets/base",
            "_model_module_version": "1.5.0",
            "_view_count": null,
            "_view_module_version": "1.2.0",
            "_model_module": "@jupyter-widgets/controls"
          }
        },
        "95c4b83180594cc2ad33593bbb187e53": {
          "model_module": "@jupyter-widgets/base",
          "model_name": "LayoutModel",
          "model_module_version": "1.2.0",
          "state": {
            "_view_name": "LayoutView",
            "grid_template_rows": null,
            "right": null,
            "justify_content": null,
            "_view_module": "@jupyter-widgets/base",
            "overflow": null,
            "_model_module_version": "1.2.0",
            "_view_count": null,
            "flex_flow": null,
            "width": null,
            "min_width": null,
            "border": null,
            "align_items": null,
            "bottom": null,
            "_model_module": "@jupyter-widgets/base",
            "top": null,
            "grid_column": null,
            "overflow_y": null,
            "overflow_x": null,
            "grid_auto_flow": null,
            "grid_area": null,
            "grid_template_columns": null,
            "flex": null,
            "_model_name": "LayoutModel",
            "justify_items": null,
            "grid_row": null,
            "max_height": null,
            "align_content": null,
            "visibility": null,
            "align_self": null,
            "height": null,
            "min_height": null,
            "padding": null,
            "grid_auto_rows": null,
            "grid_gap": null,
            "max_width": null,
            "order": null,
            "_view_module_version": "1.2.0",
            "grid_template_areas": null,
            "object_position": null,
            "object_fit": null,
            "grid_auto_columns": null,
            "margin": null,
            "display": null,
            "left": null
          }
        },
        "e40f77f7895b41dfa615ce4d0746c14f": {
          "model_module": "@jupyter-widgets/controls",
          "model_name": "ProgressStyleModel",
          "model_module_version": "1.5.0",
          "state": {
            "_view_name": "StyleView",
            "_model_name": "ProgressStyleModel",
            "description_width": "",
            "_view_module": "@jupyter-widgets/base",
            "_model_module_version": "1.5.0",
            "_view_count": null,
            "_view_module_version": "1.2.0",
            "bar_color": null,
            "_model_module": "@jupyter-widgets/controls"
          }
        },
        "ab37483380da4018868074924dac2299": {
          "model_module": "@jupyter-widgets/base",
          "model_name": "LayoutModel",
          "model_module_version": "1.2.0",
          "state": {
            "_view_name": "LayoutView",
            "grid_template_rows": null,
            "right": null,
            "justify_content": null,
            "_view_module": "@jupyter-widgets/base",
            "overflow": null,
            "_model_module_version": "1.2.0",
            "_view_count": null,
            "flex_flow": null,
            "width": null,
            "min_width": null,
            "border": null,
            "align_items": null,
            "bottom": null,
            "_model_module": "@jupyter-widgets/base",
            "top": null,
            "grid_column": null,
            "overflow_y": null,
            "overflow_x": null,
            "grid_auto_flow": null,
            "grid_area": null,
            "grid_template_columns": null,
            "flex": null,
            "_model_name": "LayoutModel",
            "justify_items": null,
            "grid_row": null,
            "max_height": null,
            "align_content": null,
            "visibility": null,
            "align_self": null,
            "height": null,
            "min_height": null,
            "padding": null,
            "grid_auto_rows": null,
            "grid_gap": null,
            "max_width": null,
            "order": null,
            "_view_module_version": "1.2.0",
            "grid_template_areas": null,
            "object_position": null,
            "object_fit": null,
            "grid_auto_columns": null,
            "margin": null,
            "display": null,
            "left": null
          }
        },
        "e2ed4256eb114e35bc0ce63c33223a18": {
          "model_module": "@jupyter-widgets/controls",
          "model_name": "DescriptionStyleModel",
          "model_module_version": "1.5.0",
          "state": {
            "_view_name": "StyleView",
            "_model_name": "DescriptionStyleModel",
            "description_width": "",
            "_view_module": "@jupyter-widgets/base",
            "_model_module_version": "1.5.0",
            "_view_count": null,
            "_view_module_version": "1.2.0",
            "_model_module": "@jupyter-widgets/controls"
          }
        },
        "f6533f57ff03479b8552a2056fdc95ec": {
          "model_module": "@jupyter-widgets/base",
          "model_name": "LayoutModel",
          "model_module_version": "1.2.0",
          "state": {
            "_view_name": "LayoutView",
            "grid_template_rows": null,
            "right": null,
            "justify_content": null,
            "_view_module": "@jupyter-widgets/base",
            "overflow": null,
            "_model_module_version": "1.2.0",
            "_view_count": null,
            "flex_flow": null,
            "width": null,
            "min_width": null,
            "border": null,
            "align_items": null,
            "bottom": null,
            "_model_module": "@jupyter-widgets/base",
            "top": null,
            "grid_column": null,
            "overflow_y": null,
            "overflow_x": null,
            "grid_auto_flow": null,
            "grid_area": null,
            "grid_template_columns": null,
            "flex": null,
            "_model_name": "LayoutModel",
            "justify_items": null,
            "grid_row": null,
            "max_height": null,
            "align_content": null,
            "visibility": null,
            "align_self": null,
            "height": null,
            "min_height": null,
            "padding": null,
            "grid_auto_rows": null,
            "grid_gap": null,
            "max_width": null,
            "order": null,
            "_view_module_version": "1.2.0",
            "grid_template_areas": null,
            "object_position": null,
            "object_fit": null,
            "grid_auto_columns": null,
            "margin": null,
            "display": null,
            "left": null
          }
        }
      }
    }
  },
  "cells": [
    {
      "cell_type": "markdown",
      "metadata": {
        "id": "0t-r26jpQHfF"
      },
      "source": [
        "데이터 셋 형태 확인"
      ]
    },
    {
      "cell_type": "code",
      "metadata": {
        "colab": {
          "base_uri": "https://localhost:8080/"
        },
        "id": "DPRN-uCTQHVy",
        "outputId": "c8adf4cc-8656-45bc-9a39-61cc0aba8acb"
      },
      "source": [
        "import pandas as pd\n",
        "import ast\n",
        "\n",
        "\n",
        "\n",
        "\n",
        "\n",
        "#데이터 확인\n",
        "\n",
        "\n",
        "Train = pd.read_csv('/content/gdrive/MyDrive/hoseo_AI/AI_탐지트랙_대회(학습용데이터).csv', encoding='euc=kr')\n",
        "Test = pd.read_csv('/content/gdrive/MyDrive/hoseo_AI/AI_탐지트랙_대회(제출용데이터).csv', encoding='euc=kr')\n",
        "\n",
        "#feature_group_A => x\n",
        "data = ast.literal_eval(Train['Feature_Group_A'][0])\n",
        "print(len(data))\n",
        "\n",
        "#feature_group_B => y\n",
        "data = ast.literal_eval(Train['Feature_Group_B'][0])\n",
        "print(len(data))\n",
        "\n",
        "#feature_group_C => z\n",
        "\n",
        "#feature_group_C는 데이터가 str형태라서 딕셔너리로 변환하는 코드\n",
        "data = ast.literal_eval(Train['Feature_Group_C'][0])\n",
        "#딕셔너리 형태 'numstrings': 3312, 'avlength': 24.9393115942029, 'printabledist': [5963, 67, 449, 124, 398, 49, 90, 154, 326, 218, 65, 103, 491, 306, 802, 451, 1097, 727, 615, 602, 712, 633, 589, 508, 638, 529, 668, 759, 853, 531, 687, 738, 1020, 1084, 294, 733, 760, 831, 427, 336, 383, 782, 113, 83, 612, 327, 376, 542, 1055, 289, 527, 812, 883, 489, 558, 658, 314, 283, 145, 103, 223, 91, 99, 412, 244, 3157, 869, 1713, 1846, 5152, 913, 973, 1322, 2815, 321, 306, 2263, 990, 3001, 3620, 1423, 200, 3392, 2378, 4119, 1238, 438, 985, 806, 851, 113, 123, 181, 100, 75, 86], 'printables': 82599, 'entropy': 5.8347296238951945, 'paths': 0, 'urls': 39, 'registry': 0, 'MZ': 8\n",
        "print(len(data['printabledist']))\n"
      ],
      "execution_count": null,
      "outputs": [
        {
          "output_type": "stream",
          "name": "stdout",
          "text": [
            "256\n",
            "256\n",
            "96\n"
          ]
        }
      ]
    },
    {
      "cell_type": "code",
      "metadata": {
        "id": "8WqeHS9SQHTf"
      },
      "source": [
        "#차원 축소"
      ],
      "execution_count": null,
      "outputs": []
    },
    {
      "cell_type": "code",
      "metadata": {
        "id": "jZ6i_iQEQHRZ"
      },
      "source": [
        ""
      ],
      "execution_count": null,
      "outputs": []
    },
    {
      "cell_type": "code",
      "metadata": {
        "id": "ND6l-mL1QHPC"
      },
      "source": [
        ""
      ],
      "execution_count": null,
      "outputs": []
    },
    {
      "cell_type": "code",
      "metadata": {
        "id": "k-ejerxxQG4W"
      },
      "source": [
        ""
      ],
      "execution_count": null,
      "outputs": []
    },
    {
      "cell_type": "markdown",
      "metadata": {
        "id": "LiSadyOtMxyU"
      },
      "source": [
        "**1. AutoML 모델 이용**\n",
        "\n",
        "https://colab.research.google.com/github/rpi-techfundamentals/spring2019-materials/blob/master/14-automl/01_auto_ml_tpot.ipynb#scrollTo=uhBlHuGpO2n6\n",
        "\n"
      ]
    },
    {
      "cell_type": "code",
      "metadata": {
        "colab": {
          "base_uri": "https://localhost:8080/"
        },
        "id": "GH_2tbxELDqp",
        "outputId": "ca084db0-7494-475a-a190-dfab826ac267"
      },
      "source": [
        "# Install tpot on the server\n",
        "!pip install tpot"
      ],
      "execution_count": null,
      "outputs": [
        {
          "output_type": "stream",
          "name": "stdout",
          "text": [
            "Requirement already satisfied: tpot in /usr/local/lib/python3.7/dist-packages (0.11.7)\n",
            "Requirement already satisfied: pandas>=0.24.2 in /usr/local/lib/python3.7/dist-packages (from tpot) (1.1.5)\n",
            "Requirement already satisfied: update-checker>=0.16 in /usr/local/lib/python3.7/dist-packages (from tpot) (0.18.0)\n",
            "Requirement already satisfied: scikit-learn>=0.22.0 in /usr/local/lib/python3.7/dist-packages (from tpot) (0.22.2.post1)\n",
            "Requirement already satisfied: scipy>=1.3.1 in /usr/local/lib/python3.7/dist-packages (from tpot) (1.4.1)\n",
            "Requirement already satisfied: numpy>=1.16.3 in /usr/local/lib/python3.7/dist-packages (from tpot) (1.19.5)\n",
            "Requirement already satisfied: joblib>=0.13.2 in /usr/local/lib/python3.7/dist-packages (from tpot) (1.0.1)\n",
            "Requirement already satisfied: stopit>=1.1.1 in /usr/local/lib/python3.7/dist-packages (from tpot) (1.1.2)\n",
            "Requirement already satisfied: tqdm>=4.36.1 in /usr/local/lib/python3.7/dist-packages (from tpot) (4.62.3)\n",
            "Requirement already satisfied: xgboost>=1.1.0 in /usr/local/lib/python3.7/dist-packages (from tpot) (1.4.2)\n",
            "Requirement already satisfied: deap>=1.2 in /usr/local/lib/python3.7/dist-packages (from tpot) (1.3.1)\n",
            "Requirement already satisfied: pytz>=2017.2 in /usr/local/lib/python3.7/dist-packages (from pandas>=0.24.2->tpot) (2018.9)\n",
            "Requirement already satisfied: python-dateutil>=2.7.3 in /usr/local/lib/python3.7/dist-packages (from pandas>=0.24.2->tpot) (2.8.2)\n",
            "Requirement already satisfied: six>=1.5 in /usr/local/lib/python3.7/dist-packages (from python-dateutil>=2.7.3->pandas>=0.24.2->tpot) (1.15.0)\n",
            "Requirement already satisfied: requests>=2.3.0 in /usr/local/lib/python3.7/dist-packages (from update-checker>=0.16->tpot) (2.23.0)\n",
            "Requirement already satisfied: urllib3!=1.25.0,!=1.25.1,<1.26,>=1.21.1 in /usr/local/lib/python3.7/dist-packages (from requests>=2.3.0->update-checker>=0.16->tpot) (1.24.3)\n",
            "Requirement already satisfied: idna<3,>=2.5 in /usr/local/lib/python3.7/dist-packages (from requests>=2.3.0->update-checker>=0.16->tpot) (2.10)\n",
            "Requirement already satisfied: certifi>=2017.4.17 in /usr/local/lib/python3.7/dist-packages (from requests>=2.3.0->update-checker>=0.16->tpot) (2021.5.30)\n",
            "Requirement already satisfied: chardet<4,>=3.0.2 in /usr/local/lib/python3.7/dist-packages (from requests>=2.3.0->update-checker>=0.16->tpot) (3.0.4)\n"
          ]
        }
      ]
    },
    {
      "cell_type": "code",
      "metadata": {
        "colab": {
          "base_uri": "https://localhost:8080/"
        },
        "id": "1vwNbqQiMjox",
        "outputId": "bc188c24-f2eb-4660-e3d8-5170eca6c627"
      },
      "source": [
        "# pandas and numpy for data manipulation\n",
        "import pandas as pd\n",
        "import numpy as np\n",
        "\n",
        "# Import the tpot regressor\n",
        "from tpot import TPOTRegressor"
      ],
      "execution_count": null,
      "outputs": [
        {
          "output_type": "stream",
          "name": "stderr",
          "text": [
            "/usr/local/lib/python3.7/dist-packages/sklearn/externals/six.py:31: FutureWarning: The module is deprecated in version 0.21 and will be removed in version 0.23 since we've dropped support for Python 2.7. Please rely on the official version of six (https://pypi.org/project/six/).\n",
            "  \"(https://pypi.org/project/six/).\", FutureWarning)\n",
            "/usr/local/lib/python3.7/dist-packages/sklearn/utils/deprecation.py:144: FutureWarning: The sklearn.neighbors.base module is  deprecated in version 0.22 and will be removed in version 0.24. The corresponding classes / functions should instead be imported from sklearn.neighbors. Anything that cannot be imported from sklearn.neighbors is now part of the private API.\n",
            "  warnings.warn(message, FutureWarning)\n"
          ]
        }
      ]
    },
    {
      "cell_type": "code",
      "metadata": {
        "colab": {
          "base_uri": "https://localhost:8080/"
        },
        "id": "4nyqsFUcMjrO",
        "outputId": "435e0f61-de91-445a-d1d3-14786ae410b9"
      },
      "source": [
        "\n",
        "#데이터 불러오기\n",
        "from google.colab import drive \n",
        "drive.mount('/content/gdrive/')\n",
        "\n"
      ],
      "execution_count": null,
      "outputs": [
        {
          "output_type": "stream",
          "name": "stdout",
          "text": [
            "Drive already mounted at /content/gdrive/; to attempt to forcibly remount, call drive.mount(\"/content/gdrive/\", force_remount=True).\n"
          ]
        }
      ]
    },
    {
      "cell_type": "code",
      "metadata": {
        "id": "ibtGEb4hN9k_"
      },
      "source": [
        "import pandas as pd\n",
        "import ast\n",
        "\n",
        "#데이터 전처리\n",
        "\n",
        "Train = pd.read_csv('/content/gdrive/MyDrive/hoseo_AI/AI_탐지트랙_대회(학습용데이터).csv', encoding='euc=kr')\n",
        "Test = pd.read_csv('/content/gdrive/MyDrive/hoseo_AI/AI_탐지트랙_대회(제출용데이터).csv', encoding='euc=kr')\n",
        "\n",
        "#데이터 프레임 생성\n",
        "\n",
        "#테스트 피쳐\n",
        "data = ast.literal_eval(Train['Feature_Group_C'][0])\n",
        "\n",
        "A = ast.literal_eval(Train['Feature_Group_A'][0])\n",
        "A = np.array(A)\n",
        "A = np.std(A)\n",
        "\n",
        "B = ast.literal_eval(Train['Feature_Group_B'][0])\n",
        "B = np.array(B)\n",
        "B = np.std(B)\n",
        "\n",
        "printabled = np.array(data['printabledist'])\n",
        "printabled = np.std(printabled)\n",
        "\n",
        "\n",
        "df_train_features = pd.DataFrame({'분석데이터': Train['분석데이터'][0],\n",
        "                                  'Feature_Group_A': A,\n",
        "                                  'Feature_Group_B': B,\n",
        "                                  'numstrings' : data['numstrings'],\n",
        "                                  'avlength': data['avlength'],\n",
        "                                  'printabledist':printabled,\n",
        "                                  'printables' : data['printables'],\n",
        "                                  'entropy': data['entropy'],\n",
        "                                  'paths' : data['paths'],\n",
        "                                  'urls' : data['urls'],\n",
        "                                  'registry' : data['registry'],\n",
        "                                  'MZ' : data['MZ'],\n",
        "\n",
        "                                  \n",
        "},index=[0])\n",
        "for i in range(1,len(Train)):\n",
        "  data = ast.literal_eval(Train['Feature_Group_C'][i])\n",
        "\n",
        "  A = ast.literal_eval(Train['Feature_Group_A'][i])\n",
        "  A = np.array(A)\n",
        "  A = np.std(A)\n",
        "\n",
        "  B = ast.literal_eval(Train['Feature_Group_B'][i])\n",
        "  B = np.array(B)\n",
        "  B = np.std(B)\n",
        "\n",
        "  printabled = np.array(data['printabledist'])\n",
        "  printabled = np.std(printabled)\n",
        "\n",
        "\n",
        "\n",
        "  new_df ={'분석데이터': Train['분석데이터'][i],\n",
        "                                  'Feature_Group_A': A,\n",
        "                                  'Feature_Group_B': B,\n",
        "                                  'numstrings' : data['numstrings'],\n",
        "                                  'avlength': data['avlength'],\n",
        "                                  'printabledist':printabled,\n",
        "                                  'printables' : data['printables'],\n",
        "                                  'entropy': data['entropy'],\n",
        "                                  'paths' : data['paths'],\n",
        "                                  'urls' : data['urls'],\n",
        "                                  'registry' : data['registry'],\n",
        "                                  'MZ' : data['MZ']\n",
        "}\n",
        "  new_df = pd.DataFrame(new_df,index=[i])\n",
        "\n",
        "  df_train_features = pd.concat([df_train_features,new_df], sort=False)\n",
        "\n",
        "\n",
        "  \n",
        "\n",
        "\n",
        "\n",
        "#테스트 피처\n",
        "\n",
        "\n",
        "data = ast.literal_eval(Test['Feature_Group_C'][0])\n",
        "\n",
        "A = ast.literal_eval(Test['Feature_Group_A'][0])\n",
        "A = np.array(A)\n",
        "A = np.std(A)\n",
        "\n",
        "B = ast.literal_eval(Test['Feature_Group_B'][0])\n",
        "B = np.array(B)\n",
        "B = np.std(B)\n",
        "\n",
        "printabled = np.array(data['printabledist'])\n",
        "printabled = np.std(printabled)\n",
        "\n",
        "\n",
        "\n",
        "df_test_features = pd.DataFrame({'분석대상': Test['분석대상'][0],\n",
        "                                  'Feature_Group_A': A,\n",
        "                                  'Feature_Group_B': B,\n",
        "                                  'numstrings' : data['numstrings'],\n",
        "                                  'avlength': data['avlength'],\n",
        "                                  'printabledist':printabled,\n",
        "                                  'printables' : data['printables'],\n",
        "                                  'entropy': data['entropy'],\n",
        "                                  'paths' : data['paths'],\n",
        "                                  'urls' : data['urls'],\n",
        "                                  'registry' : data['registry'],\n",
        "                                  'MZ' : data['MZ']\n",
        "},index=[0])\n",
        "\n",
        "\n",
        "\n",
        "for i in range(1,len(Test)):\n",
        "  data = ast.literal_eval(Test['Feature_Group_C'][0])\n",
        "\n",
        "  A = ast.literal_eval(Test['Feature_Group_A'][0])\n",
        "  A = np.array(A)\n",
        "  A = np.std(A)\n",
        "\n",
        "  B = ast.literal_eval(Test['Feature_Group_B'][0])\n",
        "  B = np.array(B)\n",
        "  B = np.std(B)\n",
        "\n",
        "  printabled = np.array(data['printabledist'])\n",
        "  printabled = np.std(printabled)\n",
        "\n",
        "\n",
        "  new_df ={'분석대상': Test['분석대상'][i],\n",
        "                                  'Feature_Group_A': A,\n",
        "                                  'Feature_Group_B': B,\n",
        "                                  'numstrings' : data['numstrings'],\n",
        "                                  'avlength': data['avlength'],\n",
        "                                  'printabledist':printabled,\n",
        "                                  'printables' : data['printables'],\n",
        "                                  'entropy': data['entropy'],\n",
        "                                  'paths' : data['paths'],\n",
        "                                  'urls' : data['urls'],\n",
        "                                  'registry' : data['registry'],\n",
        "                                  'MZ' : data['MZ']\n",
        "}\n",
        "  new_df = pd.DataFrame(new_df,index=[i])\n",
        "\n",
        "  df_test_features = pd.concat([df_test_features,new_df], sort=False)\n",
        "\n",
        "\n",
        "\n",
        "\n",
        "df_train_label = Train['label']\n",
        "\n",
        "\n"
      ],
      "execution_count": null,
      "outputs": []
    },
    {
      "cell_type": "code",
      "metadata": {
        "id": "AxqgogImMjt0"
      },
      "source": [
        "\n",
        "\n",
        "# Convert to numpy arrays\n",
        "training_features = np.array(df_train_features)\n",
        "testing_features = np.array(df_test_features)\n",
        "\n",
        "# Sklearn wants the labels as one-dimensional vectors\n",
        "\n",
        "training_targets = np.array(df_train_label).reshape((-1,))\n"
      ],
      "execution_count": null,
      "outputs": []
    },
    {
      "cell_type": "code",
      "metadata": {
        "id": "Mf8DvjbpMjwJ"
      },
      "source": [
        "# Create a tpot object with a few parameters\n",
        "tpot = TPOTRegressor(scoring = 'neg_mean_absolute_error', \n",
        "                    max_time_mins = 480, \n",
        "                    n_jobs = -1,\n",
        "                    verbosity = 2,\n",
        "                    cv = 5)"
      ],
      "execution_count": null,
      "outputs": []
    },
    {
      "cell_type": "code",
      "metadata": {
        "colab": {
          "base_uri": "https://localhost:8080/",
          "height": 265,
          "referenced_widgets": [
            "eb7286b4b00c4143b7777e793f8a1ada",
            "f42d5b728cb64d6faff74897ed5bceef",
            "60e8c6553dc3434e8827360109938522",
            "dd3464a5b3ae4a4587eb6347e7d55bba",
            "25a7bae6ae3745538e4214ae9a30c956",
            "149dbbb634dd4fe39daca6d47296ca3d",
            "95c4b83180594cc2ad33593bbb187e53",
            "e40f77f7895b41dfa615ce4d0746c14f",
            "ab37483380da4018868074924dac2299",
            "e2ed4256eb114e35bc0ce63c33223a18",
            "f6533f57ff03479b8552a2056fdc95ec"
          ]
        },
        "id": "JgnRcWKUMjyb",
        "outputId": "be8bc4c6-0d89-4ebf-c247-3e83dfd85b00"
      },
      "source": [
        "\n",
        "\n",
        "tpot.fit(training_features, training_targets)"
      ],
      "execution_count": null,
      "outputs": [
        {
          "output_type": "display_data",
          "data": {
            "application/vnd.jupyter.widget-view+json": {
              "model_id": "eb7286b4b00c4143b7777e793f8a1ada",
              "version_minor": 0,
              "version_major": 2
            },
            "text/plain": [
              "Optimization Progress:   0%|          | 0/100 [00:00<?, ?pipeline/s]"
            ]
          },
          "metadata": {}
        },
        {
          "output_type": "stream",
          "name": "stdout",
          "text": [
            "\n",
            "Generation 1 - Current best internal CV score: -0.1393439645335314\n",
            "\n",
            "Generation 2 - Current best internal CV score: -0.1393439645335314\n",
            "\n",
            "Generation 3 - Current best internal CV score: -0.1295990167566901\n",
            "\n",
            "Generation 4 - Current best internal CV score: -0.128986819997337\n",
            "\n",
            "Generation 5 - Current best internal CV score: -0.128986819997337\n",
            "\n",
            "Generation 6 - Current best internal CV score: -0.12060766666666667\n"
          ]
        }
      ]
    },
    {
      "cell_type": "code",
      "metadata": {
        "id": "_oeFPkbAMj0x"
      },
      "source": [
        "#예측\n",
        "y_predict = model.predict(testing_features)"
      ],
      "execution_count": null,
      "outputs": []
    },
    {
      "cell_type": "code",
      "metadata": {
        "id": "0qEHqvrQMj3I"
      },
      "source": [
        ""
      ],
      "execution_count": null,
      "outputs": []
    },
    {
      "cell_type": "code",
      "metadata": {
        "id": "3PKVFUusMj5d"
      },
      "source": [
        ""
      ],
      "execution_count": null,
      "outputs": []
    }
  ]
}