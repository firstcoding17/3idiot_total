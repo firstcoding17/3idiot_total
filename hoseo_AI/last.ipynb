{
  "nbformat": 4,
  "nbformat_minor": 0,
  "metadata": {
    "colab": {
      "name": "hoseo_AI.ipynb",
      "provenance": [],
      "collapsed_sections": []
    },
    "kernelspec": {
      "display_name": "Python 3",
      "name": "python3"
    },
    "language_info": {
      "name": "python"
    },
    "widgets": {
      "application/vnd.jupyter.widget-state+json": {
        "1e464367b9144e23ac015b3bfaa1f426": {
          "model_module": "@jupyter-widgets/controls",
          "model_name": "HBoxModel",
          "model_module_version": "1.5.0",
          "state": {
            "_dom_classes": [],
            "_model_module": "@jupyter-widgets/controls",
            "_model_module_version": "1.5.0",
            "_model_name": "HBoxModel",
            "_view_count": null,
            "_view_module": "@jupyter-widgets/controls",
            "_view_module_version": "1.5.0",
            "_view_name": "HBoxView",
            "box_style": "",
            "children": [
              "IPY_MODEL_523200f2bdd04931973ff581f123a5b8",
              "IPY_MODEL_ab5a01454ad749c6acb6aaf71d3df718",
              "IPY_MODEL_86e22b02fcf44cc2bd6e322eb55cab99"
            ],
            "layout": "IPY_MODEL_a7d64d7ebfee42f29623ade1b69789bb"
          }
        },
        "523200f2bdd04931973ff581f123a5b8": {
          "model_module": "@jupyter-widgets/controls",
          "model_name": "HTMLModel",
          "model_module_version": "1.5.0",
          "state": {
            "_dom_classes": [],
            "_model_module": "@jupyter-widgets/controls",
            "_model_module_version": "1.5.0",
            "_model_name": "HTMLModel",
            "_view_count": null,
            "_view_module": "@jupyter-widgets/controls",
            "_view_module_version": "1.5.0",
            "_view_name": "HTMLView",
            "description": "",
            "description_tooltip": null,
            "layout": "IPY_MODEL_08b563f4cba24ea4ae1be36a9f88bf83",
            "placeholder": "​",
            "style": "IPY_MODEL_d07df4c984e948d1b7c1f0d40c75520f",
            "value": "Optimization Progress: "
          }
        },
        "ab5a01454ad749c6acb6aaf71d3df718": {
          "model_module": "@jupyter-widgets/controls",
          "model_name": "FloatProgressModel",
          "model_module_version": "1.5.0",
          "state": {
            "_dom_classes": [],
            "_model_module": "@jupyter-widgets/controls",
            "_model_module_version": "1.5.0",
            "_model_name": "FloatProgressModel",
            "_view_count": null,
            "_view_module": "@jupyter-widgets/controls",
            "_view_module_version": "1.5.0",
            "_view_name": "ProgressView",
            "bar_style": "",
            "description": "",
            "description_tooltip": null,
            "layout": "IPY_MODEL_88d7922c76ec4580bd8ce28acef9f91a",
            "max": 1300,
            "min": 0,
            "orientation": "horizontal",
            "style": "IPY_MODEL_98441daec4074a8babbf68f69c3939da",
            "value": 1300
          }
        },
        "86e22b02fcf44cc2bd6e322eb55cab99": {
          "model_module": "@jupyter-widgets/controls",
          "model_name": "HTMLModel",
          "model_module_version": "1.5.0",
          "state": {
            "_dom_classes": [],
            "_model_module": "@jupyter-widgets/controls",
            "_model_module_version": "1.5.0",
            "_model_name": "HTMLModel",
            "_view_count": null,
            "_view_module": "@jupyter-widgets/controls",
            "_view_module_version": "1.5.0",
            "_view_name": "HTMLView",
            "description": "",
            "description_tooltip": null,
            "layout": "IPY_MODEL_045078532f6548088747c75a46e5442a",
            "placeholder": "​",
            "style": "IPY_MODEL_b2c8eb2720a74e4088d22883810e3d1b",
            "value": " 1302/? [4:51:35&lt;00:00, 10.91s/pipeline]"
          }
        },
        "a7d64d7ebfee42f29623ade1b69789bb": {
          "model_module": "@jupyter-widgets/base",
          "model_name": "LayoutModel",
          "model_module_version": "1.2.0",
          "state": {
            "_model_module": "@jupyter-widgets/base",
            "_model_module_version": "1.2.0",
            "_model_name": "LayoutModel",
            "_view_count": null,
            "_view_module": "@jupyter-widgets/base",
            "_view_module_version": "1.2.0",
            "_view_name": "LayoutView",
            "align_content": null,
            "align_items": null,
            "align_self": null,
            "border": null,
            "bottom": null,
            "display": null,
            "flex": null,
            "flex_flow": null,
            "grid_area": null,
            "grid_auto_columns": null,
            "grid_auto_flow": null,
            "grid_auto_rows": null,
            "grid_column": null,
            "grid_gap": null,
            "grid_row": null,
            "grid_template_areas": null,
            "grid_template_columns": null,
            "grid_template_rows": null,
            "height": null,
            "justify_content": null,
            "justify_items": null,
            "left": null,
            "margin": null,
            "max_height": null,
            "max_width": null,
            "min_height": null,
            "min_width": null,
            "object_fit": null,
            "object_position": null,
            "order": null,
            "overflow": null,
            "overflow_x": null,
            "overflow_y": null,
            "padding": null,
            "right": null,
            "top": null,
            "visibility": null,
            "width": null
          }
        },
        "08b563f4cba24ea4ae1be36a9f88bf83": {
          "model_module": "@jupyter-widgets/base",
          "model_name": "LayoutModel",
          "model_module_version": "1.2.0",
          "state": {
            "_model_module": "@jupyter-widgets/base",
            "_model_module_version": "1.2.0",
            "_model_name": "LayoutModel",
            "_view_count": null,
            "_view_module": "@jupyter-widgets/base",
            "_view_module_version": "1.2.0",
            "_view_name": "LayoutView",
            "align_content": null,
            "align_items": null,
            "align_self": null,
            "border": null,
            "bottom": null,
            "display": null,
            "flex": null,
            "flex_flow": null,
            "grid_area": null,
            "grid_auto_columns": null,
            "grid_auto_flow": null,
            "grid_auto_rows": null,
            "grid_column": null,
            "grid_gap": null,
            "grid_row": null,
            "grid_template_areas": null,
            "grid_template_columns": null,
            "grid_template_rows": null,
            "height": null,
            "justify_content": null,
            "justify_items": null,
            "left": null,
            "margin": null,
            "max_height": null,
            "max_width": null,
            "min_height": null,
            "min_width": null,
            "object_fit": null,
            "object_position": null,
            "order": null,
            "overflow": null,
            "overflow_x": null,
            "overflow_y": null,
            "padding": null,
            "right": null,
            "top": null,
            "visibility": null,
            "width": null
          }
        },
        "d07df4c984e948d1b7c1f0d40c75520f": {
          "model_module": "@jupyter-widgets/controls",
          "model_name": "DescriptionStyleModel",
          "model_module_version": "1.5.0",
          "state": {
            "_model_module": "@jupyter-widgets/controls",
            "_model_module_version": "1.5.0",
            "_model_name": "DescriptionStyleModel",
            "_view_count": null,
            "_view_module": "@jupyter-widgets/base",
            "_view_module_version": "1.2.0",
            "_view_name": "StyleView",
            "description_width": ""
          }
        },
        "88d7922c76ec4580bd8ce28acef9f91a": {
          "model_module": "@jupyter-widgets/base",
          "model_name": "LayoutModel",
          "model_module_version": "1.2.0",
          "state": {
            "_model_module": "@jupyter-widgets/base",
            "_model_module_version": "1.2.0",
            "_model_name": "LayoutModel",
            "_view_count": null,
            "_view_module": "@jupyter-widgets/base",
            "_view_module_version": "1.2.0",
            "_view_name": "LayoutView",
            "align_content": null,
            "align_items": null,
            "align_self": null,
            "border": null,
            "bottom": null,
            "display": null,
            "flex": null,
            "flex_flow": null,
            "grid_area": null,
            "grid_auto_columns": null,
            "grid_auto_flow": null,
            "grid_auto_rows": null,
            "grid_column": null,
            "grid_gap": null,
            "grid_row": null,
            "grid_template_areas": null,
            "grid_template_columns": null,
            "grid_template_rows": null,
            "height": null,
            "justify_content": null,
            "justify_items": null,
            "left": null,
            "margin": null,
            "max_height": null,
            "max_width": null,
            "min_height": null,
            "min_width": null,
            "object_fit": null,
            "object_position": null,
            "order": null,
            "overflow": null,
            "overflow_x": null,
            "overflow_y": null,
            "padding": null,
            "right": null,
            "top": null,
            "visibility": null,
            "width": null
          }
        },
        "98441daec4074a8babbf68f69c3939da": {
          "model_module": "@jupyter-widgets/controls",
          "model_name": "ProgressStyleModel",
          "model_module_version": "1.5.0",
          "state": {
            "_model_module": "@jupyter-widgets/controls",
            "_model_module_version": "1.5.0",
            "_model_name": "ProgressStyleModel",
            "_view_count": null,
            "_view_module": "@jupyter-widgets/base",
            "_view_module_version": "1.2.0",
            "_view_name": "StyleView",
            "bar_color": null,
            "description_width": ""
          }
        },
        "045078532f6548088747c75a46e5442a": {
          "model_module": "@jupyter-widgets/base",
          "model_name": "LayoutModel",
          "model_module_version": "1.2.0",
          "state": {
            "_model_module": "@jupyter-widgets/base",
            "_model_module_version": "1.2.0",
            "_model_name": "LayoutModel",
            "_view_count": null,
            "_view_module": "@jupyter-widgets/base",
            "_view_module_version": "1.2.0",
            "_view_name": "LayoutView",
            "align_content": null,
            "align_items": null,
            "align_self": null,
            "border": null,
            "bottom": null,
            "display": null,
            "flex": null,
            "flex_flow": null,
            "grid_area": null,
            "grid_auto_columns": null,
            "grid_auto_flow": null,
            "grid_auto_rows": null,
            "grid_column": null,
            "grid_gap": null,
            "grid_row": null,
            "grid_template_areas": null,
            "grid_template_columns": null,
            "grid_template_rows": null,
            "height": null,
            "justify_content": null,
            "justify_items": null,
            "left": null,
            "margin": null,
            "max_height": null,
            "max_width": null,
            "min_height": null,
            "min_width": null,
            "object_fit": null,
            "object_position": null,
            "order": null,
            "overflow": null,
            "overflow_x": null,
            "overflow_y": null,
            "padding": null,
            "right": null,
            "top": null,
            "visibility": null,
            "width": null
          }
        },
        "b2c8eb2720a74e4088d22883810e3d1b": {
          "model_module": "@jupyter-widgets/controls",
          "model_name": "DescriptionStyleModel",
          "model_module_version": "1.5.0",
          "state": {
            "_model_module": "@jupyter-widgets/controls",
            "_model_module_version": "1.5.0",
            "_model_name": "DescriptionStyleModel",
            "_view_count": null,
            "_view_module": "@jupyter-widgets/base",
            "_view_module_version": "1.2.0",
            "_view_name": "StyleView",
            "description_width": ""
          }
        },
        "ed1fa4b5c7b3429ab082ceaa3e6c7b8b": {
          "model_module": "@jupyter-widgets/controls",
          "model_name": "HBoxModel",
          "model_module_version": "1.5.0",
          "state": {
            "_view_name": "HBoxView",
            "_dom_classes": [],
            "_model_name": "HBoxModel",
            "_view_module": "@jupyter-widgets/controls",
            "_model_module_version": "1.5.0",
            "_view_count": null,
            "_view_module_version": "1.5.0",
            "box_style": "",
            "layout": "IPY_MODEL_26cddeffe6ac440693c5fcbb709f3cf8",
            "_model_module": "@jupyter-widgets/controls",
            "children": [
              "IPY_MODEL_0af635edc0104a4dadb9ded9fcd16515",
              "IPY_MODEL_7106b1d2de29485d96cd7118c6119902",
              "IPY_MODEL_4ebb6c96c32b4b5886074b2a4a06fb91"
            ]
          }
        },
        "26cddeffe6ac440693c5fcbb709f3cf8": {
          "model_module": "@jupyter-widgets/base",
          "model_name": "LayoutModel",
          "model_module_version": "1.2.0",
          "state": {
            "_view_name": "LayoutView",
            "grid_template_rows": null,
            "right": null,
            "justify_content": null,
            "_view_module": "@jupyter-widgets/base",
            "overflow": null,
            "_model_module_version": "1.2.0",
            "_view_count": null,
            "flex_flow": null,
            "width": null,
            "min_width": null,
            "border": null,
            "align_items": null,
            "bottom": null,
            "_model_module": "@jupyter-widgets/base",
            "top": null,
            "grid_column": null,
            "overflow_y": null,
            "overflow_x": null,
            "grid_auto_flow": null,
            "grid_area": null,
            "grid_template_columns": null,
            "flex": null,
            "_model_name": "LayoutModel",
            "justify_items": null,
            "grid_row": null,
            "max_height": null,
            "align_content": null,
            "visibility": null,
            "align_self": null,
            "height": null,
            "min_height": null,
            "padding": null,
            "grid_auto_rows": null,
            "grid_gap": null,
            "max_width": null,
            "order": null,
            "_view_module_version": "1.2.0",
            "grid_template_areas": null,
            "object_position": null,
            "object_fit": null,
            "grid_auto_columns": null,
            "margin": null,
            "display": null,
            "left": null
          }
        },
        "0af635edc0104a4dadb9ded9fcd16515": {
          "model_module": "@jupyter-widgets/controls",
          "model_name": "HTMLModel",
          "model_module_version": "1.5.0",
          "state": {
            "_view_name": "HTMLView",
            "style": "IPY_MODEL_22fc27a0357d443b90d1e1561057fcec",
            "_dom_classes": [],
            "description": "",
            "_model_name": "HTMLModel",
            "placeholder": "​",
            "_view_module": "@jupyter-widgets/controls",
            "_model_module_version": "1.5.0",
            "value": "Optimization Progress:  64%",
            "_view_count": null,
            "_view_module_version": "1.5.0",
            "description_tooltip": null,
            "_model_module": "@jupyter-widgets/controls",
            "layout": "IPY_MODEL_f1a337eae4d34f03a66d37bcd49fadc9"
          }
        },
        "7106b1d2de29485d96cd7118c6119902": {
          "model_module": "@jupyter-widgets/controls",
          "model_name": "FloatProgressModel",
          "model_module_version": "1.5.0",
          "state": {
            "_view_name": "ProgressView",
            "style": "IPY_MODEL_913e7394e4ad4a68acc156c3157b7d91",
            "_dom_classes": [],
            "description": "",
            "_model_name": "FloatProgressModel",
            "bar_style": "danger",
            "max": 1050,
            "_view_module": "@jupyter-widgets/controls",
            "_model_module_version": "1.5.0",
            "value": 673,
            "_view_count": null,
            "_view_module_version": "1.5.0",
            "orientation": "horizontal",
            "min": 0,
            "description_tooltip": null,
            "_model_module": "@jupyter-widgets/controls",
            "layout": "IPY_MODEL_ca1c8541f5a74f9ba4a4ca9a0ffef1bd"
          }
        },
        "4ebb6c96c32b4b5886074b2a4a06fb91": {
          "model_module": "@jupyter-widgets/controls",
          "model_name": "HTMLModel",
          "model_module_version": "1.5.0",
          "state": {
            "_view_name": "HTMLView",
            "style": "IPY_MODEL_acc57ebeffa44a2080ccf762091c3fde",
            "_dom_classes": [],
            "description": "",
            "_model_name": "HTMLModel",
            "placeholder": "​",
            "_view_module": "@jupyter-widgets/controls",
            "_model_module_version": "1.5.0",
            "value": " 673/1050 [5:15:03&lt;5:17:47, 50.58s/pipeline]",
            "_view_count": null,
            "_view_module_version": "1.5.0",
            "description_tooltip": null,
            "_model_module": "@jupyter-widgets/controls",
            "layout": "IPY_MODEL_36e2b3d13c2a458d8f46195a1bd93338"
          }
        },
        "22fc27a0357d443b90d1e1561057fcec": {
          "model_module": "@jupyter-widgets/controls",
          "model_name": "DescriptionStyleModel",
          "model_module_version": "1.5.0",
          "state": {
            "_view_name": "StyleView",
            "_model_name": "DescriptionStyleModel",
            "description_width": "",
            "_view_module": "@jupyter-widgets/base",
            "_model_module_version": "1.5.0",
            "_view_count": null,
            "_view_module_version": "1.2.0",
            "_model_module": "@jupyter-widgets/controls"
          }
        },
        "f1a337eae4d34f03a66d37bcd49fadc9": {
          "model_module": "@jupyter-widgets/base",
          "model_name": "LayoutModel",
          "model_module_version": "1.2.0",
          "state": {
            "_view_name": "LayoutView",
            "grid_template_rows": null,
            "right": null,
            "justify_content": null,
            "_view_module": "@jupyter-widgets/base",
            "overflow": null,
            "_model_module_version": "1.2.0",
            "_view_count": null,
            "flex_flow": null,
            "width": null,
            "min_width": null,
            "border": null,
            "align_items": null,
            "bottom": null,
            "_model_module": "@jupyter-widgets/base",
            "top": null,
            "grid_column": null,
            "overflow_y": null,
            "overflow_x": null,
            "grid_auto_flow": null,
            "grid_area": null,
            "grid_template_columns": null,
            "flex": null,
            "_model_name": "LayoutModel",
            "justify_items": null,
            "grid_row": null,
            "max_height": null,
            "align_content": null,
            "visibility": null,
            "align_self": null,
            "height": null,
            "min_height": null,
            "padding": null,
            "grid_auto_rows": null,
            "grid_gap": null,
            "max_width": null,
            "order": null,
            "_view_module_version": "1.2.0",
            "grid_template_areas": null,
            "object_position": null,
            "object_fit": null,
            "grid_auto_columns": null,
            "margin": null,
            "display": null,
            "left": null
          }
        },
        "913e7394e4ad4a68acc156c3157b7d91": {
          "model_module": "@jupyter-widgets/controls",
          "model_name": "ProgressStyleModel",
          "model_module_version": "1.5.0",
          "state": {
            "_view_name": "StyleView",
            "_model_name": "ProgressStyleModel",
            "description_width": "",
            "_view_module": "@jupyter-widgets/base",
            "_model_module_version": "1.5.0",
            "_view_count": null,
            "_view_module_version": "1.2.0",
            "bar_color": null,
            "_model_module": "@jupyter-widgets/controls"
          }
        },
        "ca1c8541f5a74f9ba4a4ca9a0ffef1bd": {
          "model_module": "@jupyter-widgets/base",
          "model_name": "LayoutModel",
          "model_module_version": "1.2.0",
          "state": {
            "_view_name": "LayoutView",
            "grid_template_rows": null,
            "right": null,
            "justify_content": null,
            "_view_module": "@jupyter-widgets/base",
            "overflow": null,
            "_model_module_version": "1.2.0",
            "_view_count": null,
            "flex_flow": null,
            "width": null,
            "min_width": null,
            "border": null,
            "align_items": null,
            "bottom": null,
            "_model_module": "@jupyter-widgets/base",
            "top": null,
            "grid_column": null,
            "overflow_y": null,
            "overflow_x": null,
            "grid_auto_flow": null,
            "grid_area": null,
            "grid_template_columns": null,
            "flex": null,
            "_model_name": "LayoutModel",
            "justify_items": null,
            "grid_row": null,
            "max_height": null,
            "align_content": null,
            "visibility": null,
            "align_self": null,
            "height": null,
            "min_height": null,
            "padding": null,
            "grid_auto_rows": null,
            "grid_gap": null,
            "max_width": null,
            "order": null,
            "_view_module_version": "1.2.0",
            "grid_template_areas": null,
            "object_position": null,
            "object_fit": null,
            "grid_auto_columns": null,
            "margin": null,
            "display": null,
            "left": null
          }
        },
        "acc57ebeffa44a2080ccf762091c3fde": {
          "model_module": "@jupyter-widgets/controls",
          "model_name": "DescriptionStyleModel",
          "model_module_version": "1.5.0",
          "state": {
            "_view_name": "StyleView",
            "_model_name": "DescriptionStyleModel",
            "description_width": "",
            "_view_module": "@jupyter-widgets/base",
            "_model_module_version": "1.5.0",
            "_view_count": null,
            "_view_module_version": "1.2.0",
            "_model_module": "@jupyter-widgets/controls"
          }
        },
        "36e2b3d13c2a458d8f46195a1bd93338": {
          "model_module": "@jupyter-widgets/base",
          "model_name": "LayoutModel",
          "model_module_version": "1.2.0",
          "state": {
            "_view_name": "LayoutView",
            "grid_template_rows": null,
            "right": null,
            "justify_content": null,
            "_view_module": "@jupyter-widgets/base",
            "overflow": null,
            "_model_module_version": "1.2.0",
            "_view_count": null,
            "flex_flow": null,
            "width": null,
            "min_width": null,
            "border": null,
            "align_items": null,
            "bottom": null,
            "_model_module": "@jupyter-widgets/base",
            "top": null,
            "grid_column": null,
            "overflow_y": null,
            "overflow_x": null,
            "grid_auto_flow": null,
            "grid_area": null,
            "grid_template_columns": null,
            "flex": null,
            "_model_name": "LayoutModel",
            "justify_items": null,
            "grid_row": null,
            "max_height": null,
            "align_content": null,
            "visibility": null,
            "align_self": null,
            "height": null,
            "min_height": null,
            "padding": null,
            "grid_auto_rows": null,
            "grid_gap": null,
            "max_width": null,
            "order": null,
            "_view_module_version": "1.2.0",
            "grid_template_areas": null,
            "object_position": null,
            "object_fit": null,
            "grid_auto_columns": null,
            "margin": null,
            "display": null,
            "left": null
          }
        }
      }
    }
  },
  "cells": [
    {
      "cell_type": "markdown",
      "metadata": {
        "id": "0t-r26jpQHfF"
      },
      "source": [
        "데이터 셋 형태 확인"
      ]
    },
    {
      "cell_type": "code",
      "metadata": {
        "colab": {
          "base_uri": "https://localhost:8080/",
          "height": 394
        },
        "id": "DPRN-uCTQHVy",
        "outputId": "19baec90-abef-41c4-922f-3ca115a33b9b"
      },
      "source": [
        "import pandas as pd\n",
        "import ast\n",
        "\n",
        "\n",
        "\n",
        "\n",
        "\n",
        "#데이터 확인\n",
        "\n",
        "\n",
        "Train = pd.read_csv('/content/gdrive/MyDrive/hoseo_AI/AI_탐지트랙_대회(학습용데이터).csv', encoding='euc=kr')\n",
        "Test = pd.read_csv('/content/gdrive/MyDrive/hoseo_AI/AI_탐지트랙_대회(제출용데이터).csv', encoding='euc=kr')\n",
        "\n",
        "#feature_group_A => x\n",
        "data = ast.literal_eval(Train['Feature_Group_A'][0])\n",
        "print(len(data))\n",
        "\n",
        "#feature_group_B => y\n",
        "data = ast.literal_eval(Train['Feature_Group_B'][0])\n",
        "print(len(data))\n",
        "\n",
        "#feature_group_C => z\n",
        "\n",
        "#feature_group_C는 데이터가 str형태라서 딕셔너리로 변환하는 코드\n",
        "data = ast.literal_eval(Train['Feature_Group_C'][0])\n",
        "#딕셔너리 형태 'numstrings': 3312, 'avlength': 24.9393115942029, 'printabledist': [5963, 67, 449, 124, 398, 49, 90, 154, 326, 218, 65, 103, 491, 306, 802, 451, 1097, 727, 615, 602, 712, 633, 589, 508, 638, 529, 668, 759, 853, 531, 687, 738, 1020, 1084, 294, 733, 760, 831, 427, 336, 383, 782, 113, 83, 612, 327, 376, 542, 1055, 289, 527, 812, 883, 489, 558, 658, 314, 283, 145, 103, 223, 91, 99, 412, 244, 3157, 869, 1713, 1846, 5152, 913, 973, 1322, 2815, 321, 306, 2263, 990, 3001, 3620, 1423, 200, 3392, 2378, 4119, 1238, 438, 985, 806, 851, 113, 123, 181, 100, 75, 86], 'printables': 82599, 'entropy': 5.8347296238951945, 'paths': 0, 'urls': 39, 'registry': 0, 'MZ': 8\n",
        "print(len(data['printabledist']))\n"
      ],
      "execution_count": null,
      "outputs": [
        {
          "ename": "FileNotFoundError",
          "evalue": "ignored",
          "output_type": "error",
          "traceback": [
            "\u001b[0;31m---------------------------------------------------------------------------\u001b[0m",
            "\u001b[0;31mFileNotFoundError\u001b[0m                         Traceback (most recent call last)",
            "\u001b[0;32m<ipython-input-1-09e98bcbccd7>\u001b[0m in \u001b[0;36m<module>\u001b[0;34m()\u001b[0m\n\u001b[1;32m      9\u001b[0m \u001b[0;34m\u001b[0m\u001b[0m\n\u001b[1;32m     10\u001b[0m \u001b[0;34m\u001b[0m\u001b[0m\n\u001b[0;32m---> 11\u001b[0;31m \u001b[0mTrain\u001b[0m \u001b[0;34m=\u001b[0m \u001b[0mpd\u001b[0m\u001b[0;34m.\u001b[0m\u001b[0mread_csv\u001b[0m\u001b[0;34m(\u001b[0m\u001b[0;34m'/content/gdrive/MyDrive/hoseo_AI/AI_탐지트랙_대회(학습용데이터).csv'\u001b[0m\u001b[0;34m,\u001b[0m \u001b[0mencoding\u001b[0m\u001b[0;34m=\u001b[0m\u001b[0;34m'euc=kr'\u001b[0m\u001b[0;34m)\u001b[0m\u001b[0;34m\u001b[0m\u001b[0;34m\u001b[0m\u001b[0m\n\u001b[0m\u001b[1;32m     12\u001b[0m \u001b[0mTest\u001b[0m \u001b[0;34m=\u001b[0m \u001b[0mpd\u001b[0m\u001b[0;34m.\u001b[0m\u001b[0mread_csv\u001b[0m\u001b[0;34m(\u001b[0m\u001b[0;34m'/content/gdrive/MyDrive/hoseo_AI/AI_탐지트랙_대회(제출용데이터).csv'\u001b[0m\u001b[0;34m,\u001b[0m \u001b[0mencoding\u001b[0m\u001b[0;34m=\u001b[0m\u001b[0;34m'euc=kr'\u001b[0m\u001b[0;34m)\u001b[0m\u001b[0;34m\u001b[0m\u001b[0;34m\u001b[0m\u001b[0m\n\u001b[1;32m     13\u001b[0m \u001b[0;34m\u001b[0m\u001b[0m\n",
            "\u001b[0;32m/usr/local/lib/python3.7/dist-packages/pandas/io/parsers.py\u001b[0m in \u001b[0;36mread_csv\u001b[0;34m(filepath_or_buffer, sep, delimiter, header, names, index_col, usecols, squeeze, prefix, mangle_dupe_cols, dtype, engine, converters, true_values, false_values, skipinitialspace, skiprows, skipfooter, nrows, na_values, keep_default_na, na_filter, verbose, skip_blank_lines, parse_dates, infer_datetime_format, keep_date_col, date_parser, dayfirst, cache_dates, iterator, chunksize, compression, thousands, decimal, lineterminator, quotechar, quoting, doublequote, escapechar, comment, encoding, dialect, error_bad_lines, warn_bad_lines, delim_whitespace, low_memory, memory_map, float_precision)\u001b[0m\n\u001b[1;32m    686\u001b[0m     )\n\u001b[1;32m    687\u001b[0m \u001b[0;34m\u001b[0m\u001b[0m\n\u001b[0;32m--> 688\u001b[0;31m     \u001b[0;32mreturn\u001b[0m \u001b[0m_read\u001b[0m\u001b[0;34m(\u001b[0m\u001b[0mfilepath_or_buffer\u001b[0m\u001b[0;34m,\u001b[0m \u001b[0mkwds\u001b[0m\u001b[0;34m)\u001b[0m\u001b[0;34m\u001b[0m\u001b[0;34m\u001b[0m\u001b[0m\n\u001b[0m\u001b[1;32m    689\u001b[0m \u001b[0;34m\u001b[0m\u001b[0m\n\u001b[1;32m    690\u001b[0m \u001b[0;34m\u001b[0m\u001b[0m\n",
            "\u001b[0;32m/usr/local/lib/python3.7/dist-packages/pandas/io/parsers.py\u001b[0m in \u001b[0;36m_read\u001b[0;34m(filepath_or_buffer, kwds)\u001b[0m\n\u001b[1;32m    452\u001b[0m \u001b[0;34m\u001b[0m\u001b[0m\n\u001b[1;32m    453\u001b[0m     \u001b[0;31m# Create the parser.\u001b[0m\u001b[0;34m\u001b[0m\u001b[0;34m\u001b[0m\u001b[0;34m\u001b[0m\u001b[0m\n\u001b[0;32m--> 454\u001b[0;31m     \u001b[0mparser\u001b[0m \u001b[0;34m=\u001b[0m \u001b[0mTextFileReader\u001b[0m\u001b[0;34m(\u001b[0m\u001b[0mfp_or_buf\u001b[0m\u001b[0;34m,\u001b[0m \u001b[0;34m**\u001b[0m\u001b[0mkwds\u001b[0m\u001b[0;34m)\u001b[0m\u001b[0;34m\u001b[0m\u001b[0;34m\u001b[0m\u001b[0m\n\u001b[0m\u001b[1;32m    455\u001b[0m \u001b[0;34m\u001b[0m\u001b[0m\n\u001b[1;32m    456\u001b[0m     \u001b[0;32mif\u001b[0m \u001b[0mchunksize\u001b[0m \u001b[0;32mor\u001b[0m \u001b[0miterator\u001b[0m\u001b[0;34m:\u001b[0m\u001b[0;34m\u001b[0m\u001b[0;34m\u001b[0m\u001b[0m\n",
            "\u001b[0;32m/usr/local/lib/python3.7/dist-packages/pandas/io/parsers.py\u001b[0m in \u001b[0;36m__init__\u001b[0;34m(self, f, engine, **kwds)\u001b[0m\n\u001b[1;32m    946\u001b[0m             \u001b[0mself\u001b[0m\u001b[0;34m.\u001b[0m\u001b[0moptions\u001b[0m\u001b[0;34m[\u001b[0m\u001b[0;34m\"has_index_names\"\u001b[0m\u001b[0;34m]\u001b[0m \u001b[0;34m=\u001b[0m \u001b[0mkwds\u001b[0m\u001b[0;34m[\u001b[0m\u001b[0;34m\"has_index_names\"\u001b[0m\u001b[0;34m]\u001b[0m\u001b[0;34m\u001b[0m\u001b[0;34m\u001b[0m\u001b[0m\n\u001b[1;32m    947\u001b[0m \u001b[0;34m\u001b[0m\u001b[0m\n\u001b[0;32m--> 948\u001b[0;31m         \u001b[0mself\u001b[0m\u001b[0;34m.\u001b[0m\u001b[0m_make_engine\u001b[0m\u001b[0;34m(\u001b[0m\u001b[0mself\u001b[0m\u001b[0;34m.\u001b[0m\u001b[0mengine\u001b[0m\u001b[0;34m)\u001b[0m\u001b[0;34m\u001b[0m\u001b[0;34m\u001b[0m\u001b[0m\n\u001b[0m\u001b[1;32m    949\u001b[0m \u001b[0;34m\u001b[0m\u001b[0m\n\u001b[1;32m    950\u001b[0m     \u001b[0;32mdef\u001b[0m \u001b[0mclose\u001b[0m\u001b[0;34m(\u001b[0m\u001b[0mself\u001b[0m\u001b[0;34m)\u001b[0m\u001b[0;34m:\u001b[0m\u001b[0;34m\u001b[0m\u001b[0;34m\u001b[0m\u001b[0m\n",
            "\u001b[0;32m/usr/local/lib/python3.7/dist-packages/pandas/io/parsers.py\u001b[0m in \u001b[0;36m_make_engine\u001b[0;34m(self, engine)\u001b[0m\n\u001b[1;32m   1178\u001b[0m     \u001b[0;32mdef\u001b[0m \u001b[0m_make_engine\u001b[0m\u001b[0;34m(\u001b[0m\u001b[0mself\u001b[0m\u001b[0;34m,\u001b[0m \u001b[0mengine\u001b[0m\u001b[0;34m=\u001b[0m\u001b[0;34m\"c\"\u001b[0m\u001b[0;34m)\u001b[0m\u001b[0;34m:\u001b[0m\u001b[0;34m\u001b[0m\u001b[0;34m\u001b[0m\u001b[0m\n\u001b[1;32m   1179\u001b[0m         \u001b[0;32mif\u001b[0m \u001b[0mengine\u001b[0m \u001b[0;34m==\u001b[0m \u001b[0;34m\"c\"\u001b[0m\u001b[0;34m:\u001b[0m\u001b[0;34m\u001b[0m\u001b[0;34m\u001b[0m\u001b[0m\n\u001b[0;32m-> 1180\u001b[0;31m             \u001b[0mself\u001b[0m\u001b[0;34m.\u001b[0m\u001b[0m_engine\u001b[0m \u001b[0;34m=\u001b[0m \u001b[0mCParserWrapper\u001b[0m\u001b[0;34m(\u001b[0m\u001b[0mself\u001b[0m\u001b[0;34m.\u001b[0m\u001b[0mf\u001b[0m\u001b[0;34m,\u001b[0m \u001b[0;34m**\u001b[0m\u001b[0mself\u001b[0m\u001b[0;34m.\u001b[0m\u001b[0moptions\u001b[0m\u001b[0;34m)\u001b[0m\u001b[0;34m\u001b[0m\u001b[0;34m\u001b[0m\u001b[0m\n\u001b[0m\u001b[1;32m   1181\u001b[0m         \u001b[0;32melse\u001b[0m\u001b[0;34m:\u001b[0m\u001b[0;34m\u001b[0m\u001b[0;34m\u001b[0m\u001b[0m\n\u001b[1;32m   1182\u001b[0m             \u001b[0;32mif\u001b[0m \u001b[0mengine\u001b[0m \u001b[0;34m==\u001b[0m \u001b[0;34m\"python\"\u001b[0m\u001b[0;34m:\u001b[0m\u001b[0;34m\u001b[0m\u001b[0;34m\u001b[0m\u001b[0m\n",
            "\u001b[0;32m/usr/local/lib/python3.7/dist-packages/pandas/io/parsers.py\u001b[0m in \u001b[0;36m__init__\u001b[0;34m(self, src, **kwds)\u001b[0m\n\u001b[1;32m   1991\u001b[0m         \u001b[0;32mif\u001b[0m \u001b[0mkwds\u001b[0m\u001b[0;34m.\u001b[0m\u001b[0mget\u001b[0m\u001b[0;34m(\u001b[0m\u001b[0;34m\"compression\"\u001b[0m\u001b[0;34m)\u001b[0m \u001b[0;32mis\u001b[0m \u001b[0;32mNone\u001b[0m \u001b[0;32mand\u001b[0m \u001b[0mencoding\u001b[0m\u001b[0;34m:\u001b[0m\u001b[0;34m\u001b[0m\u001b[0;34m\u001b[0m\u001b[0m\n\u001b[1;32m   1992\u001b[0m             \u001b[0;32mif\u001b[0m \u001b[0misinstance\u001b[0m\u001b[0;34m(\u001b[0m\u001b[0msrc\u001b[0m\u001b[0;34m,\u001b[0m \u001b[0mstr\u001b[0m\u001b[0;34m)\u001b[0m\u001b[0;34m:\u001b[0m\u001b[0;34m\u001b[0m\u001b[0;34m\u001b[0m\u001b[0m\n\u001b[0;32m-> 1993\u001b[0;31m                 \u001b[0msrc\u001b[0m \u001b[0;34m=\u001b[0m \u001b[0mopen\u001b[0m\u001b[0;34m(\u001b[0m\u001b[0msrc\u001b[0m\u001b[0;34m,\u001b[0m \u001b[0;34m\"rb\"\u001b[0m\u001b[0;34m)\u001b[0m\u001b[0;34m\u001b[0m\u001b[0;34m\u001b[0m\u001b[0m\n\u001b[0m\u001b[1;32m   1994\u001b[0m                 \u001b[0mself\u001b[0m\u001b[0;34m.\u001b[0m\u001b[0mhandles\u001b[0m\u001b[0;34m.\u001b[0m\u001b[0mappend\u001b[0m\u001b[0;34m(\u001b[0m\u001b[0msrc\u001b[0m\u001b[0;34m)\u001b[0m\u001b[0;34m\u001b[0m\u001b[0;34m\u001b[0m\u001b[0m\n\u001b[1;32m   1995\u001b[0m \u001b[0;34m\u001b[0m\u001b[0m\n",
            "\u001b[0;31mFileNotFoundError\u001b[0m: [Errno 2] No such file or directory: '/content/gdrive/MyDrive/hoseo_AI/AI_탐지트랙_대회(학습용데이터).csv'"
          ]
        }
      ]
    },
    {
      "cell_type": "code",
      "metadata": {
        "id": "8WqeHS9SQHTf"
      },
      "source": [
        "#차원 축소"
      ],
      "execution_count": null,
      "outputs": []
    },
    {
      "cell_type": "code",
      "metadata": {
        "id": "jZ6i_iQEQHRZ"
      },
      "source": [
        ""
      ],
      "execution_count": null,
      "outputs": []
    },
    {
      "cell_type": "code",
      "metadata": {
        "id": "ND6l-mL1QHPC"
      },
      "source": [
        ""
      ],
      "execution_count": null,
      "outputs": []
    },
    {
      "cell_type": "code",
      "metadata": {
        "id": "k-ejerxxQG4W"
      },
      "source": [
        ""
      ],
      "execution_count": null,
      "outputs": []
    },
    {
      "cell_type": "markdown",
      "metadata": {
        "id": "LiSadyOtMxyU"
      },
      "source": [
        "**1. AutoML 모델 이용**\n",
        "\n",
        "https://colab.research.google.com/github/rpi-techfundamentals/spring2019-materials/blob/master/14-automl/01_auto_ml_tpot.ipynb#scrollTo=uhBlHuGpO2n6\n",
        "\n"
      ]
    },
    {
      "cell_type": "code",
      "metadata": {
        "colab": {
          "base_uri": "https://localhost:8080/"
        },
        "id": "GH_2tbxELDqp",
        "outputId": "b44073a0-6464-4f38-cbf3-d5ce8776680c"
      },
      "source": [
        "# Install tpot on the server\n",
        "!pip install tpot\n",
        "!pip install -U scikit-learn"
      ],
      "execution_count": null,
      "outputs": [
        {
          "output_type": "stream",
          "name": "stdout",
          "text": [
            "Collecting tpot\n",
            "  Downloading TPOT-0.11.7-py3-none-any.whl (87 kB)\n",
            "\u001b[?25l\r\u001b[K     |███▊                            | 10 kB 18.6 MB/s eta 0:00:01\r\u001b[K     |███████▌                        | 20 kB 25.1 MB/s eta 0:00:01\r\u001b[K     |███████████▎                    | 30 kB 22.6 MB/s eta 0:00:01\r\u001b[K     |███████████████                 | 40 kB 16.0 MB/s eta 0:00:01\r\u001b[K     |██████████████████▉             | 51 kB 8.1 MB/s eta 0:00:01\r\u001b[K     |██████████████████████▋         | 61 kB 9.3 MB/s eta 0:00:01\r\u001b[K     |██████████████████████████▎     | 71 kB 9.0 MB/s eta 0:00:01\r\u001b[K     |██████████████████████████████  | 81 kB 10.0 MB/s eta 0:00:01\r\u001b[K     |████████████████████████████████| 87 kB 2.4 MB/s \n",
            "\u001b[?25hRequirement already satisfied: pandas>=0.24.2 in /usr/local/lib/python3.7/dist-packages (from tpot) (1.1.5)\n",
            "Requirement already satisfied: scipy>=1.3.1 in /usr/local/lib/python3.7/dist-packages (from tpot) (1.4.1)\n",
            "Collecting stopit>=1.1.1\n",
            "  Downloading stopit-1.1.2.tar.gz (18 kB)\n",
            "Requirement already satisfied: numpy>=1.16.3 in /usr/local/lib/python3.7/dist-packages (from tpot) (1.19.5)\n",
            "Collecting update-checker>=0.16\n",
            "  Downloading update_checker-0.18.0-py3-none-any.whl (7.0 kB)\n",
            "Collecting deap>=1.2\n",
            "  Downloading deap-1.3.1-cp37-cp37m-manylinux_2_5_x86_64.manylinux1_x86_64.manylinux_2_12_x86_64.manylinux2010_x86_64.whl (160 kB)\n",
            "\u001b[K     |████████████████████████████████| 160 kB 19.7 MB/s \n",
            "\u001b[?25hRequirement already satisfied: tqdm>=4.36.1 in /usr/local/lib/python3.7/dist-packages (from tpot) (4.62.3)\n",
            "Requirement already satisfied: scikit-learn>=0.22.0 in /usr/local/lib/python3.7/dist-packages (from tpot) (0.22.2.post1)\n",
            "Requirement already satisfied: joblib>=0.13.2 in /usr/local/lib/python3.7/dist-packages (from tpot) (1.0.1)\n",
            "Collecting xgboost>=1.1.0\n",
            "  Downloading xgboost-1.5.0-py3-none-manylinux2014_x86_64.whl (173.5 MB)\n",
            "\u001b[K     |████████████████████████████████| 173.5 MB 62 kB/s \n",
            "\u001b[?25hRequirement already satisfied: python-dateutil>=2.7.3 in /usr/local/lib/python3.7/dist-packages (from pandas>=0.24.2->tpot) (2.8.2)\n",
            "Requirement already satisfied: pytz>=2017.2 in /usr/local/lib/python3.7/dist-packages (from pandas>=0.24.2->tpot) (2018.9)\n",
            "Requirement already satisfied: six>=1.5 in /usr/local/lib/python3.7/dist-packages (from python-dateutil>=2.7.3->pandas>=0.24.2->tpot) (1.15.0)\n",
            "Requirement already satisfied: requests>=2.3.0 in /usr/local/lib/python3.7/dist-packages (from update-checker>=0.16->tpot) (2.23.0)\n",
            "Requirement already satisfied: certifi>=2017.4.17 in /usr/local/lib/python3.7/dist-packages (from requests>=2.3.0->update-checker>=0.16->tpot) (2021.5.30)\n",
            "Requirement already satisfied: urllib3!=1.25.0,!=1.25.1,<1.26,>=1.21.1 in /usr/local/lib/python3.7/dist-packages (from requests>=2.3.0->update-checker>=0.16->tpot) (1.24.3)\n",
            "Requirement already satisfied: chardet<4,>=3.0.2 in /usr/local/lib/python3.7/dist-packages (from requests>=2.3.0->update-checker>=0.16->tpot) (3.0.4)\n",
            "Requirement already satisfied: idna<3,>=2.5 in /usr/local/lib/python3.7/dist-packages (from requests>=2.3.0->update-checker>=0.16->tpot) (2.10)\n",
            "Building wheels for collected packages: stopit\n",
            "  Building wheel for stopit (setup.py) ... \u001b[?25l\u001b[?25hdone\n",
            "  Created wheel for stopit: filename=stopit-1.1.2-py3-none-any.whl size=11952 sha256=24dba62c41cd09c56e601b79e2e1cf29124289805f8bce19455b55736a79a1bb\n",
            "  Stored in directory: /root/.cache/pip/wheels/e2/d2/79/eaf81edb391e27c87f51b8ef901ecc85a5363dc96b8b8d71e3\n",
            "Successfully built stopit\n",
            "Installing collected packages: xgboost, update-checker, stopit, deap, tpot\n",
            "  Attempting uninstall: xgboost\n",
            "    Found existing installation: xgboost 0.90\n",
            "    Uninstalling xgboost-0.90:\n",
            "      Successfully uninstalled xgboost-0.90\n",
            "Successfully installed deap-1.3.1 stopit-1.1.2 tpot-0.11.7 update-checker-0.18.0 xgboost-1.5.0\n",
            "Requirement already satisfied: scikit-learn in /usr/local/lib/python3.7/dist-packages (0.22.2.post1)\n",
            "Collecting scikit-learn\n",
            "  Downloading scikit_learn-1.0-cp37-cp37m-manylinux_2_12_x86_64.manylinux2010_x86_64.whl (23.1 MB)\n",
            "\u001b[K     |████████████████████████████████| 23.1 MB 1.3 MB/s \n",
            "\u001b[?25hRequirement already satisfied: numpy>=1.14.6 in /usr/local/lib/python3.7/dist-packages (from scikit-learn) (1.19.5)\n",
            "Collecting threadpoolctl>=2.0.0\n",
            "  Downloading threadpoolctl-3.0.0-py3-none-any.whl (14 kB)\n",
            "Requirement already satisfied: joblib>=0.11 in /usr/local/lib/python3.7/dist-packages (from scikit-learn) (1.0.1)\n",
            "Requirement already satisfied: scipy>=1.1.0 in /usr/local/lib/python3.7/dist-packages (from scikit-learn) (1.4.1)\n",
            "Installing collected packages: threadpoolctl, scikit-learn\n",
            "  Attempting uninstall: scikit-learn\n",
            "    Found existing installation: scikit-learn 0.22.2.post1\n",
            "    Uninstalling scikit-learn-0.22.2.post1:\n",
            "      Successfully uninstalled scikit-learn-0.22.2.post1\n",
            "Successfully installed scikit-learn-1.0 threadpoolctl-3.0.0\n"
          ]
        }
      ]
    },
    {
      "cell_type": "code",
      "metadata": {
        "id": "1vwNbqQiMjox"
      },
      "source": [
        "# pandas and numpy for data manipulation\n",
        "import pandas as pd\n",
        "import numpy as np\n",
        "\n",
        "\n",
        "from tpot import TPOTClassifier"
      ],
      "execution_count": null,
      "outputs": []
    },
    {
      "cell_type": "code",
      "metadata": {
        "colab": {
          "base_uri": "https://localhost:8080/"
        },
        "id": "4nyqsFUcMjrO",
        "outputId": "317539bb-13ec-4196-a770-020de4ee2da5"
      },
      "source": [
        "\n",
        "#데이터 불러오기\n",
        "from google.colab import drive \n",
        "drive.mount('/content/gdrive/')\n",
        "\n"
      ],
      "execution_count": null,
      "outputs": [
        {
          "output_type": "stream",
          "name": "stdout",
          "text": [
            "Mounted at /content/gdrive/\n"
          ]
        }
      ]
    },
    {
      "cell_type": "code",
      "metadata": {
        "colab": {
          "base_uri": "https://localhost:8080/",
          "height": 394
        },
        "id": "ibtGEb4hN9k_",
        "outputId": "98348f81-e465-44a6-d2df-64911eeb469a"
      },
      "source": [
        "import pandas as pd\n",
        "import ast\n",
        "\n",
        "#데이터 전처리\n",
        "\n",
        "Train = pd.read_csv('/content/gdrive/MyDrive/hoseo_AI/AI_탐지트랙_대회(학습용데이터).csv', encoding='euc=kr')\n",
        "Test = pd.read_csv('/content/gdrive/MyDrive/hoseo_AI/AI_탐지트랙_대회(제출용데이터).csv', encoding='euc=kr')\n",
        "\n",
        "#데이터 프레임 생성\n",
        "\n",
        "#테스트 피쳐\n",
        "data = ast.literal_eval(Train['Feature_Group_C'][0])\n",
        "\n",
        "A = ast.literal_eval(Train['Feature_Group_A'][0])\n",
        "A = np.array(A)\n",
        "A = np.std(A)\n",
        "\n",
        "B = ast.literal_eval(Train['Feature_Group_B'][0])\n",
        "B = np.array(B)\n",
        "B = np.std(B)\n",
        "\n",
        "printabled = np.array(data['printabledist'])\n",
        "printabled = np.std(printabled)\n",
        "\n",
        "\n",
        "df_train_features = pd.DataFrame({\n",
        "                                  'Feature_Group_A': A,\n",
        "                                  'Feature_Group_B': B,\n",
        "                                  'numstrings' : data['numstrings'],\n",
        "                                  'avlength': data['avlength'],\n",
        "                                  'printabledist':printabled,\n",
        "                                  'printables' : data['printables'],\n",
        "                                  'entropy': data['entropy'],\n",
        "                                  'paths' : data['paths'],\n",
        "                                  'urls' : data['urls'],\n",
        "                                  'registry' : data['registry'],\n",
        "                                  'MZ' : data['MZ'],\n",
        "\n",
        "                                  \n",
        "},index=[0])\n",
        "for i in range(1,len(Train)):\n",
        "  data = ast.literal_eval(Train['Feature_Group_C'][i])\n",
        "\n",
        "  A = ast.literal_eval(Train['Feature_Group_A'][i])\n",
        "  A = np.array(A)\n",
        "  A = np.std(A)\n",
        "\n",
        "  B = ast.literal_eval(Train['Feature_Group_B'][i])\n",
        "  B = np.array(B)\n",
        "  B = np.std(B)\n",
        "\n",
        "  printabled = np.array(data['printabledist'])\n",
        "  printabled = np.std(printabled)\n",
        "\n",
        "\n",
        "\n",
        "  new_df ={\n",
        "                                  'Feature_Group_A': A,\n",
        "                                  'Feature_Group_B': B,\n",
        "                                  'numstrings' : data['numstrings'],\n",
        "                                  'avlength': data['avlength'],\n",
        "                                  'printabledist':printabled,\n",
        "                                  'printables' : data['printables'],\n",
        "                                  'entropy': data['entropy'],\n",
        "                                  'paths' : data['paths'],\n",
        "                                  'urls' : data['urls'],\n",
        "                                  'registry' : data['registry'],\n",
        "                                  'MZ' : data['MZ']\n",
        "}\n",
        "  new_df = pd.DataFrame(new_df,index=[i])\n",
        "\n",
        "  df_train_features = pd.concat([df_train_features,new_df], sort=False)\n",
        "\n",
        "\n",
        "  \n",
        "\n",
        "\n",
        "\n",
        "#테스트 피처\n",
        "\n",
        "\n",
        "data = ast.literal_eval(Test['Feature_Group_C'][0])\n",
        "\n",
        "A = ast.literal_eval(Test['Feature_Group_A'][0])\n",
        "A = np.array(A)\n",
        "A = np.std(A)\n",
        "\n",
        "B = ast.literal_eval(Test['Feature_Group_B'][0])\n",
        "B = np.array(B)\n",
        "B = np.std(B)\n",
        "\n",
        "printabled = np.array(data['printabledist'])\n",
        "printabled = np.std(printabled)\n",
        "\n",
        "\n",
        "\n",
        "df_test_features = pd.DataFrame({\n",
        "                                  'Feature_Group_A': A,\n",
        "                                  'Feature_Group_B': B,\n",
        "                                  'numstrings' : data['numstrings'],\n",
        "                                  'avlength': data['avlength'],\n",
        "                                  'printabledist':printabled,\n",
        "                                  'printables' : data['printables'],\n",
        "                                  'entropy': data['entropy'],\n",
        "                                  'paths' : data['paths'],\n",
        "                                  'urls' : data['urls'],\n",
        "                                  'registry' : data['registry'],\n",
        "                                  'MZ' : data['MZ']\n",
        "},index=[0])\n",
        "\n",
        "\n",
        "\n",
        "for i in range(1,len(Test)):\n",
        "  data = ast.literal_eval(Test['Feature_Group_C'][i])\n",
        "\n",
        "  A = ast.literal_eval(Test['Feature_Group_A'][i])\n",
        "  A = np.array(A)\n",
        "  A = np.std(A)\n",
        "\n",
        "  B = ast.literal_eval(Test['Feature_Group_B'][i])\n",
        "  B = np.array(B)\n",
        "  B = np.std(B)\n",
        "\n",
        "  printabled = np.array(data['printabledist'])\n",
        "  printabled = np.std(printabled)\n",
        "\n",
        "\n",
        "  new_df ={\n",
        "                                  'Feature_Group_A': A,\n",
        "                                  'Feature_Group_B': B,\n",
        "                                  'numstrings' : data['numstrings'],\n",
        "                                  'avlength': data['avlength'],\n",
        "                                  'printabledist':printabled,\n",
        "                                  'printables' : data['printables'],\n",
        "                                  'entropy': data['entropy'],\n",
        "                                  'paths' : data['paths'],\n",
        "                                  'urls' : data['urls'],\n",
        "                                  'registry' : data['registry'],\n",
        "                                  'MZ' : data['MZ']\n",
        "}\n",
        "  new_df = pd.DataFrame(new_df,index=[i])\n",
        "\n",
        "  df_test_features = pd.concat([df_test_features,new_df], sort=False)\n",
        "\n",
        "\n",
        "\n",
        "\n",
        "df_train_label = Train['label']\n",
        "\n",
        "\n"
      ],
      "execution_count": null,
      "outputs": [
        {
          "ename": "KeyboardInterrupt",
          "evalue": "ignored",
          "output_type": "error",
          "traceback": [
            "\u001b[0;31m---------------------------------------------------------------------------\u001b[0m",
            "\u001b[0;31mKeyboardInterrupt\u001b[0m                         Traceback (most recent call last)",
            "\u001b[0;32m<ipython-input-4-436749bab747>\u001b[0m in \u001b[0;36m<module>\u001b[0;34m()\u001b[0m\n\u001b[1;32m     70\u001b[0m   \u001b[0mnew_df\u001b[0m \u001b[0;34m=\u001b[0m \u001b[0mpd\u001b[0m\u001b[0;34m.\u001b[0m\u001b[0mDataFrame\u001b[0m\u001b[0;34m(\u001b[0m\u001b[0mnew_df\u001b[0m\u001b[0;34m,\u001b[0m\u001b[0mindex\u001b[0m\u001b[0;34m=\u001b[0m\u001b[0;34m[\u001b[0m\u001b[0mi\u001b[0m\u001b[0;34m]\u001b[0m\u001b[0;34m)\u001b[0m\u001b[0;34m\u001b[0m\u001b[0;34m\u001b[0m\u001b[0m\n\u001b[1;32m     71\u001b[0m \u001b[0;34m\u001b[0m\u001b[0m\n\u001b[0;32m---> 72\u001b[0;31m   \u001b[0mdf_train_features\u001b[0m \u001b[0;34m=\u001b[0m \u001b[0mpd\u001b[0m\u001b[0;34m.\u001b[0m\u001b[0mconcat\u001b[0m\u001b[0;34m(\u001b[0m\u001b[0;34m[\u001b[0m\u001b[0mdf_train_features\u001b[0m\u001b[0;34m,\u001b[0m\u001b[0mnew_df\u001b[0m\u001b[0;34m]\u001b[0m\u001b[0;34m,\u001b[0m \u001b[0msort\u001b[0m\u001b[0;34m=\u001b[0m\u001b[0;32mFalse\u001b[0m\u001b[0;34m)\u001b[0m\u001b[0;34m\u001b[0m\u001b[0;34m\u001b[0m\u001b[0m\n\u001b[0m\u001b[1;32m     73\u001b[0m \u001b[0;34m\u001b[0m\u001b[0m\n\u001b[1;32m     74\u001b[0m \u001b[0;34m\u001b[0m\u001b[0m\n",
            "\u001b[0;32m/usr/local/lib/python3.7/dist-packages/pandas/core/reshape/concat.py\u001b[0m in \u001b[0;36mconcat\u001b[0;34m(objs, axis, join, ignore_index, keys, levels, names, verify_integrity, sort, copy)\u001b[0m\n\u001b[1;32m    282\u001b[0m         \u001b[0mverify_integrity\u001b[0m\u001b[0;34m=\u001b[0m\u001b[0mverify_integrity\u001b[0m\u001b[0;34m,\u001b[0m\u001b[0;34m\u001b[0m\u001b[0;34m\u001b[0m\u001b[0m\n\u001b[1;32m    283\u001b[0m         \u001b[0mcopy\u001b[0m\u001b[0;34m=\u001b[0m\u001b[0mcopy\u001b[0m\u001b[0;34m,\u001b[0m\u001b[0;34m\u001b[0m\u001b[0;34m\u001b[0m\u001b[0m\n\u001b[0;32m--> 284\u001b[0;31m         \u001b[0msort\u001b[0m\u001b[0;34m=\u001b[0m\u001b[0msort\u001b[0m\u001b[0;34m,\u001b[0m\u001b[0;34m\u001b[0m\u001b[0;34m\u001b[0m\u001b[0m\n\u001b[0m\u001b[1;32m    285\u001b[0m     )\n\u001b[1;32m    286\u001b[0m \u001b[0;34m\u001b[0m\u001b[0m\n",
            "\u001b[0;32m/usr/local/lib/python3.7/dist-packages/pandas/core/reshape/concat.py\u001b[0m in \u001b[0;36m__init__\u001b[0;34m(self, objs, axis, join, keys, levels, names, ignore_index, verify_integrity, copy, sort)\u001b[0m\n\u001b[1;32m    452\u001b[0m         \u001b[0mself\u001b[0m\u001b[0;34m.\u001b[0m\u001b[0mcopy\u001b[0m \u001b[0;34m=\u001b[0m \u001b[0mcopy\u001b[0m\u001b[0;34m\u001b[0m\u001b[0;34m\u001b[0m\u001b[0m\n\u001b[1;32m    453\u001b[0m \u001b[0;34m\u001b[0m\u001b[0m\n\u001b[0;32m--> 454\u001b[0;31m         \u001b[0mself\u001b[0m\u001b[0;34m.\u001b[0m\u001b[0mnew_axes\u001b[0m \u001b[0;34m=\u001b[0m \u001b[0mself\u001b[0m\u001b[0;34m.\u001b[0m\u001b[0m_get_new_axes\u001b[0m\u001b[0;34m(\u001b[0m\u001b[0;34m)\u001b[0m\u001b[0;34m\u001b[0m\u001b[0;34m\u001b[0m\u001b[0m\n\u001b[0m\u001b[1;32m    455\u001b[0m \u001b[0;34m\u001b[0m\u001b[0m\n\u001b[1;32m    456\u001b[0m     \u001b[0;32mdef\u001b[0m \u001b[0mget_result\u001b[0m\u001b[0;34m(\u001b[0m\u001b[0mself\u001b[0m\u001b[0;34m)\u001b[0m\u001b[0;34m:\u001b[0m\u001b[0;34m\u001b[0m\u001b[0;34m\u001b[0m\u001b[0m\n",
            "\u001b[0;32m/usr/local/lib/python3.7/dist-packages/pandas/core/reshape/concat.py\u001b[0m in \u001b[0;36m_get_new_axes\u001b[0;34m(self)\u001b[0m\n\u001b[1;32m    519\u001b[0m         return [\n\u001b[1;32m    520\u001b[0m             \u001b[0mself\u001b[0m\u001b[0;34m.\u001b[0m\u001b[0m_get_concat_axis\u001b[0m\u001b[0;34m(\u001b[0m\u001b[0;34m)\u001b[0m \u001b[0;32mif\u001b[0m \u001b[0mi\u001b[0m \u001b[0;34m==\u001b[0m \u001b[0mself\u001b[0m\u001b[0;34m.\u001b[0m\u001b[0mbm_axis\u001b[0m \u001b[0;32melse\u001b[0m \u001b[0mself\u001b[0m\u001b[0;34m.\u001b[0m\u001b[0m_get_comb_axis\u001b[0m\u001b[0;34m(\u001b[0m\u001b[0mi\u001b[0m\u001b[0;34m)\u001b[0m\u001b[0;34m\u001b[0m\u001b[0;34m\u001b[0m\u001b[0m\n\u001b[0;32m--> 521\u001b[0;31m             \u001b[0;32mfor\u001b[0m \u001b[0mi\u001b[0m \u001b[0;32min\u001b[0m \u001b[0mrange\u001b[0m\u001b[0;34m(\u001b[0m\u001b[0mndim\u001b[0m\u001b[0;34m)\u001b[0m\u001b[0;34m\u001b[0m\u001b[0;34m\u001b[0m\u001b[0m\n\u001b[0m\u001b[1;32m    522\u001b[0m         ]\n\u001b[1;32m    523\u001b[0m \u001b[0;34m\u001b[0m\u001b[0m\n",
            "\u001b[0;32m/usr/local/lib/python3.7/dist-packages/pandas/core/reshape/concat.py\u001b[0m in \u001b[0;36m<listcomp>\u001b[0;34m(.0)\u001b[0m\n\u001b[1;32m    519\u001b[0m         return [\n\u001b[1;32m    520\u001b[0m             \u001b[0mself\u001b[0m\u001b[0;34m.\u001b[0m\u001b[0m_get_concat_axis\u001b[0m\u001b[0;34m(\u001b[0m\u001b[0;34m)\u001b[0m \u001b[0;32mif\u001b[0m \u001b[0mi\u001b[0m \u001b[0;34m==\u001b[0m \u001b[0mself\u001b[0m\u001b[0;34m.\u001b[0m\u001b[0mbm_axis\u001b[0m \u001b[0;32melse\u001b[0m \u001b[0mself\u001b[0m\u001b[0;34m.\u001b[0m\u001b[0m_get_comb_axis\u001b[0m\u001b[0;34m(\u001b[0m\u001b[0mi\u001b[0m\u001b[0;34m)\u001b[0m\u001b[0;34m\u001b[0m\u001b[0;34m\u001b[0m\u001b[0m\n\u001b[0;32m--> 521\u001b[0;31m             \u001b[0;32mfor\u001b[0m \u001b[0mi\u001b[0m \u001b[0;32min\u001b[0m \u001b[0mrange\u001b[0m\u001b[0;34m(\u001b[0m\u001b[0mndim\u001b[0m\u001b[0;34m)\u001b[0m\u001b[0;34m\u001b[0m\u001b[0;34m\u001b[0m\u001b[0m\n\u001b[0m\u001b[1;32m    522\u001b[0m         ]\n\u001b[1;32m    523\u001b[0m \u001b[0;34m\u001b[0m\u001b[0m\n",
            "\u001b[0;32m/usr/local/lib/python3.7/dist-packages/pandas/core/reshape/concat.py\u001b[0m in \u001b[0;36m_get_concat_axis\u001b[0;34m(self)\u001b[0m\n\u001b[1;32m    572\u001b[0m \u001b[0;34m\u001b[0m\u001b[0m\n\u001b[1;32m    573\u001b[0m         \u001b[0;32mif\u001b[0m \u001b[0mself\u001b[0m\u001b[0;34m.\u001b[0m\u001b[0mkeys\u001b[0m \u001b[0;32mis\u001b[0m \u001b[0;32mNone\u001b[0m\u001b[0;34m:\u001b[0m\u001b[0;34m\u001b[0m\u001b[0;34m\u001b[0m\u001b[0m\n\u001b[0;32m--> 574\u001b[0;31m             \u001b[0mconcat_axis\u001b[0m \u001b[0;34m=\u001b[0m \u001b[0m_concat_indexes\u001b[0m\u001b[0;34m(\u001b[0m\u001b[0mindexes\u001b[0m\u001b[0;34m)\u001b[0m\u001b[0;34m\u001b[0m\u001b[0;34m\u001b[0m\u001b[0m\n\u001b[0m\u001b[1;32m    575\u001b[0m         \u001b[0;32melse\u001b[0m\u001b[0;34m:\u001b[0m\u001b[0;34m\u001b[0m\u001b[0;34m\u001b[0m\u001b[0m\n\u001b[1;32m    576\u001b[0m             concat_axis = _make_concat_multiindex(\n",
            "\u001b[0;32m/usr/local/lib/python3.7/dist-packages/pandas/core/reshape/concat.py\u001b[0m in \u001b[0;36m_concat_indexes\u001b[0;34m(indexes)\u001b[0m\n\u001b[1;32m    590\u001b[0m \u001b[0;34m\u001b[0m\u001b[0m\n\u001b[1;32m    591\u001b[0m \u001b[0;32mdef\u001b[0m \u001b[0m_concat_indexes\u001b[0m\u001b[0;34m(\u001b[0m\u001b[0mindexes\u001b[0m\u001b[0;34m)\u001b[0m \u001b[0;34m->\u001b[0m \u001b[0mIndex\u001b[0m\u001b[0;34m:\u001b[0m\u001b[0;34m\u001b[0m\u001b[0;34m\u001b[0m\u001b[0m\n\u001b[0;32m--> 592\u001b[0;31m     \u001b[0;32mreturn\u001b[0m \u001b[0mindexes\u001b[0m\u001b[0;34m[\u001b[0m\u001b[0;36m0\u001b[0m\u001b[0;34m]\u001b[0m\u001b[0;34m.\u001b[0m\u001b[0mappend\u001b[0m\u001b[0;34m(\u001b[0m\u001b[0mindexes\u001b[0m\u001b[0;34m[\u001b[0m\u001b[0;36m1\u001b[0m\u001b[0;34m:\u001b[0m\u001b[0;34m]\u001b[0m\u001b[0;34m)\u001b[0m\u001b[0;34m\u001b[0m\u001b[0;34m\u001b[0m\u001b[0m\n\u001b[0m\u001b[1;32m    593\u001b[0m \u001b[0;34m\u001b[0m\u001b[0m\n\u001b[1;32m    594\u001b[0m \u001b[0;34m\u001b[0m\u001b[0m\n",
            "\u001b[0;32m/usr/local/lib/python3.7/dist-packages/pandas/core/indexes/base.py\u001b[0m in \u001b[0;36mappend\u001b[0;34m(self, other)\u001b[0m\n\u001b[1;32m   4160\u001b[0m         \u001b[0mname\u001b[0m \u001b[0;34m=\u001b[0m \u001b[0;32mNone\u001b[0m \u001b[0;32mif\u001b[0m \u001b[0mlen\u001b[0m\u001b[0;34m(\u001b[0m\u001b[0mnames\u001b[0m\u001b[0;34m)\u001b[0m \u001b[0;34m>\u001b[0m \u001b[0;36m1\u001b[0m \u001b[0;32melse\u001b[0m \u001b[0mself\u001b[0m\u001b[0;34m.\u001b[0m\u001b[0mname\u001b[0m\u001b[0;34m\u001b[0m\u001b[0;34m\u001b[0m\u001b[0m\n\u001b[1;32m   4161\u001b[0m \u001b[0;34m\u001b[0m\u001b[0m\n\u001b[0;32m-> 4162\u001b[0;31m         \u001b[0;32mreturn\u001b[0m \u001b[0mself\u001b[0m\u001b[0;34m.\u001b[0m\u001b[0m_concat\u001b[0m\u001b[0;34m(\u001b[0m\u001b[0mto_concat\u001b[0m\u001b[0;34m,\u001b[0m \u001b[0mname\u001b[0m\u001b[0;34m)\u001b[0m\u001b[0;34m\u001b[0m\u001b[0;34m\u001b[0m\u001b[0m\n\u001b[0m\u001b[1;32m   4163\u001b[0m \u001b[0;34m\u001b[0m\u001b[0m\n\u001b[1;32m   4164\u001b[0m     \u001b[0;32mdef\u001b[0m \u001b[0m_concat\u001b[0m\u001b[0;34m(\u001b[0m\u001b[0mself\u001b[0m\u001b[0;34m,\u001b[0m \u001b[0mto_concat\u001b[0m\u001b[0;34m,\u001b[0m \u001b[0mname\u001b[0m\u001b[0;34m)\u001b[0m\u001b[0;34m:\u001b[0m\u001b[0;34m\u001b[0m\u001b[0;34m\u001b[0m\u001b[0m\n",
            "\u001b[0;32m/usr/local/lib/python3.7/dist-packages/pandas/core/indexes/base.py\u001b[0m in \u001b[0;36m_concat\u001b[0;34m(self, to_concat, name)\u001b[0m\n\u001b[1;32m   4168\u001b[0m         \u001b[0mto_concat\u001b[0m \u001b[0;34m=\u001b[0m \u001b[0;34m[\u001b[0m\u001b[0mx\u001b[0m\u001b[0;34m.\u001b[0m\u001b[0m_values\u001b[0m \u001b[0;32mif\u001b[0m \u001b[0misinstance\u001b[0m\u001b[0;34m(\u001b[0m\u001b[0mx\u001b[0m\u001b[0;34m,\u001b[0m \u001b[0mIndex\u001b[0m\u001b[0;34m)\u001b[0m \u001b[0;32melse\u001b[0m \u001b[0mx\u001b[0m \u001b[0;32mfor\u001b[0m \u001b[0mx\u001b[0m \u001b[0;32min\u001b[0m \u001b[0mto_concat\u001b[0m\u001b[0;34m]\u001b[0m\u001b[0;34m\u001b[0m\u001b[0;34m\u001b[0m\u001b[0m\n\u001b[1;32m   4169\u001b[0m \u001b[0;34m\u001b[0m\u001b[0m\n\u001b[0;32m-> 4170\u001b[0;31m         \u001b[0mresult\u001b[0m \u001b[0;34m=\u001b[0m \u001b[0m_concat\u001b[0m\u001b[0;34m.\u001b[0m\u001b[0mconcat_compat\u001b[0m\u001b[0;34m(\u001b[0m\u001b[0mto_concat\u001b[0m\u001b[0;34m)\u001b[0m\u001b[0;34m\u001b[0m\u001b[0;34m\u001b[0m\u001b[0m\n\u001b[0m\u001b[1;32m   4171\u001b[0m         \u001b[0;32mreturn\u001b[0m \u001b[0mIndex\u001b[0m\u001b[0;34m(\u001b[0m\u001b[0mresult\u001b[0m\u001b[0;34m,\u001b[0m \u001b[0mname\u001b[0m\u001b[0;34m=\u001b[0m\u001b[0mname\u001b[0m\u001b[0;34m)\u001b[0m\u001b[0;34m\u001b[0m\u001b[0;34m\u001b[0m\u001b[0m\n\u001b[1;32m   4172\u001b[0m \u001b[0;34m\u001b[0m\u001b[0m\n",
            "\u001b[0;32m/usr/local/lib/python3.7/dist-packages/pandas/core/dtypes/concat.py\u001b[0m in \u001b[0;36mconcat_compat\u001b[0;34m(to_concat, axis)\u001b[0m\n\u001b[1;32m    146\u001b[0m     \u001b[0mall_empty\u001b[0m \u001b[0;34m=\u001b[0m \u001b[0;32mnot\u001b[0m \u001b[0mlen\u001b[0m\u001b[0;34m(\u001b[0m\u001b[0mnon_empties\u001b[0m\u001b[0;34m)\u001b[0m\u001b[0;34m\u001b[0m\u001b[0;34m\u001b[0m\u001b[0m\n\u001b[1;32m    147\u001b[0m     \u001b[0msingle_dtype\u001b[0m \u001b[0;34m=\u001b[0m \u001b[0mlen\u001b[0m\u001b[0;34m(\u001b[0m\u001b[0;34m{\u001b[0m\u001b[0mx\u001b[0m\u001b[0;34m.\u001b[0m\u001b[0mdtype\u001b[0m \u001b[0;32mfor\u001b[0m \u001b[0mx\u001b[0m \u001b[0;32min\u001b[0m \u001b[0mto_concat\u001b[0m\u001b[0;34m}\u001b[0m\u001b[0;34m)\u001b[0m \u001b[0;34m==\u001b[0m \u001b[0;36m1\u001b[0m\u001b[0;34m\u001b[0m\u001b[0;34m\u001b[0m\u001b[0m\n\u001b[0;32m--> 148\u001b[0;31m     \u001b[0many_ea\u001b[0m \u001b[0;34m=\u001b[0m \u001b[0many\u001b[0m\u001b[0;34m(\u001b[0m\u001b[0mis_extension_array_dtype\u001b[0m\u001b[0;34m(\u001b[0m\u001b[0mx\u001b[0m\u001b[0;34m.\u001b[0m\u001b[0mdtype\u001b[0m\u001b[0;34m)\u001b[0m \u001b[0;32mfor\u001b[0m \u001b[0mx\u001b[0m \u001b[0;32min\u001b[0m \u001b[0mto_concat\u001b[0m\u001b[0;34m)\u001b[0m\u001b[0;34m\u001b[0m\u001b[0;34m\u001b[0m\u001b[0m\n\u001b[0m\u001b[1;32m    149\u001b[0m \u001b[0;34m\u001b[0m\u001b[0m\n\u001b[1;32m    150\u001b[0m     \u001b[0;32mif\u001b[0m \u001b[0many_ea\u001b[0m\u001b[0;34m:\u001b[0m\u001b[0;34m\u001b[0m\u001b[0;34m\u001b[0m\u001b[0m\n",
            "\u001b[0;32m/usr/local/lib/python3.7/dist-packages/pandas/core/dtypes/concat.py\u001b[0m in \u001b[0;36m<genexpr>\u001b[0;34m(.0)\u001b[0m\n\u001b[1;32m    146\u001b[0m     \u001b[0mall_empty\u001b[0m \u001b[0;34m=\u001b[0m \u001b[0;32mnot\u001b[0m \u001b[0mlen\u001b[0m\u001b[0;34m(\u001b[0m\u001b[0mnon_empties\u001b[0m\u001b[0;34m)\u001b[0m\u001b[0;34m\u001b[0m\u001b[0;34m\u001b[0m\u001b[0m\n\u001b[1;32m    147\u001b[0m     \u001b[0msingle_dtype\u001b[0m \u001b[0;34m=\u001b[0m \u001b[0mlen\u001b[0m\u001b[0;34m(\u001b[0m\u001b[0;34m{\u001b[0m\u001b[0mx\u001b[0m\u001b[0;34m.\u001b[0m\u001b[0mdtype\u001b[0m \u001b[0;32mfor\u001b[0m \u001b[0mx\u001b[0m \u001b[0;32min\u001b[0m \u001b[0mto_concat\u001b[0m\u001b[0;34m}\u001b[0m\u001b[0;34m)\u001b[0m \u001b[0;34m==\u001b[0m \u001b[0;36m1\u001b[0m\u001b[0;34m\u001b[0m\u001b[0;34m\u001b[0m\u001b[0m\n\u001b[0;32m--> 148\u001b[0;31m     \u001b[0many_ea\u001b[0m \u001b[0;34m=\u001b[0m \u001b[0many\u001b[0m\u001b[0;34m(\u001b[0m\u001b[0mis_extension_array_dtype\u001b[0m\u001b[0;34m(\u001b[0m\u001b[0mx\u001b[0m\u001b[0;34m.\u001b[0m\u001b[0mdtype\u001b[0m\u001b[0;34m)\u001b[0m \u001b[0;32mfor\u001b[0m \u001b[0mx\u001b[0m \u001b[0;32min\u001b[0m \u001b[0mto_concat\u001b[0m\u001b[0;34m)\u001b[0m\u001b[0;34m\u001b[0m\u001b[0;34m\u001b[0m\u001b[0m\n\u001b[0m\u001b[1;32m    149\u001b[0m \u001b[0;34m\u001b[0m\u001b[0m\n\u001b[1;32m    150\u001b[0m     \u001b[0;32mif\u001b[0m \u001b[0many_ea\u001b[0m\u001b[0;34m:\u001b[0m\u001b[0;34m\u001b[0m\u001b[0;34m\u001b[0m\u001b[0m\n",
            "\u001b[0;32m/usr/local/lib/python3.7/dist-packages/pandas/core/dtypes/common.py\u001b[0m in \u001b[0;36mis_extension_array_dtype\u001b[0;34m(arr_or_dtype)\u001b[0m\n\u001b[1;32m   1504\u001b[0m     \"\"\"\n\u001b[1;32m   1505\u001b[0m     \u001b[0mdtype\u001b[0m \u001b[0;34m=\u001b[0m \u001b[0mgetattr\u001b[0m\u001b[0;34m(\u001b[0m\u001b[0marr_or_dtype\u001b[0m\u001b[0;34m,\u001b[0m \u001b[0;34m\"dtype\"\u001b[0m\u001b[0;34m,\u001b[0m \u001b[0marr_or_dtype\u001b[0m\u001b[0;34m)\u001b[0m\u001b[0;34m\u001b[0m\u001b[0;34m\u001b[0m\u001b[0m\n\u001b[0;32m-> 1506\u001b[0;31m     \u001b[0;32mreturn\u001b[0m \u001b[0misinstance\u001b[0m\u001b[0;34m(\u001b[0m\u001b[0mdtype\u001b[0m\u001b[0;34m,\u001b[0m \u001b[0mExtensionDtype\u001b[0m\u001b[0;34m)\u001b[0m \u001b[0;32mor\u001b[0m \u001b[0mregistry\u001b[0m\u001b[0;34m.\u001b[0m\u001b[0mfind\u001b[0m\u001b[0;34m(\u001b[0m\u001b[0mdtype\u001b[0m\u001b[0;34m)\u001b[0m \u001b[0;32mis\u001b[0m \u001b[0;32mnot\u001b[0m \u001b[0;32mNone\u001b[0m\u001b[0;34m\u001b[0m\u001b[0;34m\u001b[0m\u001b[0m\n\u001b[0m\u001b[1;32m   1507\u001b[0m \u001b[0;34m\u001b[0m\u001b[0m\n\u001b[1;32m   1508\u001b[0m \u001b[0;34m\u001b[0m\u001b[0m\n",
            "\u001b[0;32m/usr/local/lib/python3.7/dist-packages/pandas/core/dtypes/base.py\u001b[0m in \u001b[0;36mfind\u001b[0;34m(self, dtype)\u001b[0m\n\u001b[1;32m    425\u001b[0m         \u001b[0;32mif\u001b[0m \u001b[0;32mnot\u001b[0m \u001b[0misinstance\u001b[0m\u001b[0;34m(\u001b[0m\u001b[0mdtype\u001b[0m\u001b[0;34m,\u001b[0m \u001b[0mstr\u001b[0m\u001b[0;34m)\u001b[0m\u001b[0;34m:\u001b[0m\u001b[0;34m\u001b[0m\u001b[0;34m\u001b[0m\u001b[0m\n\u001b[1;32m    426\u001b[0m             \u001b[0mdtype_type\u001b[0m \u001b[0;34m=\u001b[0m \u001b[0mdtype\u001b[0m\u001b[0;34m\u001b[0m\u001b[0;34m\u001b[0m\u001b[0m\n\u001b[0;32m--> 427\u001b[0;31m             \u001b[0;32mif\u001b[0m \u001b[0;32mnot\u001b[0m \u001b[0misinstance\u001b[0m\u001b[0;34m(\u001b[0m\u001b[0mdtype\u001b[0m\u001b[0;34m,\u001b[0m \u001b[0mtype\u001b[0m\u001b[0;34m)\u001b[0m\u001b[0;34m:\u001b[0m\u001b[0;34m\u001b[0m\u001b[0;34m\u001b[0m\u001b[0m\n\u001b[0m\u001b[1;32m    428\u001b[0m                 \u001b[0mdtype_type\u001b[0m \u001b[0;34m=\u001b[0m \u001b[0mtype\u001b[0m\u001b[0;34m(\u001b[0m\u001b[0mdtype\u001b[0m\u001b[0;34m)\u001b[0m\u001b[0;34m\u001b[0m\u001b[0;34m\u001b[0m\u001b[0m\n\u001b[1;32m    429\u001b[0m             \u001b[0;32mif\u001b[0m \u001b[0missubclass\u001b[0m\u001b[0;34m(\u001b[0m\u001b[0mdtype_type\u001b[0m\u001b[0;34m,\u001b[0m \u001b[0mExtensionDtype\u001b[0m\u001b[0;34m)\u001b[0m\u001b[0;34m:\u001b[0m\u001b[0;34m\u001b[0m\u001b[0;34m\u001b[0m\u001b[0m\n",
            "\u001b[0;31mKeyboardInterrupt\u001b[0m: "
          ]
        }
      ]
    },
    {
      "cell_type": "code",
      "metadata": {
        "id": "AxqgogImMjt0"
      },
      "source": [
        "\n",
        "df_train_features.style.hide_index()\n",
        "df_test_features.style.hide_index()\n",
        "\n",
        "# Convert to numpy arrays\n",
        "training_features = np.array(df_train_features)\n",
        "testing_features = np.array(df_test_features)\n",
        "\n",
        "\n",
        "\n",
        "\n",
        "\n",
        "\n",
        "# Sklearn wants the labels as one-dimensional vectors\n",
        "\n",
        "training_targets = np.array(df_train_label).reshape((-1,))\n"
      ],
      "execution_count": null,
      "outputs": []
    },
    {
      "cell_type": "code",
      "metadata": {
        "id": "Mf8DvjbpMjwJ"
      },
      "source": [
        "# Create a tpot object with a few parameters\n",
        "tpot = TPOTClassifier(generations=25,\n",
        "                      population_size = 50,\n",
        "                      verbosity = 2,\n",
        "                      random_state = 42,\n",
        "                      scoring = 'f1'\n",
        "                      )"
      ],
      "execution_count": null,
      "outputs": []
    },
    {
      "cell_type": "code",
      "metadata": {
        "colab": {
          "base_uri": "https://localhost:8080/",
          "height": 1000,
          "referenced_widgets": [
            "1e464367b9144e23ac015b3bfaa1f426",
            "523200f2bdd04931973ff581f123a5b8",
            "ab5a01454ad749c6acb6aaf71d3df718",
            "86e22b02fcf44cc2bd6e322eb55cab99",
            "a7d64d7ebfee42f29623ade1b69789bb",
            "08b563f4cba24ea4ae1be36a9f88bf83",
            "d07df4c984e948d1b7c1f0d40c75520f",
            "88d7922c76ec4580bd8ce28acef9f91a",
            "98441daec4074a8babbf68f69c3939da",
            "045078532f6548088747c75a46e5442a",
            "b2c8eb2720a74e4088d22883810e3d1b"
          ]
        },
        "id": "JgnRcWKUMjyb",
        "outputId": "c4c51a2f-4038-4706-b895-5146a20e33cc"
      },
      "source": [
        "\n",
        "\n",
        "tpot.fit(training_features, training_targets)"
      ],
      "execution_count": null,
      "outputs": [
        {
          "data": {
            "application/vnd.jupyter.widget-view+json": {
              "model_id": "1e464367b9144e23ac015b3bfaa1f426",
              "version_major": 2,
              "version_minor": 0
            },
            "text/plain": [
              "Optimization Progress:   0%|          | 0/1300 [00:00<?, ?pipeline/s]"
            ]
          },
          "metadata": {},
          "output_type": "display_data"
        },
        {
          "name": "stdout",
          "output_type": "stream",
          "text": [
            "\n",
            "Generation 1 - Current best internal CV score: 0.8804724233643597\n",
            "\n",
            "Generation 2 - Current best internal CV score: 0.8838830579406881\n",
            "\n",
            "Generation 3 - Current best internal CV score: 0.8838830579406881\n",
            "\n",
            "Generation 4 - Current best internal CV score: 0.8878664777209098\n",
            "\n",
            "Generation 5 - Current best internal CV score: 0.8878664777209098\n",
            "\n",
            "Generation 6 - Current best internal CV score: 0.8878664777209098\n",
            "\n",
            "Generation 7 - Current best internal CV score: 0.8917182991030398\n",
            "\n",
            "Generation 8 - Current best internal CV score: 0.8917182991030398\n",
            "\n",
            "Generation 9 - Current best internal CV score: 0.8917182991030398\n",
            "\n",
            "Generation 10 - Current best internal CV score: 0.8917182991030398\n",
            "\n",
            "Generation 11 - Current best internal CV score: 0.8917182991030398\n",
            "\n",
            "Generation 12 - Current best internal CV score: 0.8917182991030398\n",
            "\n",
            "Generation 13 - Current best internal CV score: 0.8917815171890154\n",
            "\n",
            "Generation 14 - Current best internal CV score: 0.8924057226211236\n",
            "\n",
            "Generation 15 - Current best internal CV score: 0.8924057226211236\n",
            "\n",
            "Generation 16 - Current best internal CV score: 0.8924057226211236\n",
            "\n",
            "Generation 17 - Current best internal CV score: 0.8927199575349805\n",
            "\n",
            "Generation 18 - Current best internal CV score: 0.8927199575349805\n",
            "\n",
            "Generation 19 - Current best internal CV score: 0.8927199575349805\n",
            "\n",
            "Generation 20 - Current best internal CV score: 0.8927199575349805\n",
            "\n",
            "Generation 21 - Current best internal CV score: 0.8945820568964289\n",
            "\n",
            "Generation 22 - Current best internal CV score: 0.8945820568964289\n",
            "\n",
            "Generation 23 - Current best internal CV score: 0.8945820568964289\n",
            "\n",
            "Generation 24 - Current best internal CV score: 0.8945820568964289\n",
            "\n",
            "Generation 25 - Current best internal CV score: 0.8945820568964289\n",
            "\n",
            "Best pipeline: ExtraTreesClassifier(CombineDFs(GradientBoostingClassifier(ExtraTreesClassifier(RobustScaler(input_matrix), bootstrap=False, criterion=entropy, max_features=0.55, min_samples_leaf=2, min_samples_split=5, n_estimators=100), learning_rate=0.01, max_depth=6, max_features=0.15000000000000002, min_samples_leaf=20, min_samples_split=3, n_estimators=100, subsample=0.6500000000000001), input_matrix), bootstrap=True, criterion=entropy, max_features=0.7500000000000001, min_samples_leaf=2, min_samples_split=4, n_estimators=100)\n"
          ]
        },
        {
          "data": {
            "text/plain": [
              "TPOTClassifier(generations=25, population_size=50, random_state=42,\n",
              "               scoring='f1', verbosity=2)"
            ]
          },
          "execution_count": 7,
          "metadata": {},
          "output_type": "execute_result"
        }
      ]
    },
    {
      "cell_type": "code",
      "metadata": {
        "colab": {
          "base_uri": "https://localhost:8080/"
        },
        "id": "_oeFPkbAMj0x",
        "outputId": "8405da85-5065-4cd9-f93c-553d7dee1391"
      },
      "source": [
        "# Show the final model\n",
        "print(tpot.fitted_pipeline_)"
      ],
      "execution_count": null,
      "outputs": [
        {
          "name": "stdout",
          "output_type": "stream",
          "text": [
            "Pipeline(steps=[('featureunion',\n",
            "                 FeatureUnion(transformer_list=[('stackingestimator',\n",
            "                                                 StackingEstimator(estimator=Pipeline(steps=[('robustscaler',\n",
            "                                                                                              RobustScaler()),\n",
            "                                                                                             ('stackingestimator',\n",
            "                                                                                              StackingEstimator(estimator=ExtraTreesClassifier(criterion='entropy',\n",
            "                                                                                                                                               max_features=0.55,\n",
            "                                                                                                                                               min_samples_leaf=2,\n",
            "                                                                                                                                               min_samples_split=5))),\n",
            "                                                                                             ('gradientboostingclassifier',\n",
            "                                                                                              GradientBo...\n",
            "                                                                                                                         max_features=0.15000000000000002,\n",
            "                                                                                                                         min_samples_leaf=20,\n",
            "                                                                                                                         min_samples_split=3,\n",
            "                                                                                                                         subsample=0.6500000000000001))]))),\n",
            "                                                ('functiontransformer',\n",
            "                                                 FunctionTransformer(func=<function copy at 0x7f9e7f51ccb0>))])),\n",
            "                ('extratreesclassifier',\n",
            "                 ExtraTreesClassifier(bootstrap=True, criterion='entropy',\n",
            "                                      max_features=0.7500000000000001,\n",
            "                                      min_samples_leaf=2, min_samples_split=4,\n",
            "                                      random_state=42))])\n"
          ]
        }
      ]
    },
    {
      "cell_type": "code",
      "metadata": {
        "id": "15sr3tmEiaBn"
      },
      "source": [
        "# Export the pipeline as a python script file\n",
        "tpot.export('tpot_exported_pipeline.py')"
      ],
      "execution_count": null,
      "outputs": []
    },
    {
      "cell_type": "code",
      "metadata": {
        "colab": {
          "base_uri": "https://localhost:8080/",
          "height": 17
        },
        "id": "O1W-AKTDuUSR",
        "outputId": "562f8f08-65e1-4c53-9b32-9479a9b87a7d"
      },
      "source": [
        "# Import file management\n",
        "from google.colab import files\n",
        "# Download the pipeline for local use\n",
        "files.download('tpot_exported_pipeline.py')"
      ],
      "execution_count": null,
      "outputs": [
        {
          "data": {
            "application/javascript": [
              "\n",
              "    async function download(id, filename, size) {\n",
              "      if (!google.colab.kernel.accessAllowed) {\n",
              "        return;\n",
              "      }\n",
              "      const div = document.createElement('div');\n",
              "      const label = document.createElement('label');\n",
              "      label.textContent = `Downloading \"${filename}\": `;\n",
              "      div.appendChild(label);\n",
              "      const progress = document.createElement('progress');\n",
              "      progress.max = size;\n",
              "      div.appendChild(progress);\n",
              "      document.body.appendChild(div);\n",
              "\n",
              "      const buffers = [];\n",
              "      let downloaded = 0;\n",
              "\n",
              "      const channel = await google.colab.kernel.comms.open(id);\n",
              "      // Send a message to notify the kernel that we're ready.\n",
              "      channel.send({})\n",
              "\n",
              "      for await (const message of channel.messages) {\n",
              "        // Send a message to notify the kernel that we're ready.\n",
              "        channel.send({})\n",
              "        if (message.buffers) {\n",
              "          for (const buffer of message.buffers) {\n",
              "            buffers.push(buffer);\n",
              "            downloaded += buffer.byteLength;\n",
              "            progress.value = downloaded;\n",
              "          }\n",
              "        }\n",
              "      }\n",
              "      const blob = new Blob(buffers, {type: 'application/binary'});\n",
              "      const a = document.createElement('a');\n",
              "      a.href = window.URL.createObjectURL(blob);\n",
              "      a.download = filename;\n",
              "      div.appendChild(a);\n",
              "      a.click();\n",
              "      div.remove();\n",
              "    }\n",
              "  "
            ],
            "text/plain": [
              "<IPython.core.display.Javascript object>"
            ]
          },
          "metadata": {},
          "output_type": "display_data"
        },
        {
          "data": {
            "application/javascript": [
              "download(\"download_e159a32d-4970-49bd-9e8e-66e4e6363942\", \"tpot_exported_pipeline.py\", 1817)"
            ],
            "text/plain": [
              "<IPython.core.display.Javascript object>"
            ]
          },
          "metadata": {},
          "output_type": "display_data"
        }
      ]
    },
    {
      "cell_type": "code",
      "metadata": {
        "colab": {
          "base_uri": "https://localhost:8080/"
        },
        "id": "mnrR93bBvnWX",
        "outputId": "a96b4bed-ce6e-46f7-a918-de9207e37426"
      },
      "source": [
        "tpot.export"
      ],
      "execution_count": null,
      "outputs": [
        {
          "data": {
            "text/plain": [
              "<bound method TPOTBase.export of TPOTClassifier(generations=25, population_size=50, random_state=42,\n",
              "               scoring='f1', verbosity=2)>"
            ]
          },
          "execution_count": 11,
          "metadata": {},
          "output_type": "execute_result"
        }
      ]
    },
    {
      "cell_type": "code",
      "metadata": {
        "id": "Au8lGSz6fhc7"
      },
      "source": [
        "import numpy as np\n",
        "import pandas as pd\n",
        "from sklearn.ensemble import ExtraTreesClassifier, RandomForestClassifier\n",
        "from sklearn.model_selection import train_test_split\n",
        "from sklearn.pipeline import make_pipeline, make_union\n",
        "from tpot.builtins import StackingEstimator\n",
        "from tpot.export_utils import set_param_recursive\n",
        "\n",
        "# Average CV score on the training set was: 0.8917182991030398\n",
        "exported_pipeline = make_pipeline(\n",
        "    StackingEstimator(estimator=ExtraTreesClassifier(bootstrap=False, criterion=\"entropy\", max_features=0.7500000000000001, min_samples_leaf=2, min_samples_split=6, n_estimators=100)),\n",
        "    RandomForestClassifier(bootstrap=True, criterion=\"gini\", max_features=0.2, min_samples_leaf=8, min_samples_split=4, n_estimators=100)\n",
        ")\n",
        "\n"
      ],
      "execution_count": null,
      "outputs": []
    },
    {
      "cell_type": "code",
      "metadata": {
        "id": "_6bB8JUufhYj"
      },
      "source": [
        "# Fix random state for all the steps in exported pipeline\n",
        "set_param_recursive(exported_pipeline.steps, 'random_state', 42)"
      ],
      "execution_count": null,
      "outputs": []
    },
    {
      "cell_type": "code",
      "metadata": {
        "colab": {
          "base_uri": "https://localhost:8080/"
        },
        "id": "yoVk-k_bNT6B",
        "outputId": "78ed438a-d65c-4aa4-cda2-11eaba58b741"
      },
      "source": [
        "\n",
        "exported_pipeline.fit(training_features, training_targets)\n"
      ],
      "execution_count": null,
      "outputs": [
        {
          "data": {
            "text/plain": [
              "Pipeline(steps=[('stackingestimator',\n",
              "                 StackingEstimator(estimator=ExtraTreesClassifier(criterion='entropy',\n",
              "                                                                  max_features=0.7500000000000001,\n",
              "                                                                  min_samples_leaf=2,\n",
              "                                                                  min_samples_split=6,\n",
              "                                                                  random_state=42))),\n",
              "                ('randomforestclassifier',\n",
              "                 RandomForestClassifier(max_features=0.2, min_samples_leaf=8,\n",
              "                                        min_samples_split=4,\n",
              "                                        random_state=42))])"
            ]
          },
          "execution_count": 31,
          "metadata": {},
          "output_type": "execute_result"
        }
      ]
    },
    {
      "cell_type": "code",
      "metadata": {
        "id": "P6UYuMuINb1a"
      },
      "source": [
        "results= exported_pipeline.predict(training_features)"
      ],
      "execution_count": null,
      "outputs": []
    },
    {
      "cell_type": "code",
      "metadata": {
        "colab": {
          "base_uri": "https://localhost:8080/"
        },
        "id": "fu6dxoUiNkVa",
        "outputId": "9f011248-6152-480b-ca6f-e37d0af2c56c"
      },
      "source": [
        "print(results)"
      ],
      "execution_count": null,
      "outputs": [
        {
          "name": "stdout",
          "output_type": "stream",
          "text": [
            "[1 1 0 ... 0 1 0]\n"
          ]
        }
      ]
    },
    {
      "cell_type": "code",
      "metadata": {
        "colab": {
          "base_uri": "https://localhost:8080/"
        },
        "id": "-or_rU-qOyoS",
        "outputId": "fad59162-8be1-4a29-b72b-3e6e4110ec36"
      },
      "source": [
        "print(testing_features)"
      ],
      "execution_count": null,
      "outputs": [
        {
          "name": "stdout",
          "output_type": "stream",
          "text": [
            "[[5.18805258e+03 1.14771417e+04 1.56000000e+03 ... 1.08000000e+02\n",
            "  0.00000000e+00 5.00000000e+00]\n",
            " [3.61134583e+02 7.25278948e+03 1.66400000e+03 ... 1.00000000e+00\n",
            "  0.00000000e+00 6.00000000e+00]\n",
            " [4.12520049e+03 6.89399650e+03 1.11100000e+03 ... 0.00000000e+00\n",
            "  0.00000000e+00 4.00000000e+00]\n",
            " ...\n",
            " [7.08648314e+03 9.80985779e+03 4.52300000e+03 ... 3.70000000e+01\n",
            "  0.00000000e+00 1.00000000e+00]\n",
            " [8.62528566e+03 1.66449631e+04 5.34700000e+03 ... 2.00000000e+00\n",
            "  1.40000000e+01 4.00000000e+00]\n",
            " [2.10244063e+03 1.12426131e+04 5.06300000e+03 ... 1.00000000e+00\n",
            "  1.00000000e+00 1.10000000e+01]]\n"
          ]
        }
      ]
    },
    {
      "cell_type": "code",
      "metadata": {
        "id": "aRIL1JZRPa-w"
      },
      "source": [
        "results= exported_pipeline.predict(testing_features)"
      ],
      "execution_count": null,
      "outputs": []
    },
    {
      "cell_type": "code",
      "metadata": {
        "colab": {
          "base_uri": "https://localhost:8080/"
        },
        "id": "UTVgpI4WPdjC",
        "outputId": "811f8cd2-5cd5-4e6c-8858-025ce52502f6"
      },
      "source": [
        "print(results)"
      ],
      "execution_count": null,
      "outputs": [
        {
          "name": "stdout",
          "output_type": "stream",
          "text": [
            "[1 0 1 ... 1 0 1]\n"
          ]
        }
      ]
    },
    {
      "cell_type": "code",
      "metadata": {
        "id": "3PKVFUusMj5d"
      },
      "source": [
        "test_label = pd.read_csv('/content/gdrive/MyDrive/hoseo_AI/세얼간이_1차.csv')\n",
        "\n",
        "df_test_label = pd.DataFrame({'분석대상': Test['분석대상'][0],\n",
        "                              '정답지' : results[0]\n",
        "                                  \n",
        "},index=[0])\n",
        "\n",
        "for i in range(1,len(Test)):\n",
        "  new_df_test_label = {'분석대상': Test['분석대상'][i],\n",
        "                              '정답지' : int(results[i])\n",
        "                                  \n",
        "}\n",
        "  new_df_test_label = pd.DataFrame(new_df_test_label,index=[i])\n",
        "\n",
        "  df_test_label = pd.concat([df_test_label,new_df_test_label], sort=False)\n",
        "df_test_label.to_csv('/content/gdrive/MyDrive/hoseo_AI/세얼간이_1차.csv',index=False)"
      ],
      "execution_count": null,
      "outputs": []
    },
    {
      "cell_type": "markdown",
      "metadata": {
        "id": "E6o3p68dL7eF"
      },
      "source": [
        "**2번째**\n"
      ]
    },
    {
      "cell_type": "code",
      "metadata": {
        "colab": {
          "base_uri": "https://localhost:8080/",
          "height": 136
        },
        "id": "pQcTUyDcL9wj",
        "outputId": "b3c2dc6e-c743-45f7-c1b8-273aa7840f7f"
      },
      "source": [
        "import numpy as np\n",
        "import pandas as pd\n",
        "from sklearn.ensemble import ExtraTreesClassifier, GradientBoostingClassifier\n",
        "from sklearn.model_selection import train_test_split\n",
        "from sklearn.pipeline import make_pipeline, make_union\n",
        "from sklearn.preprocessing import RobustScaler\n",
        "from tpot.builtins import StackingEstimator\n",
        "from tpot.export_utils import set_param_recursive\n",
        "from sklearn.preprocessing import FunctionTransformer\n",
        "from copy import copy\n",
        "\n",
        "\n",
        "\n",
        "# Average CV score on the training set was: 0.8945820568964289\n",
        "exported_pipeline = make_pipeline(\n",
        "    make_union(\n",
        "        StackingEstimator(estimator=make_pipeline(\n",
        "            RobustScaler(),\n",
        "            StackingEstimator(estimator=ExtraTreesClassifier(bootstrap=False, criterion=\"entropy\", max_features=0.55, min_samples_leaf=2, min_samples_split=5, n_estimators=100)),\n",
        "            GradientBoostingClassifier(learning_rate=0.01, max_depth=6, max_features=0.15000000000000002, min_samples_leaf=20, min_samples_split=3, n_estimators=100, subsample=0.6500000000000001)\n",
        "        )),\n",
        "        FunctionTransformer(copy)\n",
        "    ),\n",
        "    ExtraTreesClassifier(bootstrap=True, criterion=\"entropy\", max_features=0.7500000000000001, min_samples_leaf=2, min_samples_split=4, n_estimators=100),\n",
        "\n",
        ")\n",
        "\n",
        "\n",
        "\n"
      ],
      "execution_count": null,
      "outputs": [
        {
          "ename": "SyntaxError",
          "evalue": "ignored",
          "output_type": "error",
          "traceback": [
            "\u001b[0;36m  File \u001b[0;32m\"<ipython-input-15-61f621923a3d>\"\u001b[0;36m, line \u001b[0;32m25\u001b[0m\n\u001b[0;31m    epochs =10\u001b[0m\n\u001b[0m         ^\u001b[0m\n\u001b[0;31mSyntaxError\u001b[0m\u001b[0;31m:\u001b[0m invalid syntax\n"
          ]
        }
      ]
    },
    {
      "cell_type": "code",
      "metadata": {
        "id": "8Fkm7REuL9t_"
      },
      "source": [
        "# Fix random state for all the steps in exported pipeline\n",
        "set_param_recursive(exported_pipeline.steps, 'random_state', 42)"
      ],
      "execution_count": null,
      "outputs": []
    },
    {
      "cell_type": "code",
      "metadata": {
        "colab": {
          "base_uri": "https://localhost:8080/"
        },
        "id": "UJ-3kYIZL9g-",
        "outputId": "be50755c-3854-4077-9537-5710a0049e63"
      },
      "source": [
        "exported_pipeline.fit(training_features, training_targets )"
      ],
      "execution_count": null,
      "outputs": [
        {
          "data": {
            "text/plain": [
              "Pipeline(steps=[('featureunion',\n",
              "                 FeatureUnion(transformer_list=[('stackingestimator',\n",
              "                                                 StackingEstimator(estimator=Pipeline(steps=[('robustscaler',\n",
              "                                                                                              RobustScaler()),\n",
              "                                                                                             ('stackingestimator',\n",
              "                                                                                              StackingEstimator(estimator=ExtraTreesClassifier(criterion='entropy',\n",
              "                                                                                                                                               max_features=0.55,\n",
              "                                                                                                                                               min_samples_leaf=2,\n",
              "                                                                                                                                               min_samples_split=5))),\n",
              "                                                                                             ('gradientboostingclassifier',\n",
              "                                                                                              GradientBo...\n",
              "                                                                                                                         max_features=0.15000000000000002,\n",
              "                                                                                                                         min_samples_leaf=20,\n",
              "                                                                                                                         min_samples_split=3,\n",
              "                                                                                                                         subsample=0.6500000000000001))]))),\n",
              "                                                ('functiontransformer',\n",
              "                                                 FunctionTransformer(func=<function copy at 0x7f51f223ecb0>))])),\n",
              "                ('extratreesclassifier',\n",
              "                 ExtraTreesClassifier(bootstrap=True, criterion='entropy',\n",
              "                                      max_features=0.7500000000000001,\n",
              "                                      min_samples_leaf=2, min_samples_split=4,\n",
              "                                      random_state=42))])"
            ]
          },
          "execution_count": 16,
          "metadata": {},
          "output_type": "execute_result"
        }
      ]
    },
    {
      "cell_type": "code",
      "metadata": {
        "id": "TUwsegMQZ8w5"
      },
      "source": [
        "\n",
        "results = exported_pipeline.predict(testing_features)"
      ],
      "execution_count": null,
      "outputs": []
    },
    {
      "cell_type": "code",
      "metadata": {
        "id": "RwHt5eJ6Z8sM"
      },
      "source": [
        "test_label = pd.read_csv('/content/gdrive/MyDrive/hoseo_AI/세얼간이_1차.csv')\n",
        "\n",
        "df_test_label = pd.DataFrame({'분석대상': Test['분석대상'][0],\n",
        "                              '정답지' : results[0]\n",
        "                                  \n",
        "},index=[0])\n",
        "\n",
        "for i in range(1,len(Test)):\n",
        "  new_df_test_label = {'분석대상': Test['분석대상'][i],\n",
        "                              '정답지' : int(results[i])\n",
        "                                  \n",
        "}\n",
        "  new_df_test_label = pd.DataFrame(new_df_test_label,index=[i])\n",
        "\n",
        "  df_test_label = pd.concat([df_test_label,new_df_test_label], sort=False)\n",
        "df_test_label.to_csv('/content/gdrive/MyDrive/hoseo_AI/세얼간이_2차.csv',index=False)"
      ],
      "execution_count": null,
      "outputs": []
    },
    {
      "cell_type": "markdown",
      "metadata": {
        "id": "23tKTlWOygEt"
      },
      "source": [
        "4번째\n",
        "NUMSTING, printable 제거\n"
      ]
    },
    {
      "cell_type": "code",
      "metadata": {
        "id": "o7FMNHhMyfO3"
      },
      "source": [
        "import pandas as pd\n",
        "import ast\n",
        "from scipy.stats import skew, kurtosis\n",
        "\n",
        "#데이터 전처리\n",
        "\n",
        "Train = pd.read_csv('/content/gdrive/MyDrive/hoseo_AI/AI_탐지트랙_대회(학습용데이터).csv', encoding='euc=kr')\n",
        "Test = pd.read_csv('/content/gdrive/MyDrive/hoseo_AI/AI_탐지트랙_대회(제출용데이터).csv', encoding='euc=kr')\n",
        "\n",
        "#데이터 프레임 생성\n",
        "\n",
        "#테스트 피쳐\n",
        "data = ast.literal_eval(Train['Feature_Group_C'][0])\n",
        "\n",
        "A = ast.literal_eval(Train['Feature_Group_A'][0])\n",
        "\n",
        "Askew = skew(A)\n",
        "\n",
        "Akurtosis = kurtosis(A,fisher=True)\n",
        "\n",
        "A = np.array(A)\n",
        "A = np.std(A)\n",
        "\n",
        "\n",
        "\n",
        "B = ast.literal_eval(Train['Feature_Group_B'][0])\n",
        "\n",
        "\n",
        "Bskew = skew(B)\n",
        "\n",
        "Bkurtosis = kurtosis(B,fisher=True)\n",
        "\n",
        "B = np.array(B)\n",
        "B = np.std(B)\n",
        "\n",
        "printabledskew = skew(data['printabledist'])\n",
        "\n",
        "printabledkurtosis = kurtosis(data['printabledist'],fisher=True)\n",
        "\n",
        "printabled = np.array(data['printabledist'])\n",
        "\n",
        "\n",
        "printabled = np.std(printabled)\n",
        "\n",
        "\n",
        "\n",
        "df_train_features = pd.DataFrame({\n",
        "                                  'Feature_Group_A': A,\n",
        "                                  'Feature_Group_A_skew': Askew,\n",
        "                                  'Feature_Group_A_kurtosis':Akurtosis,\n",
        "                                  'Feature_Group_B': B,\n",
        "                                  'Feature_Group_B_skew': Bskew,\n",
        "                                  'Feature_Group_B_kurtosis':Bkurtosis,\n",
        "                                  'avlength': data['avlength'],\n",
        "                                  'printabledist':printabled,\n",
        "                                  'printabledist_skew': printabledskew,\n",
        "                                  'printabledist_kurtosis':printabledkurtosis,                                 \n",
        "                                  'entropy': data['entropy'],\n",
        "                                  'paths' : data['paths'],\n",
        "                                  'urls' : data['urls'],\n",
        "                                  'registry' : data['registry'],\n",
        "                                  'MZ' : data['MZ'],\n",
        "\n",
        "                                  \n",
        "},index=[0])\n",
        "for i in range(1,len(Train)):\n",
        "  data = ast.literal_eval(Train['Feature_Group_C'][i])\n",
        "\n",
        "  A = ast.literal_eval(Train['Feature_Group_A'][i])\n",
        "\n",
        "  Askew = skew(A)\n",
        "\n",
        "  Akurtosis = kurtosis(A,fisher=True)\n",
        "\n",
        "  A = np.array(A)\n",
        "  A = np.std(A)\n",
        "\n",
        "\n",
        "\n",
        "  B = ast.literal_eval(Train['Feature_Group_B'][i])\n",
        "\n",
        "\n",
        "  Bskew = skew(B)\n",
        "\n",
        "  Bkurtosis = kurtosis(B,fisher=True)\n",
        "\n",
        "  B = np.array(B)\n",
        "  B = np.std(B)\n",
        "\n",
        "  printabledskew = skew(data['printabledist'])\n",
        "\n",
        "  printabledkurtosis = kurtosis(data['printabledist'],fisher=True)\n",
        "\n",
        "  printabled = np.array(data['printabledist'])\n",
        "\n",
        "\n",
        "  printabled = np.std(printabled)\n",
        "\n",
        "\n",
        "  new_df ={\n",
        "                                  'Feature_Group_A': A,\n",
        "                                  'Feature_Group_A_skew': Askew,\n",
        "                                  'Feature_Group_A_kurtosis':Akurtosis,\n",
        "                                  'Feature_Group_B': B,\n",
        "                                   'Feature_Group_B_skew': Bskew,\n",
        "                                  'Feature_Group_B_kurtosis':Bkurtosis,\n",
        "                                  'avlength': data['avlength'],\n",
        "                                  'printabledist':printabled,\n",
        "                                   'printabledist_skew': printabledskew,\n",
        "                                  'printabledist_kurtosis':printabledkurtosis,   \n",
        "                                  'entropy': data['entropy'],\n",
        "                                  'paths' : data['paths'],\n",
        "                                  'urls' : data['urls'],\n",
        "                                  'registry' : data['registry'],\n",
        "                                  'MZ' : data['MZ']\n",
        "}\n",
        "  new_df = pd.DataFrame(new_df,index=[i])\n",
        "\n",
        "  df_train_features = pd.concat([df_train_features,new_df], sort=False)\n",
        "\n",
        "\n",
        "  \n",
        "\n",
        "\n",
        "\n",
        "#테스트 피처\n",
        "\n",
        "\n",
        "data = ast.literal_eval(Test['Feature_Group_C'][0])\n",
        "\n",
        "A = ast.literal_eval(Test['Feature_Group_A'][0])\n",
        "\n",
        "Askew = skew(A)\n",
        "\n",
        "Akurtosis = kurtosis(A,fisher=True)\n",
        "\n",
        "A = np.array(A)\n",
        "A = np.std(A)\n",
        "\n",
        "B = ast.literal_eval(Test['Feature_Group_B'][0])\n",
        "\n",
        "Bskew = skew(B)\n",
        "\n",
        "Bkurtosis = kurtosis(B,fisher=True)\n",
        "\n",
        "B = np.array(B)\n",
        "B = np.std(B)\n",
        "\n",
        "\n",
        "printabledskew = skew(data['printabledist'])\n",
        "\n",
        "printabledkurtosis = kurtosis(data['printabledist'],fisher=True)\n",
        "\n",
        "\n",
        "printabled = np.array(data['printabledist'])\n",
        "printabled = np.std(printabled)\n",
        "\n",
        "\n",
        "\n",
        "df_test_features = pd.DataFrame({\n",
        "                                  'Feature_Group_A': A,\n",
        "                                  'Feature_Group_A_skew': Askew,\n",
        "                                  'Feature_Group_A_kurtosis':Akurtosis,\n",
        "                                  'Feature_Group_B': B,\n",
        "                                  'Feature_Group_B_skew': Bskew,\n",
        "                                  'Feature_Group_B_kurtosis':Bkurtosis,\n",
        "                                  'avlength': data['avlength'],\n",
        "                                  'printabledist':printabled,\n",
        "                                 'printabledist_skew': printabledskew,\n",
        "                                  'printabledist_kurtosis':printabledkurtosis,   \n",
        "                                  'entropy': data['entropy'],\n",
        "                                  'paths' : data['paths'],\n",
        "                                  'urls' : data['urls'],\n",
        "                                  'registry' : data['registry'],\n",
        "                                  'MZ' : data['MZ']\n",
        "},index=[0])\n",
        "\n",
        "\n",
        "\n",
        "for i in range(1,len(Test)):\n",
        "  data = ast.literal_eval(Test['Feature_Group_C'][i])\n",
        "\n",
        "  A = ast.literal_eval(Test['Feature_Group_A'][i])\n",
        "\n",
        "  Askew = skew(A)\n",
        "\n",
        "  Akurtosis = kurtosis(A,fisher=True)\n",
        "\n",
        "  A = np.array(A)\n",
        "  A = np.std(A)\n",
        "\n",
        "\n",
        "\n",
        "  B = ast.literal_eval(Test['Feature_Group_B'][i])\n",
        "\n",
        "\n",
        "  Bskew = skew(B)\n",
        "\n",
        "  Bkurtosis = kurtosis(B,fisher=True)\n",
        "\n",
        "  B = np.array(B)\n",
        "  B = np.std(B)\n",
        "\n",
        "  printabledskew = skew(data['printabledist'])\n",
        "\n",
        "  printabledkurtosis = kurtosis(data['printabledist'],fisher=True)\n",
        "\n",
        "  printabled = np.array(data['printabledist'])\n",
        "\n",
        "\n",
        "  printabled = np.std(printabled)\n",
        "\n",
        "\n",
        "  new_df ={\n",
        "                                  'Feature_Group_A': A,\n",
        "                                  'Feature_Group_A_skew': Askew,\n",
        "                                  'Feature_Group_A_kurtosis':Akurtosis,\n",
        "                                  'Feature_Group_B': B,\n",
        "                                   'Feature_Group_B_skew': Bskew,\n",
        "                                  'Feature_Group_B_kurtosis':Bkurtosis,\n",
        "                                  'avlength': data['avlength'],\n",
        "                                  'printabledist':printabled,\n",
        "                                   'printabledist_skew': printabledskew,\n",
        "                                  'printabledist_kurtosis':printabledkurtosis,   \n",
        "                                  'entropy': data['entropy'],\n",
        "                                  'paths' : data['paths'],\n",
        "                                  'urls' : data['urls'],\n",
        "                                  'registry' : data['registry'],\n",
        "                                  'MZ' : data['MZ']\n",
        "}\n",
        "  new_df = pd.DataFrame(new_df,index=[i])\n",
        "\n",
        "  df_test_features = pd.concat([df_test_features,new_df], sort=False)\n",
        "\n",
        "\n",
        "\n",
        "\n",
        "df_train_label = Train['label']\n"
      ],
      "execution_count": null,
      "outputs": []
    },
    {
      "cell_type": "markdown",
      "metadata": {
        "id": "t-VTfpBvsj46"
      },
      "source": [
        "0.895257384522494 프린터"
      ]
    },
    {
      "cell_type": "code",
      "metadata": {
        "id": "PbsfjK_ysjhN"
      },
      "source": [
        ""
      ],
      "execution_count": null,
      "outputs": []
    },
    {
      "cell_type": "code",
      "metadata": {
        "id": "MmExa9cFzsT-"
      },
      "source": [
        "df_train_features.style.hide_index()\n",
        "df_test_features.style.hide_index()\n",
        "\n",
        "# Convert to numpy arrays\n",
        "training_features = np.array(df_train_features)\n",
        "testing_features = np.array(df_test_features)\n",
        "\n",
        "\n",
        "\n",
        "\n",
        "\n",
        "\n",
        "# Sklearn wants the labels as one-dimensional vectors\n",
        "\n",
        "training_targets = np.array(df_train_label).reshape((-1,))"
      ],
      "execution_count": null,
      "outputs": []
    },
    {
      "cell_type": "code",
      "metadata": {
        "id": "nuE93xkEz3K4"
      },
      "source": [
        "# Create a tpot object with a few parameters\n",
        "tpot = TPOTClassifier(generations=20,\n",
        "                      population_size = 50,\n",
        "                      verbosity = 2,\n",
        "                      random_state = 42,\n",
        "                      scoring = 'f1'\n",
        "                      )"
      ],
      "execution_count": null,
      "outputs": []
    },
    {
      "cell_type": "code",
      "metadata": {
        "colab": {
          "base_uri": "https://localhost:8080/",
          "height": 671,
          "referenced_widgets": [
            "ed1fa4b5c7b3429ab082ceaa3e6c7b8b",
            "26cddeffe6ac440693c5fcbb709f3cf8",
            "0af635edc0104a4dadb9ded9fcd16515",
            "7106b1d2de29485d96cd7118c6119902",
            "4ebb6c96c32b4b5886074b2a4a06fb91",
            "22fc27a0357d443b90d1e1561057fcec",
            "f1a337eae4d34f03a66d37bcd49fadc9",
            "913e7394e4ad4a68acc156c3157b7d91",
            "ca1c8541f5a74f9ba4a4ca9a0ffef1bd",
            "acc57ebeffa44a2080ccf762091c3fde",
            "36e2b3d13c2a458d8f46195a1bd93338"
          ]
        },
        "id": "lw5fqGZXzxZf",
        "outputId": "a7ea385a-8881-4838-91c2-40c54ca0ca1d"
      },
      "source": [
        "tpot.fit(training_features, training_targets)"
      ],
      "execution_count": null,
      "outputs": [
        {
          "output_type": "display_data",
          "data": {
            "application/vnd.jupyter.widget-view+json": {
              "model_id": "ed1fa4b5c7b3429ab082ceaa3e6c7b8b",
              "version_minor": 0,
              "version_major": 2
            },
            "text/plain": [
              "Optimization Progress:   0%|          | 0/1050 [00:00<?, ?pipeline/s]"
            ]
          },
          "metadata": {}
        },
        {
          "output_type": "stream",
          "name": "stdout",
          "text": [
            "\n",
            "Generation 1 - Current best internal CV score: 0.895257384522494\n",
            "\n",
            "Generation 2 - Current best internal CV score: 0.895257384522494\n",
            "\n",
            "Generation 3 - Current best internal CV score: 0.895257384522494\n",
            "\n",
            "Generation 4 - Current best internal CV score: 0.8965104970907044\n",
            "\n",
            "Generation 5 - Current best internal CV score: 0.8981074658375261\n",
            "\n",
            "Generation 6 - Current best internal CV score: 0.8986057294929525\n",
            "\n",
            "Generation 7 - Current best internal CV score: 0.8986057294929525\n",
            "\n",
            "Generation 8 - Current best internal CV score: 0.8986057294929525\n",
            "\n",
            "Generation 9 - Current best internal CV score: 0.9003321637295668\n",
            "\n",
            "Generation 10 - Current best internal CV score: 0.9003321637295668\n",
            "\n",
            "Generation 11 - Current best internal CV score: 0.9003321637295668\n",
            "\n",
            "Generation 12 - Current best internal CV score: 0.9003321637295668\n",
            "\n",
            "\n",
            "TPOT closed during evaluation in one generation.\n",
            "WARNING: TPOT may not provide a good pipeline if TPOT is stopped/interrupted in a early generation.\n",
            "\n",
            "\n",
            "TPOT closed prematurely. Will use the current best pipeline.\n",
            "\n",
            "Best pipeline: RandomForestClassifier(ZeroCount(input_matrix), bootstrap=False, criterion=gini, max_features=0.15000000000000002, min_samples_leaf=1, min_samples_split=2, n_estimators=100)\n"
          ]
        },
        {
          "output_type": "execute_result",
          "data": {
            "text/plain": [
              "TPOTClassifier(generations=20, population_size=50, random_state=42,\n",
              "               scoring='f1', verbosity=2)"
            ]
          },
          "metadata": {},
          "execution_count": 7
        }
      ]
    },
    {
      "cell_type": "code",
      "metadata": {
        "id": "7WMLpOhXzxXl",
        "colab": {
          "base_uri": "https://localhost:8080/"
        },
        "outputId": "a51bf484-e636-4d06-9ead-471a273b51f7"
      },
      "source": [
        "# Show the final model\n",
        "print(tpot.fitted_pipeline_)"
      ],
      "execution_count": null,
      "outputs": [
        {
          "output_type": "stream",
          "name": "stdout",
          "text": [
            "Pipeline(steps=[('zerocount', ZeroCount()),\n",
            "                ('randomforestclassifier',\n",
            "                 RandomForestClassifier(bootstrap=False,\n",
            "                                        max_features=0.15000000000000002,\n",
            "                                        random_state=42))])\n"
          ]
        }
      ]
    },
    {
      "cell_type": "code",
      "metadata": {
        "id": "48PdDQGLzxVn"
      },
      "source": [
        "# Export the pipeline as a python script file\n",
        "tpot.export('tpot_exported_pipeline_4.py')"
      ],
      "execution_count": null,
      "outputs": []
    },
    {
      "cell_type": "code",
      "metadata": {
        "colab": {
          "base_uri": "https://localhost:8080/",
          "height": 34
        },
        "id": "Fk_OFXkM9mXU",
        "outputId": "ebe913a9-50fe-47e4-e467-fe0bddf2f049"
      },
      "source": [
        "# Import file management\n",
        "from google.colab import files\n",
        "# Download the pipeline for local use\n",
        "files.download('tpot_exported_pipeline_4.py')"
      ],
      "execution_count": null,
      "outputs": [
        {
          "output_type": "display_data",
          "data": {
            "application/javascript": [
              "\n",
              "    async function download(id, filename, size) {\n",
              "      if (!google.colab.kernel.accessAllowed) {\n",
              "        return;\n",
              "      }\n",
              "      const div = document.createElement('div');\n",
              "      const label = document.createElement('label');\n",
              "      label.textContent = `Downloading \"${filename}\": `;\n",
              "      div.appendChild(label);\n",
              "      const progress = document.createElement('progress');\n",
              "      progress.max = size;\n",
              "      div.appendChild(progress);\n",
              "      document.body.appendChild(div);\n",
              "\n",
              "      const buffers = [];\n",
              "      let downloaded = 0;\n",
              "\n",
              "      const channel = await google.colab.kernel.comms.open(id);\n",
              "      // Send a message to notify the kernel that we're ready.\n",
              "      channel.send({})\n",
              "\n",
              "      for await (const message of channel.messages) {\n",
              "        // Send a message to notify the kernel that we're ready.\n",
              "        channel.send({})\n",
              "        if (message.buffers) {\n",
              "          for (const buffer of message.buffers) {\n",
              "            buffers.push(buffer);\n",
              "            downloaded += buffer.byteLength;\n",
              "            progress.value = downloaded;\n",
              "          }\n",
              "        }\n",
              "      }\n",
              "      const blob = new Blob(buffers, {type: 'application/binary'});\n",
              "      const a = document.createElement('a');\n",
              "      a.href = window.URL.createObjectURL(blob);\n",
              "      a.download = filename;\n",
              "      div.appendChild(a);\n",
              "      a.click();\n",
              "      div.remove();\n",
              "    }\n",
              "  "
            ],
            "text/plain": [
              "<IPython.core.display.Javascript object>"
            ]
          },
          "metadata": {}
        },
        {
          "output_type": "display_data",
          "data": {
            "application/javascript": [
              "download(\"download_30cc96d1-a7c0-4bdc-b0ba-d36eb5f4812d\", \"tpot_exported_pipeline_4.py\", 1143)"
            ],
            "text/plain": [
              "<IPython.core.display.Javascript object>"
            ]
          },
          "metadata": {}
        }
      ]
    },
    {
      "cell_type": "code",
      "metadata": {
        "id": "8MLmLzCa9mVI"
      },
      "source": [
        "import numpy as np\n",
        "import pandas as pd\n",
        "from sklearn.ensemble import RandomForestClassifier\n",
        "from sklearn.model_selection import train_test_split\n",
        "from sklearn.pipeline import make_pipeline\n",
        "from tpot.builtins import ZeroCount\n",
        "from tpot.export_utils import set_param_recursive\n",
        "\n",
        "training_features, testing_features, training_target, testing_target = \\\n",
        "            train_test_split(training_features, training_targets, random_state=42)\n",
        "\n",
        "# Average CV score on the training set was: 0.9003321637295668\n",
        "exported_pipeline = make_pipeline(\n",
        "    ZeroCount(),\n",
        "    RandomForestClassifier(bootstrap=False, criterion=\"gini\", max_features=0.15000000000000002, min_samples_leaf=1, min_samples_split=2, n_estimators=100)\n",
        ")\n",
        "# Fix random state for all the steps in exported pipeline\n",
        "set_param_recursive(exported_pipeline.steps, 'random_state', 42)\n",
        "\n",
        "exported_pipeline.fit(training_features, training_target)\n",
        "results = exported_pipeline.predict(testing_features)\n"
      ],
      "execution_count": null,
      "outputs": []
    },
    {
      "cell_type": "code",
      "metadata": {
        "id": "nFa_RBhC9mS_"
      },
      "source": [
        "scoreTrain=exported_pipeline.score(training_features,training_target)\n",
        "scoreTest=exported_pipeline.score(testing_features,testing_target)\n"
      ],
      "execution_count": null,
      "outputs": []
    },
    {
      "cell_type": "code",
      "metadata": {
        "colab": {
          "base_uri": "https://localhost:8080/"
        },
        "id": "eVl5IJzNHEnq",
        "outputId": "cf8dad08-95ff-44d9-a8bf-22689a0f8c8b"
      },
      "source": [
        "print(scoreTrain)"
      ],
      "execution_count": null,
      "outputs": [
        {
          "output_type": "stream",
          "name": "stdout",
          "text": [
            "1.0\n"
          ]
        }
      ]
    },
    {
      "cell_type": "code",
      "metadata": {
        "colab": {
          "base_uri": "https://localhost:8080/"
        },
        "id": "1hrKZLgbHGkY",
        "outputId": "224499db-dae6-4423-8594-cde85d7025e2"
      },
      "source": [
        "print(scoreTest)"
      ],
      "execution_count": null,
      "outputs": [
        {
          "output_type": "stream",
          "name": "stdout",
          "text": [
            "0.902\n"
          ]
        }
      ]
    },
    {
      "cell_type": "code",
      "metadata": {
        "id": "55yijlyQIZdX",
        "colab": {
          "base_uri": "https://localhost:8080/"
        },
        "outputId": "13b22e11-9f2a-4c3d-a5fb-444dce7a169e"
      },
      "source": [
        "exported_pipeline.fit(training_features, training_targets)\n"
      ],
      "execution_count": null,
      "outputs": [
        {
          "output_type": "execute_result",
          "data": {
            "text/plain": [
              "Pipeline(steps=[('zerocount', ZeroCount()),\n",
              "                ('randomforestclassifier',\n",
              "                 RandomForestClassifier(bootstrap=False,\n",
              "                                        max_features=0.15000000000000002,\n",
              "                                        random_state=42))])"
            ]
          },
          "metadata": {},
          "execution_count": 21
        }
      ]
    },
    {
      "cell_type": "code",
      "metadata": {
        "id": "SfR_yJ5BIdU3"
      },
      "source": [
        "results = exported_pipeline.predict(testing_features)"
      ],
      "execution_count": null,
      "outputs": []
    },
    {
      "cell_type": "code",
      "metadata": {
        "colab": {
          "base_uri": "https://localhost:8080/"
        },
        "id": "OCHOpwgVnibD",
        "outputId": "7c791113-be3f-4f47-fb44-c407b4b66091"
      },
      "source": [
        "print(results)\n",
        "print(len(results))"
      ],
      "execution_count": null,
      "outputs": [
        {
          "output_type": "stream",
          "name": "stdout",
          "text": [
            "[1 1 1 ... 0 0 1]\n",
            "5000\n"
          ]
        }
      ]
    },
    {
      "cell_type": "code",
      "metadata": {
        "id": "s4ajpAKend-L"
      },
      "source": [
        "test_label = pd.read_csv('/content/gdrive/MyDrive/hoseo_AI/세얼간이_1차.csv')\n",
        "\n",
        "df_test_label = pd.DataFrame({'분석대상': Test['분석대상'][0],\n",
        "                              '정답지' : results[0]\n",
        "                                  \n",
        "},index=[0])\n",
        "\n",
        "for i in range(1,len(Test)):\n",
        "  new_df_test_label = {'분석대상': Test['분석대상'][i],\n",
        "                              '정답지' : int(results[i])\n",
        "                                  \n",
        "}\n",
        "  new_df_test_label = pd.DataFrame(new_df_test_label,index=[i])\n",
        "\n",
        "  df_test_label = pd.concat([df_test_label,new_df_test_label], sort=False)\n",
        "df_test_label.to_csv('/content/gdrive/MyDrive/hoseo_AI/세얼간이5차.csv',index=False)"
      ],
      "execution_count": null,
      "outputs": []
    }
  ]
}