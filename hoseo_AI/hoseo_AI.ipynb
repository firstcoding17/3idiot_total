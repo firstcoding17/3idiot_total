{
  "nbformat": 4,
  "nbformat_minor": 0,
  "metadata": {
    "colab": {
      "name": "hoseo_AI.ipynb",
      "provenance": [],
      "collapsed_sections": []
    },
    "kernelspec": {
      "name": "python3",
      "display_name": "Python 3"
    },
    "language_info": {
      "name": "python"
    },
    "widgets": {
      "application/vnd.jupyter.widget-state+json": {
        "1b63395ecb2c4d2faf4b6d35a0c8d116": {
          "model_module": "@jupyter-widgets/controls",
          "model_name": "HBoxModel",
          "model_module_version": "1.5.0",
          "state": {
            "_view_name": "HBoxView",
            "_dom_classes": [],
            "_model_name": "HBoxModel",
            "_view_module": "@jupyter-widgets/controls",
            "_model_module_version": "1.5.0",
            "_view_count": null,
            "_view_module_version": "1.5.0",
            "box_style": "",
            "layout": "IPY_MODEL_c76b22536f464ce2807b8bcca0f23480",
            "_model_module": "@jupyter-widgets/controls",
            "children": [
              "IPY_MODEL_9178b7ffceb54575a2ab4ea0f223a97e",
              "IPY_MODEL_c2f6b18a9b6d492e94a06c9f163a2f79",
              "IPY_MODEL_75f13c39762c4584a0aa7113367bd32c"
            ]
          }
        },
        "c76b22536f464ce2807b8bcca0f23480": {
          "model_module": "@jupyter-widgets/base",
          "model_name": "LayoutModel",
          "model_module_version": "1.2.0",
          "state": {
            "_view_name": "LayoutView",
            "grid_template_rows": null,
            "right": null,
            "justify_content": null,
            "_view_module": "@jupyter-widgets/base",
            "overflow": null,
            "_model_module_version": "1.2.0",
            "_view_count": null,
            "flex_flow": null,
            "width": null,
            "min_width": null,
            "border": null,
            "align_items": null,
            "bottom": null,
            "_model_module": "@jupyter-widgets/base",
            "top": null,
            "grid_column": null,
            "overflow_y": null,
            "overflow_x": null,
            "grid_auto_flow": null,
            "grid_area": null,
            "grid_template_columns": null,
            "flex": null,
            "_model_name": "LayoutModel",
            "justify_items": null,
            "grid_row": null,
            "max_height": null,
            "align_content": null,
            "visibility": null,
            "align_self": null,
            "height": null,
            "min_height": null,
            "padding": null,
            "grid_auto_rows": null,
            "grid_gap": null,
            "max_width": null,
            "order": null,
            "_view_module_version": "1.2.0",
            "grid_template_areas": null,
            "object_position": null,
            "object_fit": null,
            "grid_auto_columns": null,
            "margin": null,
            "display": null,
            "left": null
          }
        },
        "9178b7ffceb54575a2ab4ea0f223a97e": {
          "model_module": "@jupyter-widgets/controls",
          "model_name": "HTMLModel",
          "model_module_version": "1.5.0",
          "state": {
            "_view_name": "HTMLView",
            "style": "IPY_MODEL_b921c84dbf9c452ca20db96a88aa6659",
            "_dom_classes": [],
            "description": "",
            "_model_name": "HTMLModel",
            "placeholder": "​",
            "_view_module": "@jupyter-widgets/controls",
            "_model_module_version": "1.5.0",
            "value": "Optimization Progress:  59%",
            "_view_count": null,
            "_view_module_version": "1.5.0",
            "description_tooltip": null,
            "_model_module": "@jupyter-widgets/controls",
            "layout": "IPY_MODEL_7bd88651ed7d414883aa0bb4b0b7da5f"
          }
        },
        "c2f6b18a9b6d492e94a06c9f163a2f79": {
          "model_module": "@jupyter-widgets/controls",
          "model_name": "FloatProgressModel",
          "model_module_version": "1.5.0",
          "state": {
            "_view_name": "ProgressView",
            "style": "IPY_MODEL_d616f75842bc4b32b1abce757a6b0de2",
            "_dom_classes": [],
            "description": "",
            "_model_name": "FloatProgressModel",
            "bar_style": "",
            "max": 1300,
            "_view_module": "@jupyter-widgets/controls",
            "_model_module_version": "1.5.0",
            "value": 768,
            "_view_count": null,
            "_view_module_version": "1.5.0",
            "orientation": "horizontal",
            "min": 0,
            "description_tooltip": null,
            "_model_module": "@jupyter-widgets/controls",
            "layout": "IPY_MODEL_210c3251d9a744cc85ce85cb952bd478"
          }
        },
        "75f13c39762c4584a0aa7113367bd32c": {
          "model_module": "@jupyter-widgets/controls",
          "model_name": "HTMLModel",
          "model_module_version": "1.5.0",
          "state": {
            "_view_name": "HTMLView",
            "style": "IPY_MODEL_dd819444b9d140acb6ec85c8a62933ec",
            "_dom_classes": [],
            "description": "",
            "_model_name": "HTMLModel",
            "placeholder": "​",
            "_view_module": "@jupyter-widgets/controls",
            "_model_module_version": "1.5.0",
            "value": " 768/1300 [2:49:40&lt;1:17:24,  8.73s/pipeline]",
            "_view_count": null,
            "_view_module_version": "1.5.0",
            "description_tooltip": null,
            "_model_module": "@jupyter-widgets/controls",
            "layout": "IPY_MODEL_2f0d2ee667e3466eada3755ab0b1a2bc"
          }
        },
        "b921c84dbf9c452ca20db96a88aa6659": {
          "model_module": "@jupyter-widgets/controls",
          "model_name": "DescriptionStyleModel",
          "model_module_version": "1.5.0",
          "state": {
            "_view_name": "StyleView",
            "_model_name": "DescriptionStyleModel",
            "description_width": "",
            "_view_module": "@jupyter-widgets/base",
            "_model_module_version": "1.5.0",
            "_view_count": null,
            "_view_module_version": "1.2.0",
            "_model_module": "@jupyter-widgets/controls"
          }
        },
        "7bd88651ed7d414883aa0bb4b0b7da5f": {
          "model_module": "@jupyter-widgets/base",
          "model_name": "LayoutModel",
          "model_module_version": "1.2.0",
          "state": {
            "_view_name": "LayoutView",
            "grid_template_rows": null,
            "right": null,
            "justify_content": null,
            "_view_module": "@jupyter-widgets/base",
            "overflow": null,
            "_model_module_version": "1.2.0",
            "_view_count": null,
            "flex_flow": null,
            "width": null,
            "min_width": null,
            "border": null,
            "align_items": null,
            "bottom": null,
            "_model_module": "@jupyter-widgets/base",
            "top": null,
            "grid_column": null,
            "overflow_y": null,
            "overflow_x": null,
            "grid_auto_flow": null,
            "grid_area": null,
            "grid_template_columns": null,
            "flex": null,
            "_model_name": "LayoutModel",
            "justify_items": null,
            "grid_row": null,
            "max_height": null,
            "align_content": null,
            "visibility": null,
            "align_self": null,
            "height": null,
            "min_height": null,
            "padding": null,
            "grid_auto_rows": null,
            "grid_gap": null,
            "max_width": null,
            "order": null,
            "_view_module_version": "1.2.0",
            "grid_template_areas": null,
            "object_position": null,
            "object_fit": null,
            "grid_auto_columns": null,
            "margin": null,
            "display": null,
            "left": null
          }
        },
        "d616f75842bc4b32b1abce757a6b0de2": {
          "model_module": "@jupyter-widgets/controls",
          "model_name": "ProgressStyleModel",
          "model_module_version": "1.5.0",
          "state": {
            "_view_name": "StyleView",
            "_model_name": "ProgressStyleModel",
            "description_width": "",
            "_view_module": "@jupyter-widgets/base",
            "_model_module_version": "1.5.0",
            "_view_count": null,
            "_view_module_version": "1.2.0",
            "bar_color": null,
            "_model_module": "@jupyter-widgets/controls"
          }
        },
        "210c3251d9a744cc85ce85cb952bd478": {
          "model_module": "@jupyter-widgets/base",
          "model_name": "LayoutModel",
          "model_module_version": "1.2.0",
          "state": {
            "_view_name": "LayoutView",
            "grid_template_rows": null,
            "right": null,
            "justify_content": null,
            "_view_module": "@jupyter-widgets/base",
            "overflow": null,
            "_model_module_version": "1.2.0",
            "_view_count": null,
            "flex_flow": null,
            "width": null,
            "min_width": null,
            "border": null,
            "align_items": null,
            "bottom": null,
            "_model_module": "@jupyter-widgets/base",
            "top": null,
            "grid_column": null,
            "overflow_y": null,
            "overflow_x": null,
            "grid_auto_flow": null,
            "grid_area": null,
            "grid_template_columns": null,
            "flex": null,
            "_model_name": "LayoutModel",
            "justify_items": null,
            "grid_row": null,
            "max_height": null,
            "align_content": null,
            "visibility": null,
            "align_self": null,
            "height": null,
            "min_height": null,
            "padding": null,
            "grid_auto_rows": null,
            "grid_gap": null,
            "max_width": null,
            "order": null,
            "_view_module_version": "1.2.0",
            "grid_template_areas": null,
            "object_position": null,
            "object_fit": null,
            "grid_auto_columns": null,
            "margin": null,
            "display": null,
            "left": null
          }
        },
        "dd819444b9d140acb6ec85c8a62933ec": {
          "model_module": "@jupyter-widgets/controls",
          "model_name": "DescriptionStyleModel",
          "model_module_version": "1.5.0",
          "state": {
            "_view_name": "StyleView",
            "_model_name": "DescriptionStyleModel",
            "description_width": "",
            "_view_module": "@jupyter-widgets/base",
            "_model_module_version": "1.5.0",
            "_view_count": null,
            "_view_module_version": "1.2.0",
            "_model_module": "@jupyter-widgets/controls"
          }
        },
        "2f0d2ee667e3466eada3755ab0b1a2bc": {
          "model_module": "@jupyter-widgets/base",
          "model_name": "LayoutModel",
          "model_module_version": "1.2.0",
          "state": {
            "_view_name": "LayoutView",
            "grid_template_rows": null,
            "right": null,
            "justify_content": null,
            "_view_module": "@jupyter-widgets/base",
            "overflow": null,
            "_model_module_version": "1.2.0",
            "_view_count": null,
            "flex_flow": null,
            "width": null,
            "min_width": null,
            "border": null,
            "align_items": null,
            "bottom": null,
            "_model_module": "@jupyter-widgets/base",
            "top": null,
            "grid_column": null,
            "overflow_y": null,
            "overflow_x": null,
            "grid_auto_flow": null,
            "grid_area": null,
            "grid_template_columns": null,
            "flex": null,
            "_model_name": "LayoutModel",
            "justify_items": null,
            "grid_row": null,
            "max_height": null,
            "align_content": null,
            "visibility": null,
            "align_self": null,
            "height": null,
            "min_height": null,
            "padding": null,
            "grid_auto_rows": null,
            "grid_gap": null,
            "max_width": null,
            "order": null,
            "_view_module_version": "1.2.0",
            "grid_template_areas": null,
            "object_position": null,
            "object_fit": null,
            "grid_auto_columns": null,
            "margin": null,
            "display": null,
            "left": null
          }
        }
      }
    }
  },
  "cells": [
    {
      "cell_type": "markdown",
      "metadata": {
        "id": "0t-r26jpQHfF"
      },
      "source": [
        "데이터 셋 형태 확인"
      ]
    },
    {
      "cell_type": "code",
      "metadata": {
        "colab": {
          "base_uri": "https://localhost:8080/",
          "height": 394
        },
        "id": "DPRN-uCTQHVy",
        "outputId": "19baec90-abef-41c4-922f-3ca115a33b9b"
      },
      "source": [
        "import pandas as pd\n",
        "import ast\n",
        "\n",
        "\n",
        "\n",
        "\n",
        "\n",
        "#데이터 확인\n",
        "\n",
        "\n",
        "Train = pd.read_csv('/content/gdrive/MyDrive/hoseo_AI/AI_탐지트랙_대회(학습용데이터).csv', encoding='euc=kr')\n",
        "Test = pd.read_csv('/content/gdrive/MyDrive/hoseo_AI/AI_탐지트랙_대회(제출용데이터).csv', encoding='euc=kr')\n",
        "\n",
        "#feature_group_A => x\n",
        "data = ast.literal_eval(Train['Feature_Group_A'][0])\n",
        "print(len(data))\n",
        "\n",
        "#feature_group_B => y\n",
        "data = ast.literal_eval(Train['Feature_Group_B'][0])\n",
        "print(len(data))\n",
        "\n",
        "#feature_group_C => z\n",
        "\n",
        "#feature_group_C는 데이터가 str형태라서 딕셔너리로 변환하는 코드\n",
        "data = ast.literal_eval(Train['Feature_Group_C'][0])\n",
        "#딕셔너리 형태 'numstrings': 3312, 'avlength': 24.9393115942029, 'printabledist': [5963, 67, 449, 124, 398, 49, 90, 154, 326, 218, 65, 103, 491, 306, 802, 451, 1097, 727, 615, 602, 712, 633, 589, 508, 638, 529, 668, 759, 853, 531, 687, 738, 1020, 1084, 294, 733, 760, 831, 427, 336, 383, 782, 113, 83, 612, 327, 376, 542, 1055, 289, 527, 812, 883, 489, 558, 658, 314, 283, 145, 103, 223, 91, 99, 412, 244, 3157, 869, 1713, 1846, 5152, 913, 973, 1322, 2815, 321, 306, 2263, 990, 3001, 3620, 1423, 200, 3392, 2378, 4119, 1238, 438, 985, 806, 851, 113, 123, 181, 100, 75, 86], 'printables': 82599, 'entropy': 5.8347296238951945, 'paths': 0, 'urls': 39, 'registry': 0, 'MZ': 8\n",
        "print(len(data['printabledist']))\n"
      ],
      "execution_count": null,
      "outputs": [
        {
          "output_type": "error",
          "ename": "FileNotFoundError",
          "evalue": "ignored",
          "traceback": [
            "\u001b[0;31m---------------------------------------------------------------------------\u001b[0m",
            "\u001b[0;31mFileNotFoundError\u001b[0m                         Traceback (most recent call last)",
            "\u001b[0;32m<ipython-input-1-09e98bcbccd7>\u001b[0m in \u001b[0;36m<module>\u001b[0;34m()\u001b[0m\n\u001b[1;32m      9\u001b[0m \u001b[0;34m\u001b[0m\u001b[0m\n\u001b[1;32m     10\u001b[0m \u001b[0;34m\u001b[0m\u001b[0m\n\u001b[0;32m---> 11\u001b[0;31m \u001b[0mTrain\u001b[0m \u001b[0;34m=\u001b[0m \u001b[0mpd\u001b[0m\u001b[0;34m.\u001b[0m\u001b[0mread_csv\u001b[0m\u001b[0;34m(\u001b[0m\u001b[0;34m'/content/gdrive/MyDrive/hoseo_AI/AI_탐지트랙_대회(학습용데이터).csv'\u001b[0m\u001b[0;34m,\u001b[0m \u001b[0mencoding\u001b[0m\u001b[0;34m=\u001b[0m\u001b[0;34m'euc=kr'\u001b[0m\u001b[0;34m)\u001b[0m\u001b[0;34m\u001b[0m\u001b[0;34m\u001b[0m\u001b[0m\n\u001b[0m\u001b[1;32m     12\u001b[0m \u001b[0mTest\u001b[0m \u001b[0;34m=\u001b[0m \u001b[0mpd\u001b[0m\u001b[0;34m.\u001b[0m\u001b[0mread_csv\u001b[0m\u001b[0;34m(\u001b[0m\u001b[0;34m'/content/gdrive/MyDrive/hoseo_AI/AI_탐지트랙_대회(제출용데이터).csv'\u001b[0m\u001b[0;34m,\u001b[0m \u001b[0mencoding\u001b[0m\u001b[0;34m=\u001b[0m\u001b[0;34m'euc=kr'\u001b[0m\u001b[0;34m)\u001b[0m\u001b[0;34m\u001b[0m\u001b[0;34m\u001b[0m\u001b[0m\n\u001b[1;32m     13\u001b[0m \u001b[0;34m\u001b[0m\u001b[0m\n",
            "\u001b[0;32m/usr/local/lib/python3.7/dist-packages/pandas/io/parsers.py\u001b[0m in \u001b[0;36mread_csv\u001b[0;34m(filepath_or_buffer, sep, delimiter, header, names, index_col, usecols, squeeze, prefix, mangle_dupe_cols, dtype, engine, converters, true_values, false_values, skipinitialspace, skiprows, skipfooter, nrows, na_values, keep_default_na, na_filter, verbose, skip_blank_lines, parse_dates, infer_datetime_format, keep_date_col, date_parser, dayfirst, cache_dates, iterator, chunksize, compression, thousands, decimal, lineterminator, quotechar, quoting, doublequote, escapechar, comment, encoding, dialect, error_bad_lines, warn_bad_lines, delim_whitespace, low_memory, memory_map, float_precision)\u001b[0m\n\u001b[1;32m    686\u001b[0m     )\n\u001b[1;32m    687\u001b[0m \u001b[0;34m\u001b[0m\u001b[0m\n\u001b[0;32m--> 688\u001b[0;31m     \u001b[0;32mreturn\u001b[0m \u001b[0m_read\u001b[0m\u001b[0;34m(\u001b[0m\u001b[0mfilepath_or_buffer\u001b[0m\u001b[0;34m,\u001b[0m \u001b[0mkwds\u001b[0m\u001b[0;34m)\u001b[0m\u001b[0;34m\u001b[0m\u001b[0;34m\u001b[0m\u001b[0m\n\u001b[0m\u001b[1;32m    689\u001b[0m \u001b[0;34m\u001b[0m\u001b[0m\n\u001b[1;32m    690\u001b[0m \u001b[0;34m\u001b[0m\u001b[0m\n",
            "\u001b[0;32m/usr/local/lib/python3.7/dist-packages/pandas/io/parsers.py\u001b[0m in \u001b[0;36m_read\u001b[0;34m(filepath_or_buffer, kwds)\u001b[0m\n\u001b[1;32m    452\u001b[0m \u001b[0;34m\u001b[0m\u001b[0m\n\u001b[1;32m    453\u001b[0m     \u001b[0;31m# Create the parser.\u001b[0m\u001b[0;34m\u001b[0m\u001b[0;34m\u001b[0m\u001b[0;34m\u001b[0m\u001b[0m\n\u001b[0;32m--> 454\u001b[0;31m     \u001b[0mparser\u001b[0m \u001b[0;34m=\u001b[0m \u001b[0mTextFileReader\u001b[0m\u001b[0;34m(\u001b[0m\u001b[0mfp_or_buf\u001b[0m\u001b[0;34m,\u001b[0m \u001b[0;34m**\u001b[0m\u001b[0mkwds\u001b[0m\u001b[0;34m)\u001b[0m\u001b[0;34m\u001b[0m\u001b[0;34m\u001b[0m\u001b[0m\n\u001b[0m\u001b[1;32m    455\u001b[0m \u001b[0;34m\u001b[0m\u001b[0m\n\u001b[1;32m    456\u001b[0m     \u001b[0;32mif\u001b[0m \u001b[0mchunksize\u001b[0m \u001b[0;32mor\u001b[0m \u001b[0miterator\u001b[0m\u001b[0;34m:\u001b[0m\u001b[0;34m\u001b[0m\u001b[0;34m\u001b[0m\u001b[0m\n",
            "\u001b[0;32m/usr/local/lib/python3.7/dist-packages/pandas/io/parsers.py\u001b[0m in \u001b[0;36m__init__\u001b[0;34m(self, f, engine, **kwds)\u001b[0m\n\u001b[1;32m    946\u001b[0m             \u001b[0mself\u001b[0m\u001b[0;34m.\u001b[0m\u001b[0moptions\u001b[0m\u001b[0;34m[\u001b[0m\u001b[0;34m\"has_index_names\"\u001b[0m\u001b[0;34m]\u001b[0m \u001b[0;34m=\u001b[0m \u001b[0mkwds\u001b[0m\u001b[0;34m[\u001b[0m\u001b[0;34m\"has_index_names\"\u001b[0m\u001b[0;34m]\u001b[0m\u001b[0;34m\u001b[0m\u001b[0;34m\u001b[0m\u001b[0m\n\u001b[1;32m    947\u001b[0m \u001b[0;34m\u001b[0m\u001b[0m\n\u001b[0;32m--> 948\u001b[0;31m         \u001b[0mself\u001b[0m\u001b[0;34m.\u001b[0m\u001b[0m_make_engine\u001b[0m\u001b[0;34m(\u001b[0m\u001b[0mself\u001b[0m\u001b[0;34m.\u001b[0m\u001b[0mengine\u001b[0m\u001b[0;34m)\u001b[0m\u001b[0;34m\u001b[0m\u001b[0;34m\u001b[0m\u001b[0m\n\u001b[0m\u001b[1;32m    949\u001b[0m \u001b[0;34m\u001b[0m\u001b[0m\n\u001b[1;32m    950\u001b[0m     \u001b[0;32mdef\u001b[0m \u001b[0mclose\u001b[0m\u001b[0;34m(\u001b[0m\u001b[0mself\u001b[0m\u001b[0;34m)\u001b[0m\u001b[0;34m:\u001b[0m\u001b[0;34m\u001b[0m\u001b[0;34m\u001b[0m\u001b[0m\n",
            "\u001b[0;32m/usr/local/lib/python3.7/dist-packages/pandas/io/parsers.py\u001b[0m in \u001b[0;36m_make_engine\u001b[0;34m(self, engine)\u001b[0m\n\u001b[1;32m   1178\u001b[0m     \u001b[0;32mdef\u001b[0m \u001b[0m_make_engine\u001b[0m\u001b[0;34m(\u001b[0m\u001b[0mself\u001b[0m\u001b[0;34m,\u001b[0m \u001b[0mengine\u001b[0m\u001b[0;34m=\u001b[0m\u001b[0;34m\"c\"\u001b[0m\u001b[0;34m)\u001b[0m\u001b[0;34m:\u001b[0m\u001b[0;34m\u001b[0m\u001b[0;34m\u001b[0m\u001b[0m\n\u001b[1;32m   1179\u001b[0m         \u001b[0;32mif\u001b[0m \u001b[0mengine\u001b[0m \u001b[0;34m==\u001b[0m \u001b[0;34m\"c\"\u001b[0m\u001b[0;34m:\u001b[0m\u001b[0;34m\u001b[0m\u001b[0;34m\u001b[0m\u001b[0m\n\u001b[0;32m-> 1180\u001b[0;31m             \u001b[0mself\u001b[0m\u001b[0;34m.\u001b[0m\u001b[0m_engine\u001b[0m \u001b[0;34m=\u001b[0m \u001b[0mCParserWrapper\u001b[0m\u001b[0;34m(\u001b[0m\u001b[0mself\u001b[0m\u001b[0;34m.\u001b[0m\u001b[0mf\u001b[0m\u001b[0;34m,\u001b[0m \u001b[0;34m**\u001b[0m\u001b[0mself\u001b[0m\u001b[0;34m.\u001b[0m\u001b[0moptions\u001b[0m\u001b[0;34m)\u001b[0m\u001b[0;34m\u001b[0m\u001b[0;34m\u001b[0m\u001b[0m\n\u001b[0m\u001b[1;32m   1181\u001b[0m         \u001b[0;32melse\u001b[0m\u001b[0;34m:\u001b[0m\u001b[0;34m\u001b[0m\u001b[0;34m\u001b[0m\u001b[0m\n\u001b[1;32m   1182\u001b[0m             \u001b[0;32mif\u001b[0m \u001b[0mengine\u001b[0m \u001b[0;34m==\u001b[0m \u001b[0;34m\"python\"\u001b[0m\u001b[0;34m:\u001b[0m\u001b[0;34m\u001b[0m\u001b[0;34m\u001b[0m\u001b[0m\n",
            "\u001b[0;32m/usr/local/lib/python3.7/dist-packages/pandas/io/parsers.py\u001b[0m in \u001b[0;36m__init__\u001b[0;34m(self, src, **kwds)\u001b[0m\n\u001b[1;32m   1991\u001b[0m         \u001b[0;32mif\u001b[0m \u001b[0mkwds\u001b[0m\u001b[0;34m.\u001b[0m\u001b[0mget\u001b[0m\u001b[0;34m(\u001b[0m\u001b[0;34m\"compression\"\u001b[0m\u001b[0;34m)\u001b[0m \u001b[0;32mis\u001b[0m \u001b[0;32mNone\u001b[0m \u001b[0;32mand\u001b[0m \u001b[0mencoding\u001b[0m\u001b[0;34m:\u001b[0m\u001b[0;34m\u001b[0m\u001b[0;34m\u001b[0m\u001b[0m\n\u001b[1;32m   1992\u001b[0m             \u001b[0;32mif\u001b[0m \u001b[0misinstance\u001b[0m\u001b[0;34m(\u001b[0m\u001b[0msrc\u001b[0m\u001b[0;34m,\u001b[0m \u001b[0mstr\u001b[0m\u001b[0;34m)\u001b[0m\u001b[0;34m:\u001b[0m\u001b[0;34m\u001b[0m\u001b[0;34m\u001b[0m\u001b[0m\n\u001b[0;32m-> 1993\u001b[0;31m                 \u001b[0msrc\u001b[0m \u001b[0;34m=\u001b[0m \u001b[0mopen\u001b[0m\u001b[0;34m(\u001b[0m\u001b[0msrc\u001b[0m\u001b[0;34m,\u001b[0m \u001b[0;34m\"rb\"\u001b[0m\u001b[0;34m)\u001b[0m\u001b[0;34m\u001b[0m\u001b[0;34m\u001b[0m\u001b[0m\n\u001b[0m\u001b[1;32m   1994\u001b[0m                 \u001b[0mself\u001b[0m\u001b[0;34m.\u001b[0m\u001b[0mhandles\u001b[0m\u001b[0;34m.\u001b[0m\u001b[0mappend\u001b[0m\u001b[0;34m(\u001b[0m\u001b[0msrc\u001b[0m\u001b[0;34m)\u001b[0m\u001b[0;34m\u001b[0m\u001b[0;34m\u001b[0m\u001b[0m\n\u001b[1;32m   1995\u001b[0m \u001b[0;34m\u001b[0m\u001b[0m\n",
            "\u001b[0;31mFileNotFoundError\u001b[0m: [Errno 2] No such file or directory: '/content/gdrive/MyDrive/hoseo_AI/AI_탐지트랙_대회(학습용데이터).csv'"
          ]
        }
      ]
    },
    {
      "cell_type": "code",
      "metadata": {
        "id": "8WqeHS9SQHTf"
      },
      "source": [
        "#차원 축소"
      ],
      "execution_count": null,
      "outputs": []
    },
    {
      "cell_type": "code",
      "metadata": {
        "id": "jZ6i_iQEQHRZ"
      },
      "source": [
        ""
      ],
      "execution_count": null,
      "outputs": []
    },
    {
      "cell_type": "code",
      "metadata": {
        "id": "ND6l-mL1QHPC"
      },
      "source": [
        ""
      ],
      "execution_count": null,
      "outputs": []
    },
    {
      "cell_type": "code",
      "metadata": {
        "id": "k-ejerxxQG4W"
      },
      "source": [
        ""
      ],
      "execution_count": null,
      "outputs": []
    },
    {
      "cell_type": "markdown",
      "metadata": {
        "id": "LiSadyOtMxyU"
      },
      "source": [
        "**1. AutoML 모델 이용**\n",
        "\n",
        "https://colab.research.google.com/github/rpi-techfundamentals/spring2019-materials/blob/master/14-automl/01_auto_ml_tpot.ipynb#scrollTo=uhBlHuGpO2n6\n",
        "\n"
      ]
    },
    {
      "cell_type": "code",
      "metadata": {
        "colab": {
          "base_uri": "https://localhost:8080/"
        },
        "id": "GH_2tbxELDqp",
        "outputId": "04f248df-02d5-490e-a4da-c7e021c59ff6"
      },
      "source": [
        "# Install tpot on the server\n",
        "!pip install tpot\n",
        "!pip install -U scikit-learn"
      ],
      "execution_count": null,
      "outputs": [
        {
          "output_type": "stream",
          "name": "stdout",
          "text": [
            "Collecting tpot\n",
            "  Downloading TPOT-0.11.7-py3-none-any.whl (87 kB)\n",
            "\u001b[?25l\r\u001b[K     |███▊                            | 10 kB 16.7 MB/s eta 0:00:01\r\u001b[K     |███████▌                        | 20 kB 20.4 MB/s eta 0:00:01\r\u001b[K     |███████████▎                    | 30 kB 19.0 MB/s eta 0:00:01\r\u001b[K     |███████████████                 | 40 kB 10.6 MB/s eta 0:00:01\r\u001b[K     |██████████████████▉             | 51 kB 4.7 MB/s eta 0:00:01\r\u001b[K     |██████████████████████▋         | 61 kB 4.7 MB/s eta 0:00:01\r\u001b[K     |██████████████████████████▎     | 71 kB 4.7 MB/s eta 0:00:01\r\u001b[K     |██████████████████████████████  | 81 kB 5.2 MB/s eta 0:00:01\r\u001b[K     |████████████████████████████████| 87 kB 2.7 MB/s \n",
            "\u001b[?25hCollecting stopit>=1.1.1\n",
            "  Downloading stopit-1.1.2.tar.gz (18 kB)\n",
            "Collecting xgboost>=1.1.0\n",
            "  Downloading xgboost-1.4.2-py3-none-manylinux2010_x86_64.whl (166.7 MB)\n",
            "\u001b[K     |████████████████████████████████| 166.7 MB 15 kB/s \n",
            "\u001b[?25hRequirement already satisfied: joblib>=0.13.2 in /usr/local/lib/python3.7/dist-packages (from tpot) (1.0.1)\n",
            "Requirement already satisfied: scikit-learn>=0.22.0 in /usr/local/lib/python3.7/dist-packages (from tpot) (0.22.2.post1)\n",
            "Collecting update-checker>=0.16\n",
            "  Downloading update_checker-0.18.0-py3-none-any.whl (7.0 kB)\n",
            "Collecting deap>=1.2\n",
            "  Downloading deap-1.3.1-cp37-cp37m-manylinux_2_5_x86_64.manylinux1_x86_64.manylinux_2_12_x86_64.manylinux2010_x86_64.whl (160 kB)\n",
            "\u001b[K     |████████████████████████████████| 160 kB 26.8 MB/s \n",
            "\u001b[?25hRequirement already satisfied: pandas>=0.24.2 in /usr/local/lib/python3.7/dist-packages (from tpot) (1.1.5)\n",
            "Requirement already satisfied: numpy>=1.16.3 in /usr/local/lib/python3.7/dist-packages (from tpot) (1.19.5)\n",
            "Requirement already satisfied: tqdm>=4.36.1 in /usr/local/lib/python3.7/dist-packages (from tpot) (4.62.3)\n",
            "Requirement already satisfied: scipy>=1.3.1 in /usr/local/lib/python3.7/dist-packages (from tpot) (1.4.1)\n",
            "Requirement already satisfied: python-dateutil>=2.7.3 in /usr/local/lib/python3.7/dist-packages (from pandas>=0.24.2->tpot) (2.8.2)\n",
            "Requirement already satisfied: pytz>=2017.2 in /usr/local/lib/python3.7/dist-packages (from pandas>=0.24.2->tpot) (2018.9)\n",
            "Requirement already satisfied: six>=1.5 in /usr/local/lib/python3.7/dist-packages (from python-dateutil>=2.7.3->pandas>=0.24.2->tpot) (1.15.0)\n",
            "Requirement already satisfied: requests>=2.3.0 in /usr/local/lib/python3.7/dist-packages (from update-checker>=0.16->tpot) (2.23.0)\n",
            "Requirement already satisfied: idna<3,>=2.5 in /usr/local/lib/python3.7/dist-packages (from requests>=2.3.0->update-checker>=0.16->tpot) (2.10)\n",
            "Requirement already satisfied: certifi>=2017.4.17 in /usr/local/lib/python3.7/dist-packages (from requests>=2.3.0->update-checker>=0.16->tpot) (2021.5.30)\n",
            "Requirement already satisfied: urllib3!=1.25.0,!=1.25.1,<1.26,>=1.21.1 in /usr/local/lib/python3.7/dist-packages (from requests>=2.3.0->update-checker>=0.16->tpot) (1.24.3)\n",
            "Requirement already satisfied: chardet<4,>=3.0.2 in /usr/local/lib/python3.7/dist-packages (from requests>=2.3.0->update-checker>=0.16->tpot) (3.0.4)\n",
            "Building wheels for collected packages: stopit\n",
            "  Building wheel for stopit (setup.py) ... \u001b[?25l\u001b[?25hdone\n",
            "  Created wheel for stopit: filename=stopit-1.1.2-py3-none-any.whl size=11952 sha256=fc2a51d08a0af45dad2878c0baaf173c32cbfee616dd9bdb4068944f3663a223\n",
            "  Stored in directory: /root/.cache/pip/wheels/e2/d2/79/eaf81edb391e27c87f51b8ef901ecc85a5363dc96b8b8d71e3\n",
            "Successfully built stopit\n",
            "Installing collected packages: xgboost, update-checker, stopit, deap, tpot\n",
            "  Attempting uninstall: xgboost\n",
            "    Found existing installation: xgboost 0.90\n",
            "    Uninstalling xgboost-0.90:\n",
            "      Successfully uninstalled xgboost-0.90\n",
            "Successfully installed deap-1.3.1 stopit-1.1.2 tpot-0.11.7 update-checker-0.18.0 xgboost-1.4.2\n",
            "Requirement already satisfied: scikit-learn in /usr/local/lib/python3.7/dist-packages (0.22.2.post1)\n",
            "Collecting scikit-learn\n",
            "  Downloading scikit_learn-1.0-cp37-cp37m-manylinux_2_12_x86_64.manylinux2010_x86_64.whl (23.1 MB)\n",
            "\u001b[K     |████████████████████████████████| 23.1 MB 1.6 MB/s \n",
            "\u001b[?25hRequirement already satisfied: numpy>=1.14.6 in /usr/local/lib/python3.7/dist-packages (from scikit-learn) (1.19.5)\n",
            "Collecting threadpoolctl>=2.0.0\n",
            "  Downloading threadpoolctl-3.0.0-py3-none-any.whl (14 kB)\n",
            "Requirement already satisfied: scipy>=1.1.0 in /usr/local/lib/python3.7/dist-packages (from scikit-learn) (1.4.1)\n",
            "Requirement already satisfied: joblib>=0.11 in /usr/local/lib/python3.7/dist-packages (from scikit-learn) (1.0.1)\n",
            "Installing collected packages: threadpoolctl, scikit-learn\n",
            "  Attempting uninstall: scikit-learn\n",
            "    Found existing installation: scikit-learn 0.22.2.post1\n",
            "    Uninstalling scikit-learn-0.22.2.post1:\n",
            "      Successfully uninstalled scikit-learn-0.22.2.post1\n",
            "Successfully installed scikit-learn-1.0 threadpoolctl-3.0.0\n"
          ]
        }
      ]
    },
    {
      "cell_type": "code",
      "metadata": {
        "id": "1vwNbqQiMjox"
      },
      "source": [
        "# pandas and numpy for data manipulation\n",
        "import pandas as pd\n",
        "import numpy as np\n",
        "\n",
        "\n",
        "from tpot import TPOTClassifier"
      ],
      "execution_count": null,
      "outputs": []
    },
    {
      "cell_type": "code",
      "metadata": {
        "colab": {
          "base_uri": "https://localhost:8080/"
        },
        "id": "4nyqsFUcMjrO",
        "outputId": "9c213b94-172e-4976-8873-ea2bdca6d796"
      },
      "source": [
        "\n",
        "#데이터 불러오기\n",
        "from google.colab import drive \n",
        "drive.mount('/content/gdrive/')\n",
        "\n"
      ],
      "execution_count": null,
      "outputs": [
        {
          "output_type": "stream",
          "name": "stdout",
          "text": [
            "Mounted at /content/gdrive/\n"
          ]
        }
      ]
    },
    {
      "cell_type": "code",
      "metadata": {
        "id": "ibtGEb4hN9k_"
      },
      "source": [
        "import pandas as pd\n",
        "import ast\n",
        "\n",
        "#데이터 전처리\n",
        "\n",
        "Train = pd.read_csv('/content/gdrive/MyDrive/hoseo_AI/AI_탐지트랙_대회(학습용데이터).csv', encoding='euc=kr')\n",
        "Test = pd.read_csv('/content/gdrive/MyDrive/hoseo_AI/AI_탐지트랙_대회(제출용데이터).csv', encoding='euc=kr')\n",
        "\n",
        "#데이터 프레임 생성\n",
        "\n",
        "#테스트 피쳐\n",
        "data = ast.literal_eval(Train['Feature_Group_C'][0])\n",
        "\n",
        "A = ast.literal_eval(Train['Feature_Group_A'][0])\n",
        "A = np.array(A)\n",
        "A = np.std(A)\n",
        "\n",
        "B = ast.literal_eval(Train['Feature_Group_B'][0])\n",
        "B = np.array(B)\n",
        "B = np.std(B)\n",
        "\n",
        "printabled = np.array(data['printabledist'])\n",
        "printabled = np.std(printabled)\n",
        "\n",
        "\n",
        "df_train_features = pd.DataFrame({\n",
        "                                  'Feature_Group_A': A,\n",
        "                                  'Feature_Group_B': B,\n",
        "                                  'numstrings' : data['numstrings'],\n",
        "                                  'avlength': data['avlength'],\n",
        "                                  'printabledist':printabled,\n",
        "                                  'printables' : data['printables'],\n",
        "                                  'entropy': data['entropy'],\n",
        "                                  'paths' : data['paths'],\n",
        "                                  'urls' : data['urls'],\n",
        "                                  'registry' : data['registry'],\n",
        "                                  'MZ' : data['MZ'],\n",
        "\n",
        "                                  \n",
        "},index=[0])\n",
        "for i in range(1,len(Train)):\n",
        "  data = ast.literal_eval(Train['Feature_Group_C'][i])\n",
        "\n",
        "  A = ast.literal_eval(Train['Feature_Group_A'][i])\n",
        "  A = np.array(A)\n",
        "  A = np.std(A)\n",
        "\n",
        "  B = ast.literal_eval(Train['Feature_Group_B'][i])\n",
        "  B = np.array(B)\n",
        "  B = np.std(B)\n",
        "\n",
        "  printabled = np.array(data['printabledist'])\n",
        "  printabled = np.std(printabled)\n",
        "\n",
        "\n",
        "\n",
        "  new_df ={\n",
        "                                  'Feature_Group_A': A,\n",
        "                                  'Feature_Group_B': B,\n",
        "                                  'numstrings' : data['numstrings'],\n",
        "                                  'avlength': data['avlength'],\n",
        "                                  'printabledist':printabled,\n",
        "                                  'printables' : data['printables'],\n",
        "                                  'entropy': data['entropy'],\n",
        "                                  'paths' : data['paths'],\n",
        "                                  'urls' : data['urls'],\n",
        "                                  'registry' : data['registry'],\n",
        "                                  'MZ' : data['MZ']\n",
        "}\n",
        "  new_df = pd.DataFrame(new_df,index=[i])\n",
        "\n",
        "  df_train_features = pd.concat([df_train_features,new_df], sort=False)\n",
        "\n",
        "\n",
        "  \n",
        "\n",
        "\n",
        "\n",
        "#테스트 피처\n",
        "\n",
        "\n",
        "data = ast.literal_eval(Test['Feature_Group_C'][0])\n",
        "\n",
        "A = ast.literal_eval(Test['Feature_Group_A'][0])\n",
        "A = np.array(A)\n",
        "A = np.std(A)\n",
        "\n",
        "B = ast.literal_eval(Test['Feature_Group_B'][0])\n",
        "B = np.array(B)\n",
        "B = np.std(B)\n",
        "\n",
        "printabled = np.array(data['printabledist'])\n",
        "printabled = np.std(printabled)\n",
        "\n",
        "\n",
        "\n",
        "df_test_features = pd.DataFrame({\n",
        "                                  'Feature_Group_A': A,\n",
        "                                  'Feature_Group_B': B,\n",
        "                                  'numstrings' : data['numstrings'],\n",
        "                                  'avlength': data['avlength'],\n",
        "                                  'printabledist':printabled,\n",
        "                                  'printables' : data['printables'],\n",
        "                                  'entropy': data['entropy'],\n",
        "                                  'paths' : data['paths'],\n",
        "                                  'urls' : data['urls'],\n",
        "                                  'registry' : data['registry'],\n",
        "                                  'MZ' : data['MZ']\n",
        "},index=[0])\n",
        "\n",
        "\n",
        "\n",
        "for i in range(1,len(Test)):\n",
        "  data = ast.literal_eval(Test['Feature_Group_C'][i])\n",
        "\n",
        "  A = ast.literal_eval(Test['Feature_Group_A'][i])\n",
        "  A = np.array(A)\n",
        "  A = np.std(A)\n",
        "\n",
        "  B = ast.literal_eval(Test['Feature_Group_B'][i])\n",
        "  B = np.array(B)\n",
        "  B = np.std(B)\n",
        "\n",
        "  printabled = np.array(data['printabledist'])\n",
        "  printabled = np.std(printabled)\n",
        "\n",
        "\n",
        "  new_df ={\n",
        "                                  'Feature_Group_A': A,\n",
        "                                  'Feature_Group_B': B,\n",
        "                                  'numstrings' : data['numstrings'],\n",
        "                                  'avlength': data['avlength'],\n",
        "                                  'printabledist':printabled,\n",
        "                                  'printables' : data['printables'],\n",
        "                                  'entropy': data['entropy'],\n",
        "                                  'paths' : data['paths'],\n",
        "                                  'urls' : data['urls'],\n",
        "                                  'registry' : data['registry'],\n",
        "                                  'MZ' : data['MZ']\n",
        "}\n",
        "  new_df = pd.DataFrame(new_df,index=[i])\n",
        "\n",
        "  df_test_features = pd.concat([df_test_features,new_df], sort=False)\n",
        "\n",
        "\n",
        "\n",
        "\n",
        "df_train_label = Train['label']\n",
        "\n",
        "\n"
      ],
      "execution_count": null,
      "outputs": []
    },
    {
      "cell_type": "code",
      "metadata": {
        "id": "AxqgogImMjt0"
      },
      "source": [
        "\n",
        "df_train_features.style.hide_index()\n",
        "df_test_features.style.hide_index()\n",
        "\n",
        "# Convert to numpy arrays\n",
        "training_features = np.array(df_train_features)\n",
        "testing_features = np.array(df_test_features)\n",
        "\n",
        "\n",
        "\n",
        "\n",
        "\n",
        "\n",
        "# Sklearn wants the labels as one-dimensional vectors\n",
        "\n",
        "training_targets = np.array(df_train_label).reshape((-1,))\n"
      ],
      "execution_count": null,
      "outputs": []
    },
    {
      "cell_type": "code",
      "metadata": {
        "id": "Mf8DvjbpMjwJ"
      },
      "source": [
        "# Create a tpot object with a few parameters\n",
        "tpot = TPOTClassifier(generations=25,\n",
        "                      population_size = 50,\n",
        "                      verbosity = 2,\n",
        "                      random_state = 42,\n",
        "                      scoring = 'f1'\n",
        "                      )"
      ],
      "execution_count": null,
      "outputs": []
    },
    {
      "cell_type": "code",
      "metadata": {
        "colab": {
          "base_uri": "https://localhost:8080/",
          "height": 553,
          "referenced_widgets": [
            "1b63395ecb2c4d2faf4b6d35a0c8d116",
            "c76b22536f464ce2807b8bcca0f23480",
            "9178b7ffceb54575a2ab4ea0f223a97e",
            "c2f6b18a9b6d492e94a06c9f163a2f79",
            "75f13c39762c4584a0aa7113367bd32c",
            "b921c84dbf9c452ca20db96a88aa6659",
            "7bd88651ed7d414883aa0bb4b0b7da5f",
            "d616f75842bc4b32b1abce757a6b0de2",
            "210c3251d9a744cc85ce85cb952bd478",
            "dd819444b9d140acb6ec85c8a62933ec",
            "2f0d2ee667e3466eada3755ab0b1a2bc"
          ]
        },
        "id": "JgnRcWKUMjyb",
        "outputId": "f564016c-2b4e-475a-d9ce-916122729442"
      },
      "source": [
        "\n",
        "\n",
        "tpot.fit(training_features, training_targets)"
      ],
      "execution_count": null,
      "outputs": [
        {
          "data": {
            "application/vnd.jupyter.widget-view+json": {
              "model_id": "1b63395ecb2c4d2faf4b6d35a0c8d116",
              "version_major": 2,
              "version_minor": 0
            },
            "text/plain": [
              "Optimization Progress:   0%|          | 0/1300 [00:00<?, ?pipeline/s]"
            ]
          },
          "metadata": {},
          "output_type": "display_data"
        },
        {
          "metadata": {
            "tags": null
          },
          "name": "stdout",
          "output_type": "stream",
          "text": [
            "\n",
            "Generation 1 - Current best internal CV score: 0.8804724233643597\n",
            "\n",
            "Generation 2 - Current best internal CV score: 0.8838830579406881\n",
            "\n",
            "Generation 3 - Current best internal CV score: 0.8838830579406881\n",
            "\n",
            "Generation 4 - Current best internal CV score: 0.8878664777209098\n",
            "\n",
            "Generation 5 - Current best internal CV score: 0.8878664777209098\n",
            "\n",
            "Generation 6 - Current best internal CV score: 0.8878664777209098\n",
            "\n",
            "Generation 7 - Current best internal CV score: 0.8917182991030398\n",
            "\n",
            "Generation 8 - Current best internal CV score: 0.8917182991030398\n",
            "\n",
            "Generation 9 - Current best internal CV score: 0.8917182991030398\n",
            "\n",
            "Generation 10 - Current best internal CV score: 0.8917182991030398\n",
            "\n",
            "Generation 11 - Current best internal CV score: 0.8917182991030398\n",
            "\n",
            "Generation 12 - Current best internal CV score: 0.8917182991030398\n",
            "\n",
            "Generation 13 - Current best internal CV score: 0.8917815171890154\n",
            "\n",
            "Generation 14 - Current best internal CV score: 0.8924057226211236\n"
          ]
        }
      ]
    },
    {
      "cell_type": "code",
      "metadata": {
        "id": "_oeFPkbAMj0x",
        "colab": {
          "base_uri": "https://localhost:8080/"
        },
        "outputId": "27b5ba33-f75d-4a83-9007-7306804b6ef6"
      },
      "source": [
        "# Show the final model\n",
        "print(tpot.fitted_pipeline_)"
      ],
      "execution_count": null,
      "outputs": [
        {
          "output_type": "stream",
          "name": "stdout",
          "text": [
            "Pipeline(steps=[('stackingestimator',\n",
            "                 StackingEstimator(estimator=ExtraTreesClassifier(criterion='entropy',\n",
            "                                                                  max_features=0.7500000000000001,\n",
            "                                                                  min_samples_leaf=2,\n",
            "                                                                  min_samples_split=6,\n",
            "                                                                  random_state=42))),\n",
            "                ('randomforestclassifier',\n",
            "                 RandomForestClassifier(max_features=0.2, min_samples_leaf=8,\n",
            "                                        min_samples_split=4,\n",
            "                                        random_state=42))])\n"
          ]
        }
      ]
    },
    {
      "cell_type": "code",
      "metadata": {
        "id": "15sr3tmEiaBn"
      },
      "source": [
        "# Export the pipeline as a python script file\n",
        "tpot.export('tpot_exported_pipeline.py')"
      ],
      "execution_count": null,
      "outputs": []
    },
    {
      "cell_type": "code",
      "metadata": {
        "colab": {
          "base_uri": "https://localhost:8080/",
          "height": 17
        },
        "id": "O1W-AKTDuUSR",
        "outputId": "5fe7558e-8f94-45b2-f1d1-709cfd322846"
      },
      "source": [
        "# Import file management\n",
        "from google.colab import files\n",
        "# Download the pipeline for local use\n",
        "files.download('tpot_exported_pipeline.py')"
      ],
      "execution_count": null,
      "outputs": [
        {
          "output_type": "display_data",
          "data": {
            "application/javascript": [
              "\n",
              "    async function download(id, filename, size) {\n",
              "      if (!google.colab.kernel.accessAllowed) {\n",
              "        return;\n",
              "      }\n",
              "      const div = document.createElement('div');\n",
              "      const label = document.createElement('label');\n",
              "      label.textContent = `Downloading \"${filename}\": `;\n",
              "      div.appendChild(label);\n",
              "      const progress = document.createElement('progress');\n",
              "      progress.max = size;\n",
              "      div.appendChild(progress);\n",
              "      document.body.appendChild(div);\n",
              "\n",
              "      const buffers = [];\n",
              "      let downloaded = 0;\n",
              "\n",
              "      const channel = await google.colab.kernel.comms.open(id);\n",
              "      // Send a message to notify the kernel that we're ready.\n",
              "      channel.send({})\n",
              "\n",
              "      for await (const message of channel.messages) {\n",
              "        // Send a message to notify the kernel that we're ready.\n",
              "        channel.send({})\n",
              "        if (message.buffers) {\n",
              "          for (const buffer of message.buffers) {\n",
              "            buffers.push(buffer);\n",
              "            downloaded += buffer.byteLength;\n",
              "            progress.value = downloaded;\n",
              "          }\n",
              "        }\n",
              "      }\n",
              "      const blob = new Blob(buffers, {type: 'application/binary'});\n",
              "      const a = document.createElement('a');\n",
              "      a.href = window.URL.createObjectURL(blob);\n",
              "      a.download = filename;\n",
              "      div.appendChild(a);\n",
              "      a.click();\n",
              "      div.remove();\n",
              "    }\n",
              "  "
            ],
            "text/plain": [
              "<IPython.core.display.Javascript object>"
            ]
          },
          "metadata": {}
        },
        {
          "output_type": "display_data",
          "data": {
            "application/javascript": [
              "download(\"download_35f49ce5-9433-43d6-b455-bcb2ef45dce1\", \"tpot_exported_pipeline.py\", 1336)"
            ],
            "text/plain": [
              "<IPython.core.display.Javascript object>"
            ]
          },
          "metadata": {}
        }
      ]
    },
    {
      "cell_type": "code",
      "metadata": {
        "colab": {
          "base_uri": "https://localhost:8080/"
        },
        "id": "mnrR93bBvnWX",
        "outputId": "49d92153-3970-4e2c-e3c3-cdd06b406df7"
      },
      "source": [
        "tpot.export"
      ],
      "execution_count": null,
      "outputs": [
        {
          "output_type": "execute_result",
          "data": {
            "text/plain": [
              "<bound method TPOTBase.export of TPOTClassifier(generations=12, population_size=50, random_state=42,\n",
              "               scoring='f1', verbosity=2)>"
            ]
          },
          "metadata": {},
          "execution_count": 17
        }
      ]
    },
    {
      "cell_type": "code",
      "metadata": {
        "id": "Au8lGSz6fhc7"
      },
      "source": [
        "import numpy as np\n",
        "import pandas as pd\n",
        "from sklearn.ensemble import ExtraTreesClassifier, RandomForestClassifier\n",
        "from sklearn.model_selection import train_test_split\n",
        "from sklearn.pipeline import make_pipeline, make_union\n",
        "from tpot.builtins import StackingEstimator\n",
        "from tpot.export_utils import set_param_recursive\n",
        "\n",
        "# Average CV score on the training set was: 0.8917182991030398\n",
        "exported_pipeline = make_pipeline(\n",
        "    StackingEstimator(estimator=ExtraTreesClassifier(bootstrap=False, criterion=\"entropy\", max_features=0.7500000000000001, min_samples_leaf=2, min_samples_split=6, n_estimators=100)),\n",
        "    RandomForestClassifier(bootstrap=True, criterion=\"gini\", max_features=0.2, min_samples_leaf=8, min_samples_split=4, n_estimators=100)\n",
        ")\n",
        "\n"
      ],
      "execution_count": null,
      "outputs": []
    },
    {
      "cell_type": "code",
      "metadata": {
        "id": "_6bB8JUufhYj"
      },
      "source": [
        "# Fix random state for all the steps in exported pipeline\n",
        "set_param_recursive(exported_pipeline.steps, 'random_state', 42)"
      ],
      "execution_count": null,
      "outputs": []
    },
    {
      "cell_type": "code",
      "metadata": {
        "colab": {
          "base_uri": "https://localhost:8080/"
        },
        "id": "yoVk-k_bNT6B",
        "outputId": "78ed438a-d65c-4aa4-cda2-11eaba58b741"
      },
      "source": [
        "\n",
        "exported_pipeline.fit(training_features, training_targets)\n"
      ],
      "execution_count": null,
      "outputs": [
        {
          "output_type": "execute_result",
          "data": {
            "text/plain": [
              "Pipeline(steps=[('stackingestimator',\n",
              "                 StackingEstimator(estimator=ExtraTreesClassifier(criterion='entropy',\n",
              "                                                                  max_features=0.7500000000000001,\n",
              "                                                                  min_samples_leaf=2,\n",
              "                                                                  min_samples_split=6,\n",
              "                                                                  random_state=42))),\n",
              "                ('randomforestclassifier',\n",
              "                 RandomForestClassifier(max_features=0.2, min_samples_leaf=8,\n",
              "                                        min_samples_split=4,\n",
              "                                        random_state=42))])"
            ]
          },
          "metadata": {},
          "execution_count": 31
        }
      ]
    },
    {
      "cell_type": "code",
      "metadata": {
        "id": "P6UYuMuINb1a"
      },
      "source": [
        "results= exported_pipeline.predict(training_features)"
      ],
      "execution_count": null,
      "outputs": []
    },
    {
      "cell_type": "code",
      "metadata": {
        "colab": {
          "base_uri": "https://localhost:8080/"
        },
        "id": "fu6dxoUiNkVa",
        "outputId": "9f011248-6152-480b-ca6f-e37d0af2c56c"
      },
      "source": [
        "print(results)"
      ],
      "execution_count": null,
      "outputs": [
        {
          "output_type": "stream",
          "name": "stdout",
          "text": [
            "[1 1 0 ... 0 1 0]\n"
          ]
        }
      ]
    },
    {
      "cell_type": "code",
      "metadata": {
        "colab": {
          "base_uri": "https://localhost:8080/"
        },
        "id": "-or_rU-qOyoS",
        "outputId": "fad59162-8be1-4a29-b72b-3e6e4110ec36"
      },
      "source": [
        "print(testing_features)"
      ],
      "execution_count": null,
      "outputs": [
        {
          "output_type": "stream",
          "name": "stdout",
          "text": [
            "[[5.18805258e+03 1.14771417e+04 1.56000000e+03 ... 1.08000000e+02\n",
            "  0.00000000e+00 5.00000000e+00]\n",
            " [3.61134583e+02 7.25278948e+03 1.66400000e+03 ... 1.00000000e+00\n",
            "  0.00000000e+00 6.00000000e+00]\n",
            " [4.12520049e+03 6.89399650e+03 1.11100000e+03 ... 0.00000000e+00\n",
            "  0.00000000e+00 4.00000000e+00]\n",
            " ...\n",
            " [7.08648314e+03 9.80985779e+03 4.52300000e+03 ... 3.70000000e+01\n",
            "  0.00000000e+00 1.00000000e+00]\n",
            " [8.62528566e+03 1.66449631e+04 5.34700000e+03 ... 2.00000000e+00\n",
            "  1.40000000e+01 4.00000000e+00]\n",
            " [2.10244063e+03 1.12426131e+04 5.06300000e+03 ... 1.00000000e+00\n",
            "  1.00000000e+00 1.10000000e+01]]\n"
          ]
        }
      ]
    },
    {
      "cell_type": "code",
      "metadata": {
        "id": "aRIL1JZRPa-w"
      },
      "source": [
        "results= exported_pipeline.predict(testing_features)"
      ],
      "execution_count": null,
      "outputs": []
    },
    {
      "cell_type": "code",
      "metadata": {
        "colab": {
          "base_uri": "https://localhost:8080/"
        },
        "id": "UTVgpI4WPdjC",
        "outputId": "811f8cd2-5cd5-4e6c-8858-025ce52502f6"
      },
      "source": [
        "print(results)"
      ],
      "execution_count": null,
      "outputs": [
        {
          "output_type": "stream",
          "name": "stdout",
          "text": [
            "[1 0 1 ... 1 0 1]\n"
          ]
        }
      ]
    },
    {
      "cell_type": "code",
      "metadata": {
        "id": "3PKVFUusMj5d"
      },
      "source": [
        "test_label = pd.read_csv('/content/gdrive/MyDrive/hoseo_AI/세얼간이_1차.csv')\n",
        "\n",
        "df_test_label = pd.DataFrame({'분석대상': Test['분석대상'][0],\n",
        "                              '정답지' : results[0]\n",
        "                                  \n",
        "},index=[0])\n",
        "\n",
        "for i in range(1,len(Test)):\n",
        "  new_df_test_label = {'분석대상': Test['분석대상'][i],\n",
        "                              '정답지' : int(results[i])\n",
        "                                  \n",
        "}\n",
        "  new_df_test_label = pd.DataFrame(new_df_test_label,index=[i])\n",
        "\n",
        "  df_test_label = pd.concat([df_test_label,new_df_test_label], sort=False)\n",
        "df_test_label.to_csv('/content/gdrive/MyDrive/hoseo_AI/세얼간이_1차.csv',index=False)"
      ],
      "execution_count": null,
      "outputs": []
    },
    {
      "cell_type": "markdown",
      "metadata": {
        "id": "E6o3p68dL7eF"
      },
      "source": [
        "2번째\n"
      ]
    },
    {
      "cell_type": "code",
      "metadata": {
        "id": "pQcTUyDcL9wj"
      },
      "source": [
        ""
      ],
      "execution_count": null,
      "outputs": []
    },
    {
      "cell_type": "code",
      "metadata": {
        "id": "8Fkm7REuL9t_"
      },
      "source": [
        ""
      ],
      "execution_count": null,
      "outputs": []
    },
    {
      "cell_type": "code",
      "metadata": {
        "id": "UJ-3kYIZL9g-"
      },
      "source": [
        ""
      ],
      "execution_count": null,
      "outputs": []
    }
  ]
}